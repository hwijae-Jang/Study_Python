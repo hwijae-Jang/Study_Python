{
 "cells": [
  {
   "cell_type": "code",
   "execution_count": 1,
   "id": "512ba5c2-a0ac-4de2-b89e-dbd54618e10d",
   "metadata": {},
   "outputs": [],
   "source": [
    "import numpy as np"
   ]
  },
  {
   "cell_type": "code",
   "execution_count": 2,
   "id": "f39f4e1b-9c0e-44fb-8fca-21622d6943c3",
   "metadata": {},
   "outputs": [],
   "source": [
    "import pandas as pd"
   ]
  },
  {
   "cell_type": "markdown",
   "id": "997499ca-4ab4-4eb3-8352-947374f00722",
   "metadata": {},
   "source": [
    "# 1교시 숙제"
   ]
  },
  {
   "cell_type": "markdown",
   "id": "4cbb4cb3-f9b6-45c8-905e-2f1194e6846d",
   "metadata": {},
   "source": [
    "## 1. csv 파일 열기"
   ]
  },
  {
   "cell_type": "code",
   "execution_count": 30,
   "id": "442f9f29-c108-470c-b8ce-2e44960a9ec3",
   "metadata": {},
   "outputs": [],
   "source": [
    "titanic = pd.read_csv('https://raw.githubusercontent.com/datasciencedojo/datasets/master/titanic.csv')"
   ]
  },
  {
   "cell_type": "code",
   "execution_count": 10,
   "id": "16903f74-9093-4f60-9159-315a07467cad",
   "metadata": {},
   "outputs": [
    {
     "data": {
      "text/html": [
       "<div>\n",
       "<style scoped>\n",
       "    .dataframe tbody tr th:only-of-type {\n",
       "        vertical-align: middle;\n",
       "    }\n",
       "\n",
       "    .dataframe tbody tr th {\n",
       "        vertical-align: top;\n",
       "    }\n",
       "\n",
       "    .dataframe thead th {\n",
       "        text-align: right;\n",
       "    }\n",
       "</style>\n",
       "<table border=\"1\" class=\"dataframe\">\n",
       "  <thead>\n",
       "    <tr style=\"text-align: right;\">\n",
       "      <th></th>\n",
       "      <th>PassengerId</th>\n",
       "      <th>Survived</th>\n",
       "      <th>Pclass</th>\n",
       "      <th>Name</th>\n",
       "      <th>Sex</th>\n",
       "      <th>Age</th>\n",
       "      <th>SibSp</th>\n",
       "      <th>Parch</th>\n",
       "      <th>Ticket</th>\n",
       "      <th>Fare</th>\n",
       "      <th>Cabin</th>\n",
       "      <th>Embarked</th>\n",
       "    </tr>\n",
       "  </thead>\n",
       "  <tbody>\n",
       "    <tr>\n",
       "      <th>0</th>\n",
       "      <td>1</td>\n",
       "      <td>0</td>\n",
       "      <td>3</td>\n",
       "      <td>Braund, Mr. Owen Harris</td>\n",
       "      <td>male</td>\n",
       "      <td>22.0</td>\n",
       "      <td>1</td>\n",
       "      <td>0</td>\n",
       "      <td>A/5 21171</td>\n",
       "      <td>7.2500</td>\n",
       "      <td>NaN</td>\n",
       "      <td>S</td>\n",
       "    </tr>\n",
       "    <tr>\n",
       "      <th>1</th>\n",
       "      <td>2</td>\n",
       "      <td>1</td>\n",
       "      <td>1</td>\n",
       "      <td>Cumings, Mrs. John Bradley (Florence Briggs Th...</td>\n",
       "      <td>female</td>\n",
       "      <td>38.0</td>\n",
       "      <td>1</td>\n",
       "      <td>0</td>\n",
       "      <td>PC 17599</td>\n",
       "      <td>71.2833</td>\n",
       "      <td>C85</td>\n",
       "      <td>C</td>\n",
       "    </tr>\n",
       "    <tr>\n",
       "      <th>2</th>\n",
       "      <td>3</td>\n",
       "      <td>1</td>\n",
       "      <td>3</td>\n",
       "      <td>Heikkinen, Miss. Laina</td>\n",
       "      <td>female</td>\n",
       "      <td>26.0</td>\n",
       "      <td>0</td>\n",
       "      <td>0</td>\n",
       "      <td>STON/O2. 3101282</td>\n",
       "      <td>7.9250</td>\n",
       "      <td>NaN</td>\n",
       "      <td>S</td>\n",
       "    </tr>\n",
       "    <tr>\n",
       "      <th>3</th>\n",
       "      <td>4</td>\n",
       "      <td>1</td>\n",
       "      <td>1</td>\n",
       "      <td>Futrelle, Mrs. Jacques Heath (Lily May Peel)</td>\n",
       "      <td>female</td>\n",
       "      <td>35.0</td>\n",
       "      <td>1</td>\n",
       "      <td>0</td>\n",
       "      <td>113803</td>\n",
       "      <td>53.1000</td>\n",
       "      <td>C123</td>\n",
       "      <td>S</td>\n",
       "    </tr>\n",
       "    <tr>\n",
       "      <th>4</th>\n",
       "      <td>5</td>\n",
       "      <td>0</td>\n",
       "      <td>3</td>\n",
       "      <td>Allen, Mr. William Henry</td>\n",
       "      <td>male</td>\n",
       "      <td>35.0</td>\n",
       "      <td>0</td>\n",
       "      <td>0</td>\n",
       "      <td>373450</td>\n",
       "      <td>8.0500</td>\n",
       "      <td>NaN</td>\n",
       "      <td>S</td>\n",
       "    </tr>\n",
       "    <tr>\n",
       "      <th>...</th>\n",
       "      <td>...</td>\n",
       "      <td>...</td>\n",
       "      <td>...</td>\n",
       "      <td>...</td>\n",
       "      <td>...</td>\n",
       "      <td>...</td>\n",
       "      <td>...</td>\n",
       "      <td>...</td>\n",
       "      <td>...</td>\n",
       "      <td>...</td>\n",
       "      <td>...</td>\n",
       "      <td>...</td>\n",
       "    </tr>\n",
       "    <tr>\n",
       "      <th>886</th>\n",
       "      <td>887</td>\n",
       "      <td>0</td>\n",
       "      <td>2</td>\n",
       "      <td>Montvila, Rev. Juozas</td>\n",
       "      <td>male</td>\n",
       "      <td>27.0</td>\n",
       "      <td>0</td>\n",
       "      <td>0</td>\n",
       "      <td>211536</td>\n",
       "      <td>13.0000</td>\n",
       "      <td>NaN</td>\n",
       "      <td>S</td>\n",
       "    </tr>\n",
       "    <tr>\n",
       "      <th>887</th>\n",
       "      <td>888</td>\n",
       "      <td>1</td>\n",
       "      <td>1</td>\n",
       "      <td>Graham, Miss. Margaret Edith</td>\n",
       "      <td>female</td>\n",
       "      <td>19.0</td>\n",
       "      <td>0</td>\n",
       "      <td>0</td>\n",
       "      <td>112053</td>\n",
       "      <td>30.0000</td>\n",
       "      <td>B42</td>\n",
       "      <td>S</td>\n",
       "    </tr>\n",
       "    <tr>\n",
       "      <th>888</th>\n",
       "      <td>889</td>\n",
       "      <td>0</td>\n",
       "      <td>3</td>\n",
       "      <td>Johnston, Miss. Catherine Helen \"Carrie\"</td>\n",
       "      <td>female</td>\n",
       "      <td>NaN</td>\n",
       "      <td>1</td>\n",
       "      <td>2</td>\n",
       "      <td>W./C. 6607</td>\n",
       "      <td>23.4500</td>\n",
       "      <td>NaN</td>\n",
       "      <td>S</td>\n",
       "    </tr>\n",
       "    <tr>\n",
       "      <th>889</th>\n",
       "      <td>890</td>\n",
       "      <td>1</td>\n",
       "      <td>1</td>\n",
       "      <td>Behr, Mr. Karl Howell</td>\n",
       "      <td>male</td>\n",
       "      <td>26.0</td>\n",
       "      <td>0</td>\n",
       "      <td>0</td>\n",
       "      <td>111369</td>\n",
       "      <td>30.0000</td>\n",
       "      <td>C148</td>\n",
       "      <td>C</td>\n",
       "    </tr>\n",
       "    <tr>\n",
       "      <th>890</th>\n",
       "      <td>891</td>\n",
       "      <td>0</td>\n",
       "      <td>3</td>\n",
       "      <td>Dooley, Mr. Patrick</td>\n",
       "      <td>male</td>\n",
       "      <td>32.0</td>\n",
       "      <td>0</td>\n",
       "      <td>0</td>\n",
       "      <td>370376</td>\n",
       "      <td>7.7500</td>\n",
       "      <td>NaN</td>\n",
       "      <td>Q</td>\n",
       "    </tr>\n",
       "  </tbody>\n",
       "</table>\n",
       "<p>891 rows × 12 columns</p>\n",
       "</div>"
      ],
      "text/plain": [
       "     PassengerId  Survived  Pclass  \\\n",
       "0              1         0       3   \n",
       "1              2         1       1   \n",
       "2              3         1       3   \n",
       "3              4         1       1   \n",
       "4              5         0       3   \n",
       "..           ...       ...     ...   \n",
       "886          887         0       2   \n",
       "887          888         1       1   \n",
       "888          889         0       3   \n",
       "889          890         1       1   \n",
       "890          891         0       3   \n",
       "\n",
       "                                                  Name     Sex   Age  SibSp  \\\n",
       "0                              Braund, Mr. Owen Harris    male  22.0      1   \n",
       "1    Cumings, Mrs. John Bradley (Florence Briggs Th...  female  38.0      1   \n",
       "2                               Heikkinen, Miss. Laina  female  26.0      0   \n",
       "3         Futrelle, Mrs. Jacques Heath (Lily May Peel)  female  35.0      1   \n",
       "4                             Allen, Mr. William Henry    male  35.0      0   \n",
       "..                                                 ...     ...   ...    ...   \n",
       "886                              Montvila, Rev. Juozas    male  27.0      0   \n",
       "887                       Graham, Miss. Margaret Edith  female  19.0      0   \n",
       "888           Johnston, Miss. Catherine Helen \"Carrie\"  female   NaN      1   \n",
       "889                              Behr, Mr. Karl Howell    male  26.0      0   \n",
       "890                                Dooley, Mr. Patrick    male  32.0      0   \n",
       "\n",
       "     Parch            Ticket     Fare Cabin Embarked  \n",
       "0        0         A/5 21171   7.2500   NaN        S  \n",
       "1        0          PC 17599  71.2833   C85        C  \n",
       "2        0  STON/O2. 3101282   7.9250   NaN        S  \n",
       "3        0            113803  53.1000  C123        S  \n",
       "4        0            373450   8.0500   NaN        S  \n",
       "..     ...               ...      ...   ...      ...  \n",
       "886      0            211536  13.0000   NaN        S  \n",
       "887      0            112053  30.0000   B42        S  \n",
       "888      2        W./C. 6607  23.4500   NaN        S  \n",
       "889      0            111369  30.0000  C148        C  \n",
       "890      0            370376   7.7500   NaN        Q  \n",
       "\n",
       "[891 rows x 12 columns]"
      ]
     },
     "execution_count": 10,
     "metadata": {},
     "output_type": "execute_result"
    }
   ],
   "source": [
    "titanic"
   ]
  },
  {
   "cell_type": "markdown",
   "id": "b755aff2-4b2f-4aba-8453-9f43f6c16c45",
   "metadata": {},
   "source": [
    "### 1-1. 생존자 수"
   ]
  },
  {
   "cell_type": "code",
   "execution_count": 20,
   "id": "f441f2a6-e828-4e14-a5da-667090d4126d",
   "metadata": {},
   "outputs": [
    {
     "data": {
      "text/plain": [
       "0      0\n",
       "1      1\n",
       "2      1\n",
       "3      1\n",
       "4      0\n",
       "      ..\n",
       "886    0\n",
       "887    1\n",
       "888    0\n",
       "889    1\n",
       "890    0\n",
       "Name: Survived, Length: 891, dtype: int64"
      ]
     },
     "execution_count": 20,
     "metadata": {},
     "output_type": "execute_result"
    }
   ],
   "source": [
    "titanic['Survived']"
   ]
  },
  {
   "cell_type": "markdown",
   "id": "cc7d8926-ea16-4ff6-9b7b-993a5ffd8277",
   "metadata": {},
   "source": [
    "### 1-2. 사망자 수"
   ]
  },
  {
   "cell_type": "code",
   "execution_count": 19,
   "id": "df5fbfab-6c58-47b3-99ab-f6ce2f29f4a4",
   "metadata": {},
   "outputs": [
    {
     "data": {
      "text/plain": [
       "0    549\n",
       "1    342\n",
       "Name: Survived, dtype: int64"
      ]
     },
     "execution_count": 19,
     "metadata": {},
     "output_type": "execute_result"
    }
   ],
   "source": [
    "titanic['Survived'].value_counts()"
   ]
  },
  {
   "cell_type": "code",
   "execution_count": 26,
   "id": "a83da37c-bd91-466f-b4ea-ed6c87c72ad5",
   "metadata": {},
   "outputs": [
    {
     "data": {
      "text/plain": [
       "549"
      ]
     },
     "execution_count": 26,
     "metadata": {},
     "output_type": "execute_result"
    }
   ],
   "source": [
    "# 방법 1\n",
    "titanic['Survived'].count()-titanic['Survived'].sum() "
   ]
  },
  {
   "cell_type": "code",
   "execution_count": 27,
   "id": "e3f78bb1-399c-461c-9b37-89bbbc2c2e5b",
   "metadata": {},
   "outputs": [],
   "source": [
    "# 방법 2"
   ]
  },
  {
   "cell_type": "code",
   "execution_count": 23,
   "id": "db80c1eb-df33-45f6-ad13-a474ae60bf1b",
   "metadata": {},
   "outputs": [
    {
     "data": {
      "text/plain": [
       "549"
      ]
     },
     "execution_count": 23,
     "metadata": {},
     "output_type": "execute_result"
    }
   ],
   "source": [
    "(titanic[\"Survived\"]==0).sum()"
   ]
  },
  {
   "cell_type": "code",
   "execution_count": 28,
   "id": "60068bd4-9ee3-492d-817c-0ec943253f3c",
   "metadata": {},
   "outputs": [],
   "source": [
    "# 방법 3"
   ]
  },
  {
   "cell_type": "code",
   "execution_count": 25,
   "id": "fa934a8f-75f1-4e85-b76c-2f7a778902c9",
   "metadata": {},
   "outputs": [
    {
     "data": {
      "text/plain": [
       "549"
      ]
     },
     "execution_count": 25,
     "metadata": {},
     "output_type": "execute_result"
    }
   ],
   "source": [
    "len(titanic[\"Survived\"])-titanic[\"Survived\"].sum()"
   ]
  },
  {
   "cell_type": "markdown",
   "id": "9d5cb7b1-bdd9-41df-a998-dc39cd057de1",
   "metadata": {},
   "source": [
    "## 2. csv 파일 읽기"
   ]
  },
  {
   "cell_type": "code",
   "execution_count": 35,
   "id": "2896e43c-cee6-4e0c-b9f3-66e5f60b71a4",
   "metadata": {},
   "outputs": [
    {
     "data": {
      "text/html": [
       "<div>\n",
       "<style scoped>\n",
       "    .dataframe tbody tr th:only-of-type {\n",
       "        vertical-align: middle;\n",
       "    }\n",
       "\n",
       "    .dataframe tbody tr th {\n",
       "        vertical-align: top;\n",
       "    }\n",
       "\n",
       "    .dataframe thead th {\n",
       "        text-align: right;\n",
       "    }\n",
       "</style>\n",
       "<table border=\"1\" class=\"dataframe\">\n",
       "  <thead>\n",
       "    <tr style=\"text-align: right;\">\n",
       "      <th></th>\n",
       "      <th>sepal.length</th>\n",
       "      <th>sepal.width</th>\n",
       "      <th>petal.length</th>\n",
       "      <th>petal.width</th>\n",
       "      <th>variety</th>\n",
       "    </tr>\n",
       "  </thead>\n",
       "  <tbody>\n",
       "    <tr>\n",
       "      <th>0</th>\n",
       "      <td>5.1</td>\n",
       "      <td>3.5</td>\n",
       "      <td>1.4</td>\n",
       "      <td>0.2</td>\n",
       "      <td>Setosa</td>\n",
       "    </tr>\n",
       "    <tr>\n",
       "      <th>1</th>\n",
       "      <td>4.9</td>\n",
       "      <td>3.0</td>\n",
       "      <td>1.4</td>\n",
       "      <td>0.2</td>\n",
       "      <td>Setosa</td>\n",
       "    </tr>\n",
       "    <tr>\n",
       "      <th>2</th>\n",
       "      <td>4.7</td>\n",
       "      <td>3.2</td>\n",
       "      <td>1.3</td>\n",
       "      <td>0.2</td>\n",
       "      <td>Setosa</td>\n",
       "    </tr>\n",
       "    <tr>\n",
       "      <th>3</th>\n",
       "      <td>4.6</td>\n",
       "      <td>3.1</td>\n",
       "      <td>1.5</td>\n",
       "      <td>0.2</td>\n",
       "      <td>Setosa</td>\n",
       "    </tr>\n",
       "    <tr>\n",
       "      <th>4</th>\n",
       "      <td>5.0</td>\n",
       "      <td>3.6</td>\n",
       "      <td>1.4</td>\n",
       "      <td>0.2</td>\n",
       "      <td>Setosa</td>\n",
       "    </tr>\n",
       "    <tr>\n",
       "      <th>...</th>\n",
       "      <td>...</td>\n",
       "      <td>...</td>\n",
       "      <td>...</td>\n",
       "      <td>...</td>\n",
       "      <td>...</td>\n",
       "    </tr>\n",
       "    <tr>\n",
       "      <th>145</th>\n",
       "      <td>6.7</td>\n",
       "      <td>3.0</td>\n",
       "      <td>5.2</td>\n",
       "      <td>2.3</td>\n",
       "      <td>Virginica</td>\n",
       "    </tr>\n",
       "    <tr>\n",
       "      <th>146</th>\n",
       "      <td>6.3</td>\n",
       "      <td>2.5</td>\n",
       "      <td>5.0</td>\n",
       "      <td>1.9</td>\n",
       "      <td>Virginica</td>\n",
       "    </tr>\n",
       "    <tr>\n",
       "      <th>147</th>\n",
       "      <td>6.5</td>\n",
       "      <td>3.0</td>\n",
       "      <td>5.2</td>\n",
       "      <td>2.0</td>\n",
       "      <td>Virginica</td>\n",
       "    </tr>\n",
       "    <tr>\n",
       "      <th>148</th>\n",
       "      <td>6.2</td>\n",
       "      <td>3.4</td>\n",
       "      <td>5.4</td>\n",
       "      <td>2.3</td>\n",
       "      <td>Virginica</td>\n",
       "    </tr>\n",
       "    <tr>\n",
       "      <th>149</th>\n",
       "      <td>5.9</td>\n",
       "      <td>3.0</td>\n",
       "      <td>5.1</td>\n",
       "      <td>1.8</td>\n",
       "      <td>Virginica</td>\n",
       "    </tr>\n",
       "  </tbody>\n",
       "</table>\n",
       "<p>150 rows × 5 columns</p>\n",
       "</div>"
      ],
      "text/plain": [
       "     sepal.length  sepal.width  petal.length  petal.width    variety\n",
       "0             5.1          3.5           1.4          0.2     Setosa\n",
       "1             4.9          3.0           1.4          0.2     Setosa\n",
       "2             4.7          3.2           1.3          0.2     Setosa\n",
       "3             4.6          3.1           1.5          0.2     Setosa\n",
       "4             5.0          3.6           1.4          0.2     Setosa\n",
       "..            ...          ...           ...          ...        ...\n",
       "145           6.7          3.0           5.2          2.3  Virginica\n",
       "146           6.3          2.5           5.0          1.9  Virginica\n",
       "147           6.5          3.0           5.2          2.0  Virginica\n",
       "148           6.2          3.4           5.4          2.3  Virginica\n",
       "149           5.9          3.0           5.1          1.8  Virginica\n",
       "\n",
       "[150 rows x 5 columns]"
      ]
     },
     "execution_count": 35,
     "metadata": {},
     "output_type": "execute_result"
    }
   ],
   "source": [
    "iris = pd.read_csv(\"https://gist.githubusercontent.com/netj/8836201/raw/6f9306ad21398ea43cba4f7d537619d0e07d5ae3/iris.csv\")\n",
    "iris"
   ]
  },
  {
   "cell_type": "markdown",
   "id": "9959c885-e475-42e1-b1b6-c8dbf1b5ca1f",
   "metadata": {},
   "source": [
    "### 2-1. variety 의 종류는 몇 가지?"
   ]
  },
  {
   "cell_type": "code",
   "execution_count": 36,
   "id": "a4163091-dede-4645-a45f-c833cc48e798",
   "metadata": {},
   "outputs": [
    {
     "data": {
      "text/plain": [
       "array(['Setosa', 'Versicolor', 'Virginica'], dtype=object)"
      ]
     },
     "execution_count": 36,
     "metadata": {},
     "output_type": "execute_result"
    }
   ],
   "source": [
    "iris['variety'].unique()"
   ]
  },
  {
   "cell_type": "code",
   "execution_count": 42,
   "id": "74404008-08cc-4c80-b104-f91f4a3afe67",
   "metadata": {},
   "outputs": [
    {
     "data": {
      "text/plain": [
       "3"
      ]
     },
     "execution_count": 42,
     "metadata": {},
     "output_type": "execute_result"
    }
   ],
   "source": [
    "iris['variety'].unique().__len__()"
   ]
  },
  {
   "cell_type": "code",
   "execution_count": 45,
   "id": "aab6b59f-de91-4e92-97e9-03a3bb681862",
   "metadata": {},
   "outputs": [
    {
     "data": {
      "text/plain": [
       "3"
      ]
     },
     "execution_count": 45,
     "metadata": {},
     "output_type": "execute_result"
    }
   ],
   "source": [
    "len(iris['variety'].unique())"
   ]
  },
  {
   "cell_type": "code",
   "execution_count": 46,
   "id": "5565217b-7e6d-42e1-b054-066243e156cd",
   "metadata": {},
   "outputs": [
    {
     "data": {
      "text/plain": [
       "{'Setosa', 'Versicolor', 'Virginica'}"
      ]
     },
     "execution_count": 46,
     "metadata": {},
     "output_type": "execute_result"
    }
   ],
   "source": [
    "set(iris['variety'])"
   ]
  },
  {
   "cell_type": "code",
   "execution_count": 47,
   "id": "a19428c9-03ab-421a-852d-f70b62a2ad22",
   "metadata": {},
   "outputs": [
    {
     "data": {
      "text/plain": [
       "3"
      ]
     },
     "execution_count": 47,
     "metadata": {},
     "output_type": "execute_result"
    }
   ],
   "source": [
    "len(set(iris['variety']))"
   ]
  },
  {
   "cell_type": "code",
   "execution_count": 48,
   "id": "63b86acb-dbdc-457c-9949-18ff49de4ee9",
   "metadata": {},
   "outputs": [
    {
     "data": {
      "text/plain": [
       "3"
      ]
     },
     "execution_count": 48,
     "metadata": {},
     "output_type": "execute_result"
    }
   ],
   "source": [
    "set(iris['variety']).__len__()"
   ]
  },
  {
   "cell_type": "markdown",
   "id": "2e0b818a-5d18-419d-a215-ef26cbc7fb12",
   "metadata": {},
   "source": [
    "### 2-2. variety 칼럼 원소들을 소문자로 바꾸기"
   ]
  },
  {
   "cell_type": "code",
   "execution_count": 52,
   "id": "e7a7cc24-bebb-4f4d-94f7-4da3fd546da1",
   "metadata": {},
   "outputs": [
    {
     "data": {
      "text/plain": [
       "0         setosa\n",
       "1         setosa\n",
       "2         setosa\n",
       "3         setosa\n",
       "4         setosa\n",
       "         ...    \n",
       "145    virginica\n",
       "146    virginica\n",
       "147    virginica\n",
       "148    virginica\n",
       "149    virginica\n",
       "Name: variety, Length: 150, dtype: object"
      ]
     },
     "execution_count": 52,
     "metadata": {},
     "output_type": "execute_result"
    }
   ],
   "source": [
    "# 덮어쓰기 까지\n",
    "iris['variety'] = iris['variety'].str.lower()\n",
    "iris['variety']"
   ]
  },
  {
   "cell_type": "code",
   "execution_count": 55,
   "id": "72fe1c82-e71c-4b91-bfd7-c30d28161fea",
   "metadata": {},
   "outputs": [
    {
     "data": {
      "text/plain": [
       "0         setosa\n",
       "1         setosa\n",
       "2         setosa\n",
       "3         setosa\n",
       "4         setosa\n",
       "         ...    \n",
       "145    virginica\n",
       "146    virginica\n",
       "147    virginica\n",
       "148    virginica\n",
       "149    virginica\n",
       "Name: variety, Length: 150, dtype: object"
      ]
     },
     "execution_count": 55,
     "metadata": {},
     "output_type": "execute_result"
    }
   ],
   "source": [
    "iris.variety = [col.lower() for col in iris.variety]\n",
    "iris.variety"
   ]
  },
  {
   "cell_type": "code",
   "execution_count": 56,
   "id": "806752be-aca9-4a69-821a-a86a71937536",
   "metadata": {},
   "outputs": [],
   "source": [
    "iris.variety = [col.lower() for col in iris['variety']]"
   ]
  },
  {
   "cell_type": "code",
   "execution_count": 58,
   "id": "2515edac-7360-4a99-9876-ed7914a4369f",
   "metadata": {},
   "outputs": [],
   "source": [
    "# map(function, data)\n",
    "# lambda 칼럼: 칼럼 안 원소들\n",
    "iris['variety'] = list(map(lambda a:a.lower(), iris['variety'])) "
   ]
  },
  {
   "cell_type": "code",
   "execution_count": 61,
   "id": "6defb59a-3fe6-4935-b644-92093919dbab",
   "metadata": {},
   "outputs": [],
   "source": [
    "iris['variety'] = list(map(str.lower, iris['variety']))"
   ]
  },
  {
   "cell_type": "markdown",
   "id": "0d8f856b-a142-4752-b379-f62cb90d9cb4",
   "metadata": {},
   "source": [
    "### 2-3. sepal.length 이 5 이상인 데이터만 불러오세요"
   ]
  },
  {
   "cell_type": "code",
   "execution_count": 64,
   "id": "308a5e94-ffd8-4a93-b367-1dfd61f6659a",
   "metadata": {},
   "outputs": [
    {
     "data": {
      "text/plain": [
       "0       True\n",
       "1      False\n",
       "2      False\n",
       "3      False\n",
       "4       True\n",
       "       ...  \n",
       "145     True\n",
       "146     True\n",
       "147     True\n",
       "148     True\n",
       "149     True\n",
       "Name: sepal.length, Length: 150, dtype: bool"
      ]
     },
     "execution_count": 64,
     "metadata": {},
     "output_type": "execute_result"
    }
   ],
   "source": [
    "iris['sepal.length']>=5"
   ]
  },
  {
   "cell_type": "code",
   "execution_count": 65,
   "id": "614c601d-f8c8-4032-b821-319ea8e7a32e",
   "metadata": {},
   "outputs": [
    {
     "data": {
      "text/html": [
       "<div>\n",
       "<style scoped>\n",
       "    .dataframe tbody tr th:only-of-type {\n",
       "        vertical-align: middle;\n",
       "    }\n",
       "\n",
       "    .dataframe tbody tr th {\n",
       "        vertical-align: top;\n",
       "    }\n",
       "\n",
       "    .dataframe thead th {\n",
       "        text-align: right;\n",
       "    }\n",
       "</style>\n",
       "<table border=\"1\" class=\"dataframe\">\n",
       "  <thead>\n",
       "    <tr style=\"text-align: right;\">\n",
       "      <th></th>\n",
       "      <th>sepal.length</th>\n",
       "      <th>sepal.width</th>\n",
       "      <th>petal.length</th>\n",
       "      <th>petal.width</th>\n",
       "      <th>variety</th>\n",
       "    </tr>\n",
       "  </thead>\n",
       "  <tbody>\n",
       "    <tr>\n",
       "      <th>0</th>\n",
       "      <td>5.1</td>\n",
       "      <td>3.5</td>\n",
       "      <td>1.4</td>\n",
       "      <td>0.2</td>\n",
       "      <td>setosa</td>\n",
       "    </tr>\n",
       "    <tr>\n",
       "      <th>4</th>\n",
       "      <td>5.0</td>\n",
       "      <td>3.6</td>\n",
       "      <td>1.4</td>\n",
       "      <td>0.2</td>\n",
       "      <td>setosa</td>\n",
       "    </tr>\n",
       "    <tr>\n",
       "      <th>5</th>\n",
       "      <td>5.4</td>\n",
       "      <td>3.9</td>\n",
       "      <td>1.7</td>\n",
       "      <td>0.4</td>\n",
       "      <td>setosa</td>\n",
       "    </tr>\n",
       "    <tr>\n",
       "      <th>7</th>\n",
       "      <td>5.0</td>\n",
       "      <td>3.4</td>\n",
       "      <td>1.5</td>\n",
       "      <td>0.2</td>\n",
       "      <td>setosa</td>\n",
       "    </tr>\n",
       "    <tr>\n",
       "      <th>10</th>\n",
       "      <td>5.4</td>\n",
       "      <td>3.7</td>\n",
       "      <td>1.5</td>\n",
       "      <td>0.2</td>\n",
       "      <td>setosa</td>\n",
       "    </tr>\n",
       "    <tr>\n",
       "      <th>...</th>\n",
       "      <td>...</td>\n",
       "      <td>...</td>\n",
       "      <td>...</td>\n",
       "      <td>...</td>\n",
       "      <td>...</td>\n",
       "    </tr>\n",
       "    <tr>\n",
       "      <th>145</th>\n",
       "      <td>6.7</td>\n",
       "      <td>3.0</td>\n",
       "      <td>5.2</td>\n",
       "      <td>2.3</td>\n",
       "      <td>virginica</td>\n",
       "    </tr>\n",
       "    <tr>\n",
       "      <th>146</th>\n",
       "      <td>6.3</td>\n",
       "      <td>2.5</td>\n",
       "      <td>5.0</td>\n",
       "      <td>1.9</td>\n",
       "      <td>virginica</td>\n",
       "    </tr>\n",
       "    <tr>\n",
       "      <th>147</th>\n",
       "      <td>6.5</td>\n",
       "      <td>3.0</td>\n",
       "      <td>5.2</td>\n",
       "      <td>2.0</td>\n",
       "      <td>virginica</td>\n",
       "    </tr>\n",
       "    <tr>\n",
       "      <th>148</th>\n",
       "      <td>6.2</td>\n",
       "      <td>3.4</td>\n",
       "      <td>5.4</td>\n",
       "      <td>2.3</td>\n",
       "      <td>virginica</td>\n",
       "    </tr>\n",
       "    <tr>\n",
       "      <th>149</th>\n",
       "      <td>5.9</td>\n",
       "      <td>3.0</td>\n",
       "      <td>5.1</td>\n",
       "      <td>1.8</td>\n",
       "      <td>virginica</td>\n",
       "    </tr>\n",
       "  </tbody>\n",
       "</table>\n",
       "<p>128 rows × 5 columns</p>\n",
       "</div>"
      ],
      "text/plain": [
       "     sepal.length  sepal.width  petal.length  petal.width    variety\n",
       "0             5.1          3.5           1.4          0.2     setosa\n",
       "4             5.0          3.6           1.4          0.2     setosa\n",
       "5             5.4          3.9           1.7          0.4     setosa\n",
       "7             5.0          3.4           1.5          0.2     setosa\n",
       "10            5.4          3.7           1.5          0.2     setosa\n",
       "..            ...          ...           ...          ...        ...\n",
       "145           6.7          3.0           5.2          2.3  virginica\n",
       "146           6.3          2.5           5.0          1.9  virginica\n",
       "147           6.5          3.0           5.2          2.0  virginica\n",
       "148           6.2          3.4           5.4          2.3  virginica\n",
       "149           5.9          3.0           5.1          1.8  virginica\n",
       "\n",
       "[128 rows x 5 columns]"
      ]
     },
     "execution_count": 65,
     "metadata": {},
     "output_type": "execute_result"
    }
   ],
   "source": [
    "iris[iris['sepal.length']>=5]"
   ]
  },
  {
   "cell_type": "markdown",
   "id": "1058e7f7-28ea-4d46-bf05-6846d36d18f3",
   "metadata": {},
   "source": [
    "## 3. "
   ]
  },
  {
   "cell_type": "markdown",
   "id": "f8ccc8d7-1717-474e-9512-69e1896e23b4",
   "metadata": {},
   "source": [
    "### 3-1. ticket 칼럼에서 P 로 시작하는 원소들만 뽑으세요"
   ]
  },
  {
   "cell_type": "code",
   "execution_count": 71,
   "id": "80ecf3b6-b235-4655-89a7-638dc049542b",
   "metadata": {},
   "outputs": [
    {
     "data": {
      "text/plain": [
       "0      False\n",
       "1       True\n",
       "2      False\n",
       "3      False\n",
       "4      False\n",
       "       ...  \n",
       "886    False\n",
       "887    False\n",
       "888    False\n",
       "889    False\n",
       "890    False\n",
       "Name: Ticket, Length: 891, dtype: bool"
      ]
     },
     "execution_count": 71,
     "metadata": {},
     "output_type": "execute_result"
    }
   ],
   "source": [
    "titanic['Ticket'].str.contains(\"^P.+\")"
   ]
  },
  {
   "cell_type": "code",
   "execution_count": 72,
   "id": "94488a77-232a-42c6-9cb9-224f84246967",
   "metadata": {},
   "outputs": [
    {
     "data": {
      "text/html": [
       "<div>\n",
       "<style scoped>\n",
       "    .dataframe tbody tr th:only-of-type {\n",
       "        vertical-align: middle;\n",
       "    }\n",
       "\n",
       "    .dataframe tbody tr th {\n",
       "        vertical-align: top;\n",
       "    }\n",
       "\n",
       "    .dataframe thead th {\n",
       "        text-align: right;\n",
       "    }\n",
       "</style>\n",
       "<table border=\"1\" class=\"dataframe\">\n",
       "  <thead>\n",
       "    <tr style=\"text-align: right;\">\n",
       "      <th></th>\n",
       "      <th>PassengerId</th>\n",
       "      <th>Survived</th>\n",
       "      <th>Pclass</th>\n",
       "      <th>Name</th>\n",
       "      <th>Sex</th>\n",
       "      <th>Age</th>\n",
       "      <th>SibSp</th>\n",
       "      <th>Parch</th>\n",
       "      <th>Ticket</th>\n",
       "      <th>Fare</th>\n",
       "      <th>Cabin</th>\n",
       "      <th>Embarked</th>\n",
       "    </tr>\n",
       "  </thead>\n",
       "  <tbody>\n",
       "    <tr>\n",
       "      <th>1</th>\n",
       "      <td>2</td>\n",
       "      <td>1</td>\n",
       "      <td>1</td>\n",
       "      <td>Cumings, Mrs. John Bradley (Florence Briggs Th...</td>\n",
       "      <td>female</td>\n",
       "      <td>38.0</td>\n",
       "      <td>1</td>\n",
       "      <td>0</td>\n",
       "      <td>PC 17599</td>\n",
       "      <td>71.2833</td>\n",
       "      <td>C85</td>\n",
       "      <td>C</td>\n",
       "    </tr>\n",
       "    <tr>\n",
       "      <th>10</th>\n",
       "      <td>11</td>\n",
       "      <td>1</td>\n",
       "      <td>3</td>\n",
       "      <td>Sandstrom, Miss. Marguerite Rut</td>\n",
       "      <td>female</td>\n",
       "      <td>4.0</td>\n",
       "      <td>1</td>\n",
       "      <td>1</td>\n",
       "      <td>PP 9549</td>\n",
       "      <td>16.7000</td>\n",
       "      <td>G6</td>\n",
       "      <td>S</td>\n",
       "    </tr>\n",
       "    <tr>\n",
       "      <th>30</th>\n",
       "      <td>31</td>\n",
       "      <td>0</td>\n",
       "      <td>1</td>\n",
       "      <td>Uruchurtu, Don. Manuel E</td>\n",
       "      <td>male</td>\n",
       "      <td>40.0</td>\n",
       "      <td>0</td>\n",
       "      <td>0</td>\n",
       "      <td>PC 17601</td>\n",
       "      <td>27.7208</td>\n",
       "      <td>NaN</td>\n",
       "      <td>C</td>\n",
       "    </tr>\n",
       "    <tr>\n",
       "      <th>31</th>\n",
       "      <td>32</td>\n",
       "      <td>1</td>\n",
       "      <td>1</td>\n",
       "      <td>Spencer, Mrs. William Augustus (Marie Eugenie)</td>\n",
       "      <td>female</td>\n",
       "      <td>NaN</td>\n",
       "      <td>1</td>\n",
       "      <td>0</td>\n",
       "      <td>PC 17569</td>\n",
       "      <td>146.5208</td>\n",
       "      <td>B78</td>\n",
       "      <td>C</td>\n",
       "    </tr>\n",
       "    <tr>\n",
       "      <th>34</th>\n",
       "      <td>35</td>\n",
       "      <td>0</td>\n",
       "      <td>1</td>\n",
       "      <td>Meyer, Mr. Edgar Joseph</td>\n",
       "      <td>male</td>\n",
       "      <td>28.0</td>\n",
       "      <td>1</td>\n",
       "      <td>0</td>\n",
       "      <td>PC 17604</td>\n",
       "      <td>82.1708</td>\n",
       "      <td>NaN</td>\n",
       "      <td>C</td>\n",
       "    </tr>\n",
       "    <tr>\n",
       "      <th>...</th>\n",
       "      <td>...</td>\n",
       "      <td>...</td>\n",
       "      <td>...</td>\n",
       "      <td>...</td>\n",
       "      <td>...</td>\n",
       "      <td>...</td>\n",
       "      <td>...</td>\n",
       "      <td>...</td>\n",
       "      <td>...</td>\n",
       "      <td>...</td>\n",
       "      <td>...</td>\n",
       "      <td>...</td>\n",
       "    </tr>\n",
       "    <tr>\n",
       "      <th>793</th>\n",
       "      <td>794</td>\n",
       "      <td>0</td>\n",
       "      <td>1</td>\n",
       "      <td>Hoyt, Mr. William Fisher</td>\n",
       "      <td>male</td>\n",
       "      <td>NaN</td>\n",
       "      <td>0</td>\n",
       "      <td>0</td>\n",
       "      <td>PC 17600</td>\n",
       "      <td>30.6958</td>\n",
       "      <td>NaN</td>\n",
       "      <td>C</td>\n",
       "    </tr>\n",
       "    <tr>\n",
       "      <th>835</th>\n",
       "      <td>836</td>\n",
       "      <td>1</td>\n",
       "      <td>1</td>\n",
       "      <td>Compton, Miss. Sara Rebecca</td>\n",
       "      <td>female</td>\n",
       "      <td>39.0</td>\n",
       "      <td>1</td>\n",
       "      <td>1</td>\n",
       "      <td>PC 17756</td>\n",
       "      <td>83.1583</td>\n",
       "      <td>E49</td>\n",
       "      <td>C</td>\n",
       "    </tr>\n",
       "    <tr>\n",
       "      <th>853</th>\n",
       "      <td>854</td>\n",
       "      <td>1</td>\n",
       "      <td>1</td>\n",
       "      <td>Lines, Miss. Mary Conover</td>\n",
       "      <td>female</td>\n",
       "      <td>16.0</td>\n",
       "      <td>0</td>\n",
       "      <td>1</td>\n",
       "      <td>PC 17592</td>\n",
       "      <td>39.4000</td>\n",
       "      <td>D28</td>\n",
       "      <td>S</td>\n",
       "    </tr>\n",
       "    <tr>\n",
       "      <th>867</th>\n",
       "      <td>868</td>\n",
       "      <td>0</td>\n",
       "      <td>1</td>\n",
       "      <td>Roebling, Mr. Washington Augustus II</td>\n",
       "      <td>male</td>\n",
       "      <td>31.0</td>\n",
       "      <td>0</td>\n",
       "      <td>0</td>\n",
       "      <td>PC 17590</td>\n",
       "      <td>50.4958</td>\n",
       "      <td>A24</td>\n",
       "      <td>S</td>\n",
       "    </tr>\n",
       "    <tr>\n",
       "      <th>874</th>\n",
       "      <td>875</td>\n",
       "      <td>1</td>\n",
       "      <td>2</td>\n",
       "      <td>Abelson, Mrs. Samuel (Hannah Wizosky)</td>\n",
       "      <td>female</td>\n",
       "      <td>28.0</td>\n",
       "      <td>1</td>\n",
       "      <td>0</td>\n",
       "      <td>P/PP 3381</td>\n",
       "      <td>24.0000</td>\n",
       "      <td>NaN</td>\n",
       "      <td>C</td>\n",
       "    </tr>\n",
       "  </tbody>\n",
       "</table>\n",
       "<p>65 rows × 12 columns</p>\n",
       "</div>"
      ],
      "text/plain": [
       "     PassengerId  Survived  Pclass  \\\n",
       "1              2         1       1   \n",
       "10            11         1       3   \n",
       "30            31         0       1   \n",
       "31            32         1       1   \n",
       "34            35         0       1   \n",
       "..           ...       ...     ...   \n",
       "793          794         0       1   \n",
       "835          836         1       1   \n",
       "853          854         1       1   \n",
       "867          868         0       1   \n",
       "874          875         1       2   \n",
       "\n",
       "                                                  Name     Sex   Age  SibSp  \\\n",
       "1    Cumings, Mrs. John Bradley (Florence Briggs Th...  female  38.0      1   \n",
       "10                     Sandstrom, Miss. Marguerite Rut  female   4.0      1   \n",
       "30                            Uruchurtu, Don. Manuel E    male  40.0      0   \n",
       "31      Spencer, Mrs. William Augustus (Marie Eugenie)  female   NaN      1   \n",
       "34                             Meyer, Mr. Edgar Joseph    male  28.0      1   \n",
       "..                                                 ...     ...   ...    ...   \n",
       "793                           Hoyt, Mr. William Fisher    male   NaN      0   \n",
       "835                        Compton, Miss. Sara Rebecca  female  39.0      1   \n",
       "853                          Lines, Miss. Mary Conover  female  16.0      0   \n",
       "867               Roebling, Mr. Washington Augustus II    male  31.0      0   \n",
       "874              Abelson, Mrs. Samuel (Hannah Wizosky)  female  28.0      1   \n",
       "\n",
       "     Parch     Ticket      Fare Cabin Embarked  \n",
       "1        0   PC 17599   71.2833   C85        C  \n",
       "10       1    PP 9549   16.7000    G6        S  \n",
       "30       0   PC 17601   27.7208   NaN        C  \n",
       "31       0   PC 17569  146.5208   B78        C  \n",
       "34       0   PC 17604   82.1708   NaN        C  \n",
       "..     ...        ...       ...   ...      ...  \n",
       "793      0   PC 17600   30.6958   NaN        C  \n",
       "835      1   PC 17756   83.1583   E49        C  \n",
       "853      1   PC 17592   39.4000   D28        S  \n",
       "867      0   PC 17590   50.4958   A24        S  \n",
       "874      0  P/PP 3381   24.0000   NaN        C  \n",
       "\n",
       "[65 rows x 12 columns]"
      ]
     },
     "execution_count": 72,
     "metadata": {},
     "output_type": "execute_result"
    }
   ],
   "source": [
    "titanic[titanic['Ticket'].str.contains(\"^P.+\")]"
   ]
  },
  {
   "cell_type": "code",
   "execution_count": null,
   "id": "f80d4ad9-590f-4423-9f35-925374353d1c",
   "metadata": {},
   "outputs": [],
   "source": []
  },
  {
   "cell_type": "code",
   "execution_count": null,
   "id": "a58bda13-a995-4bea-a311-9d053223dd69",
   "metadata": {},
   "outputs": [],
   "source": []
  },
  {
   "cell_type": "markdown",
   "id": "7bb8a45b-803e-4783-9704-03e565f00bea",
   "metadata": {},
   "source": [
    "### 3-2. firstname과 lastname 칼럼을 붙여서 name이라는 새로운 칼럼을 만들어주세요"
   ]
  },
  {
   "cell_type": "code",
   "execution_count": 75,
   "id": "a5312285-237c-4308-b0af-e5b52b72c44b",
   "metadata": {},
   "outputs": [
    {
     "data": {
      "text/html": [
       "<div>\n",
       "<style scoped>\n",
       "    .dataframe tbody tr th:only-of-type {\n",
       "        vertical-align: middle;\n",
       "    }\n",
       "\n",
       "    .dataframe tbody tr th {\n",
       "        vertical-align: top;\n",
       "    }\n",
       "\n",
       "    .dataframe thead th {\n",
       "        text-align: right;\n",
       "    }\n",
       "</style>\n",
       "<table border=\"1\" class=\"dataframe\">\n",
       "  <thead>\n",
       "    <tr style=\"text-align: right;\">\n",
       "      <th></th>\n",
       "      <th>EMPLOYEE_ID</th>\n",
       "      <th>FIRST_NAME</th>\n",
       "      <th>LAST_NAME</th>\n",
       "      <th>EMAIL</th>\n",
       "      <th>PHONE_NUMBER</th>\n",
       "      <th>HIRE_DATE</th>\n",
       "      <th>JOB_ID</th>\n",
       "      <th>SALARY</th>\n",
       "      <th>COMMISSION_PCT</th>\n",
       "      <th>MANAGER_ID</th>\n",
       "      <th>DEPARTMENT_ID</th>\n",
       "    </tr>\n",
       "  </thead>\n",
       "  <tbody>\n",
       "    <tr>\n",
       "      <th>0</th>\n",
       "      <td>198</td>\n",
       "      <td>Donald</td>\n",
       "      <td>OConnell</td>\n",
       "      <td>DOCONNEL</td>\n",
       "      <td>650.507.9833</td>\n",
       "      <td>21-JUN-07</td>\n",
       "      <td>SH_CLERK</td>\n",
       "      <td>2600</td>\n",
       "      <td>-</td>\n",
       "      <td>124</td>\n",
       "      <td>50</td>\n",
       "    </tr>\n",
       "    <tr>\n",
       "      <th>1</th>\n",
       "      <td>199</td>\n",
       "      <td>Douglas</td>\n",
       "      <td>Grant</td>\n",
       "      <td>DGRANT</td>\n",
       "      <td>650.507.9844</td>\n",
       "      <td>13-JAN-08</td>\n",
       "      <td>SH_CLERK</td>\n",
       "      <td>2600</td>\n",
       "      <td>-</td>\n",
       "      <td>124</td>\n",
       "      <td>50</td>\n",
       "    </tr>\n",
       "    <tr>\n",
       "      <th>2</th>\n",
       "      <td>200</td>\n",
       "      <td>Jennifer</td>\n",
       "      <td>Whalen</td>\n",
       "      <td>JWHALEN</td>\n",
       "      <td>515.123.4444</td>\n",
       "      <td>17-SEP-03</td>\n",
       "      <td>AD_ASST</td>\n",
       "      <td>4400</td>\n",
       "      <td>-</td>\n",
       "      <td>101</td>\n",
       "      <td>10</td>\n",
       "    </tr>\n",
       "    <tr>\n",
       "      <th>3</th>\n",
       "      <td>201</td>\n",
       "      <td>Michael</td>\n",
       "      <td>Hartstein</td>\n",
       "      <td>MHARTSTE</td>\n",
       "      <td>515.123.5555</td>\n",
       "      <td>17-FEB-04</td>\n",
       "      <td>MK_MAN</td>\n",
       "      <td>13000</td>\n",
       "      <td>-</td>\n",
       "      <td>100</td>\n",
       "      <td>20</td>\n",
       "    </tr>\n",
       "    <tr>\n",
       "      <th>4</th>\n",
       "      <td>202</td>\n",
       "      <td>Pat</td>\n",
       "      <td>Fay</td>\n",
       "      <td>PFAY</td>\n",
       "      <td>603.123.6666</td>\n",
       "      <td>17-AUG-05</td>\n",
       "      <td>MK_REP</td>\n",
       "      <td>6000</td>\n",
       "      <td>-</td>\n",
       "      <td>201</td>\n",
       "      <td>20</td>\n",
       "    </tr>\n",
       "    <tr>\n",
       "      <th>5</th>\n",
       "      <td>203</td>\n",
       "      <td>Susan</td>\n",
       "      <td>Mavris</td>\n",
       "      <td>SMAVRIS</td>\n",
       "      <td>515.123.7777</td>\n",
       "      <td>07-JUN-02</td>\n",
       "      <td>HR_REP</td>\n",
       "      <td>6500</td>\n",
       "      <td>-</td>\n",
       "      <td>101</td>\n",
       "      <td>40</td>\n",
       "    </tr>\n",
       "    <tr>\n",
       "      <th>6</th>\n",
       "      <td>204</td>\n",
       "      <td>Hermann</td>\n",
       "      <td>Baer</td>\n",
       "      <td>HBAER</td>\n",
       "      <td>515.123.8888</td>\n",
       "      <td>07-JUN-02</td>\n",
       "      <td>PR_REP</td>\n",
       "      <td>10000</td>\n",
       "      <td>-</td>\n",
       "      <td>101</td>\n",
       "      <td>70</td>\n",
       "    </tr>\n",
       "    <tr>\n",
       "      <th>7</th>\n",
       "      <td>205</td>\n",
       "      <td>Shelley</td>\n",
       "      <td>Higgins</td>\n",
       "      <td>SHIGGINS</td>\n",
       "      <td>515.123.8080</td>\n",
       "      <td>07-JUN-02</td>\n",
       "      <td>AC_MGR</td>\n",
       "      <td>12008</td>\n",
       "      <td>-</td>\n",
       "      <td>101</td>\n",
       "      <td>110</td>\n",
       "    </tr>\n",
       "    <tr>\n",
       "      <th>8</th>\n",
       "      <td>206</td>\n",
       "      <td>William</td>\n",
       "      <td>Gietz</td>\n",
       "      <td>WGIETZ</td>\n",
       "      <td>515.123.8181</td>\n",
       "      <td>07-JUN-02</td>\n",
       "      <td>AC_ACCOUNT</td>\n",
       "      <td>8300</td>\n",
       "      <td>-</td>\n",
       "      <td>205</td>\n",
       "      <td>110</td>\n",
       "    </tr>\n",
       "    <tr>\n",
       "      <th>9</th>\n",
       "      <td>100</td>\n",
       "      <td>Steven</td>\n",
       "      <td>King</td>\n",
       "      <td>SKING</td>\n",
       "      <td>515.123.4567</td>\n",
       "      <td>17-JUN-03</td>\n",
       "      <td>AD_PRES</td>\n",
       "      <td>24000</td>\n",
       "      <td>-</td>\n",
       "      <td>-</td>\n",
       "      <td>90</td>\n",
       "    </tr>\n",
       "    <tr>\n",
       "      <th>10</th>\n",
       "      <td>101</td>\n",
       "      <td>Neena</td>\n",
       "      <td>Kochhar</td>\n",
       "      <td>NKOCHHAR</td>\n",
       "      <td>515.123.4568</td>\n",
       "      <td>21-SEP-05</td>\n",
       "      <td>AD_VP</td>\n",
       "      <td>17000</td>\n",
       "      <td>-</td>\n",
       "      <td>100</td>\n",
       "      <td>90</td>\n",
       "    </tr>\n",
       "    <tr>\n",
       "      <th>11</th>\n",
       "      <td>102</td>\n",
       "      <td>Lex</td>\n",
       "      <td>De Haan</td>\n",
       "      <td>LDEHAAN</td>\n",
       "      <td>515.123.4569</td>\n",
       "      <td>13-JAN-01</td>\n",
       "      <td>AD_VP</td>\n",
       "      <td>17000</td>\n",
       "      <td>-</td>\n",
       "      <td>100</td>\n",
       "      <td>90</td>\n",
       "    </tr>\n",
       "    <tr>\n",
       "      <th>12</th>\n",
       "      <td>103</td>\n",
       "      <td>Alexander</td>\n",
       "      <td>Hunold</td>\n",
       "      <td>AHUNOLD</td>\n",
       "      <td>590.423.4567</td>\n",
       "      <td>03-JAN-06</td>\n",
       "      <td>IT_PROG</td>\n",
       "      <td>9000</td>\n",
       "      <td>-</td>\n",
       "      <td>102</td>\n",
       "      <td>60</td>\n",
       "    </tr>\n",
       "    <tr>\n",
       "      <th>13</th>\n",
       "      <td>104</td>\n",
       "      <td>Bruce</td>\n",
       "      <td>Ernst</td>\n",
       "      <td>BERNST</td>\n",
       "      <td>590.423.4568</td>\n",
       "      <td>21-MAY-07</td>\n",
       "      <td>IT_PROG</td>\n",
       "      <td>6000</td>\n",
       "      <td>-</td>\n",
       "      <td>103</td>\n",
       "      <td>60</td>\n",
       "    </tr>\n",
       "    <tr>\n",
       "      <th>14</th>\n",
       "      <td>105</td>\n",
       "      <td>David</td>\n",
       "      <td>Austin</td>\n",
       "      <td>DAUSTIN</td>\n",
       "      <td>590.423.4569</td>\n",
       "      <td>25-JUN-05</td>\n",
       "      <td>IT_PROG</td>\n",
       "      <td>4800</td>\n",
       "      <td>-</td>\n",
       "      <td>103</td>\n",
       "      <td>60</td>\n",
       "    </tr>\n",
       "    <tr>\n",
       "      <th>15</th>\n",
       "      <td>106</td>\n",
       "      <td>Valli</td>\n",
       "      <td>Pataballa</td>\n",
       "      <td>VPATABAL</td>\n",
       "      <td>590.423.4560</td>\n",
       "      <td>05-FEB-06</td>\n",
       "      <td>IT_PROG</td>\n",
       "      <td>4800</td>\n",
       "      <td>-</td>\n",
       "      <td>103</td>\n",
       "      <td>60</td>\n",
       "    </tr>\n",
       "    <tr>\n",
       "      <th>16</th>\n",
       "      <td>107</td>\n",
       "      <td>Diana</td>\n",
       "      <td>Lorentz</td>\n",
       "      <td>DLORENTZ</td>\n",
       "      <td>590.423.5567</td>\n",
       "      <td>07-FEB-07</td>\n",
       "      <td>IT_PROG</td>\n",
       "      <td>4200</td>\n",
       "      <td>-</td>\n",
       "      <td>103</td>\n",
       "      <td>60</td>\n",
       "    </tr>\n",
       "    <tr>\n",
       "      <th>17</th>\n",
       "      <td>108</td>\n",
       "      <td>Nancy</td>\n",
       "      <td>Greenberg</td>\n",
       "      <td>NGREENBE</td>\n",
       "      <td>515.124.4569</td>\n",
       "      <td>17-AUG-02</td>\n",
       "      <td>FI_MGR</td>\n",
       "      <td>12008</td>\n",
       "      <td>-</td>\n",
       "      <td>101</td>\n",
       "      <td>100</td>\n",
       "    </tr>\n",
       "    <tr>\n",
       "      <th>18</th>\n",
       "      <td>109</td>\n",
       "      <td>Daniel</td>\n",
       "      <td>Faviet</td>\n",
       "      <td>DFAVIET</td>\n",
       "      <td>515.124.4169</td>\n",
       "      <td>16-AUG-02</td>\n",
       "      <td>FI_ACCOUNT</td>\n",
       "      <td>9000</td>\n",
       "      <td>-</td>\n",
       "      <td>108</td>\n",
       "      <td>100</td>\n",
       "    </tr>\n",
       "    <tr>\n",
       "      <th>19</th>\n",
       "      <td>110</td>\n",
       "      <td>John</td>\n",
       "      <td>Chen</td>\n",
       "      <td>JCHEN</td>\n",
       "      <td>515.124.4269</td>\n",
       "      <td>28-SEP-05</td>\n",
       "      <td>FI_ACCOUNT</td>\n",
       "      <td>8200</td>\n",
       "      <td>-</td>\n",
       "      <td>108</td>\n",
       "      <td>100</td>\n",
       "    </tr>\n",
       "    <tr>\n",
       "      <th>20</th>\n",
       "      <td>111</td>\n",
       "      <td>Ismael</td>\n",
       "      <td>Sciarra</td>\n",
       "      <td>ISCIARRA</td>\n",
       "      <td>515.124.4369</td>\n",
       "      <td>30-SEP-05</td>\n",
       "      <td>FI_ACCOUNT</td>\n",
       "      <td>7700</td>\n",
       "      <td>-</td>\n",
       "      <td>108</td>\n",
       "      <td>100</td>\n",
       "    </tr>\n",
       "    <tr>\n",
       "      <th>21</th>\n",
       "      <td>112</td>\n",
       "      <td>Jose Manuel</td>\n",
       "      <td>Urman</td>\n",
       "      <td>JMURMAN</td>\n",
       "      <td>515.124.4469</td>\n",
       "      <td>07-MAR-06</td>\n",
       "      <td>FI_ACCOUNT</td>\n",
       "      <td>7800</td>\n",
       "      <td>-</td>\n",
       "      <td>108</td>\n",
       "      <td>100</td>\n",
       "    </tr>\n",
       "    <tr>\n",
       "      <th>22</th>\n",
       "      <td>113</td>\n",
       "      <td>Luis</td>\n",
       "      <td>Popp</td>\n",
       "      <td>LPOPP</td>\n",
       "      <td>515.124.4567</td>\n",
       "      <td>07-DEC-07</td>\n",
       "      <td>FI_ACCOUNT</td>\n",
       "      <td>6900</td>\n",
       "      <td>-</td>\n",
       "      <td>108</td>\n",
       "      <td>100</td>\n",
       "    </tr>\n",
       "    <tr>\n",
       "      <th>23</th>\n",
       "      <td>114</td>\n",
       "      <td>Den</td>\n",
       "      <td>Raphaely</td>\n",
       "      <td>DRAPHEAL</td>\n",
       "      <td>515.127.4561</td>\n",
       "      <td>07-DEC-02</td>\n",
       "      <td>PU_MAN</td>\n",
       "      <td>11000</td>\n",
       "      <td>-</td>\n",
       "      <td>100</td>\n",
       "      <td>30</td>\n",
       "    </tr>\n",
       "    <tr>\n",
       "      <th>24</th>\n",
       "      <td>115</td>\n",
       "      <td>Alexander</td>\n",
       "      <td>Khoo</td>\n",
       "      <td>AKHOO</td>\n",
       "      <td>515.127.4562</td>\n",
       "      <td>18-MAY-03</td>\n",
       "      <td>PU_CLERK</td>\n",
       "      <td>3100</td>\n",
       "      <td>-</td>\n",
       "      <td>114</td>\n",
       "      <td>30</td>\n",
       "    </tr>\n",
       "    <tr>\n",
       "      <th>25</th>\n",
       "      <td>116</td>\n",
       "      <td>Shelli</td>\n",
       "      <td>Baida</td>\n",
       "      <td>SBAIDA</td>\n",
       "      <td>515.127.4563</td>\n",
       "      <td>24-DEC-05</td>\n",
       "      <td>PU_CLERK</td>\n",
       "      <td>2900</td>\n",
       "      <td>-</td>\n",
       "      <td>114</td>\n",
       "      <td>30</td>\n",
       "    </tr>\n",
       "    <tr>\n",
       "      <th>26</th>\n",
       "      <td>117</td>\n",
       "      <td>Sigal</td>\n",
       "      <td>Tobias</td>\n",
       "      <td>STOBIAS</td>\n",
       "      <td>515.127.4564</td>\n",
       "      <td>24-JUL-05</td>\n",
       "      <td>PU_CLERK</td>\n",
       "      <td>2800</td>\n",
       "      <td>-</td>\n",
       "      <td>114</td>\n",
       "      <td>30</td>\n",
       "    </tr>\n",
       "    <tr>\n",
       "      <th>27</th>\n",
       "      <td>118</td>\n",
       "      <td>Guy</td>\n",
       "      <td>Himuro</td>\n",
       "      <td>GHIMURO</td>\n",
       "      <td>515.127.4565</td>\n",
       "      <td>15-NOV-06</td>\n",
       "      <td>PU_CLERK</td>\n",
       "      <td>2600</td>\n",
       "      <td>-</td>\n",
       "      <td>114</td>\n",
       "      <td>30</td>\n",
       "    </tr>\n",
       "    <tr>\n",
       "      <th>28</th>\n",
       "      <td>119</td>\n",
       "      <td>Karen</td>\n",
       "      <td>Colmenares</td>\n",
       "      <td>KCOLMENA</td>\n",
       "      <td>515.127.4566</td>\n",
       "      <td>10-AUG-07</td>\n",
       "      <td>PU_CLERK</td>\n",
       "      <td>2500</td>\n",
       "      <td>-</td>\n",
       "      <td>114</td>\n",
       "      <td>30</td>\n",
       "    </tr>\n",
       "    <tr>\n",
       "      <th>29</th>\n",
       "      <td>120</td>\n",
       "      <td>Matthew</td>\n",
       "      <td>Weiss</td>\n",
       "      <td>MWEISS</td>\n",
       "      <td>650.123.1234</td>\n",
       "      <td>18-JUL-04</td>\n",
       "      <td>ST_MAN</td>\n",
       "      <td>8000</td>\n",
       "      <td>-</td>\n",
       "      <td>100</td>\n",
       "      <td>50</td>\n",
       "    </tr>\n",
       "    <tr>\n",
       "      <th>30</th>\n",
       "      <td>121</td>\n",
       "      <td>Adam</td>\n",
       "      <td>Fripp</td>\n",
       "      <td>AFRIPP</td>\n",
       "      <td>650.123.2234</td>\n",
       "      <td>10-APR-05</td>\n",
       "      <td>ST_MAN</td>\n",
       "      <td>8200</td>\n",
       "      <td>-</td>\n",
       "      <td>100</td>\n",
       "      <td>50</td>\n",
       "    </tr>\n",
       "    <tr>\n",
       "      <th>31</th>\n",
       "      <td>122</td>\n",
       "      <td>Payam</td>\n",
       "      <td>Kaufling</td>\n",
       "      <td>PKAUFLIN</td>\n",
       "      <td>650.123.3234</td>\n",
       "      <td>01-MAY-03</td>\n",
       "      <td>ST_MAN</td>\n",
       "      <td>7900</td>\n",
       "      <td>-</td>\n",
       "      <td>100</td>\n",
       "      <td>50</td>\n",
       "    </tr>\n",
       "    <tr>\n",
       "      <th>32</th>\n",
       "      <td>123</td>\n",
       "      <td>Shanta</td>\n",
       "      <td>Vollman</td>\n",
       "      <td>SVOLLMAN</td>\n",
       "      <td>650.123.4234</td>\n",
       "      <td>10-OCT-05</td>\n",
       "      <td>ST_MAN</td>\n",
       "      <td>6500</td>\n",
       "      <td>-</td>\n",
       "      <td>100</td>\n",
       "      <td>50</td>\n",
       "    </tr>\n",
       "    <tr>\n",
       "      <th>33</th>\n",
       "      <td>124</td>\n",
       "      <td>Kevin</td>\n",
       "      <td>Mourgos</td>\n",
       "      <td>KMOURGOS</td>\n",
       "      <td>650.123.5234</td>\n",
       "      <td>16-NOV-07</td>\n",
       "      <td>ST_MAN</td>\n",
       "      <td>5800</td>\n",
       "      <td>-</td>\n",
       "      <td>100</td>\n",
       "      <td>50</td>\n",
       "    </tr>\n",
       "    <tr>\n",
       "      <th>34</th>\n",
       "      <td>125</td>\n",
       "      <td>Julia</td>\n",
       "      <td>Nayer</td>\n",
       "      <td>JNAYER</td>\n",
       "      <td>650.124.1214</td>\n",
       "      <td>16-JUL-05</td>\n",
       "      <td>ST_CLERK</td>\n",
       "      <td>3200</td>\n",
       "      <td>-</td>\n",
       "      <td>120</td>\n",
       "      <td>50</td>\n",
       "    </tr>\n",
       "    <tr>\n",
       "      <th>35</th>\n",
       "      <td>126</td>\n",
       "      <td>Irene</td>\n",
       "      <td>Mikkilineni</td>\n",
       "      <td>IMIKKILI</td>\n",
       "      <td>650.124.1224</td>\n",
       "      <td>28-SEP-06</td>\n",
       "      <td>ST_CLERK</td>\n",
       "      <td>2700</td>\n",
       "      <td>-</td>\n",
       "      <td>120</td>\n",
       "      <td>50</td>\n",
       "    </tr>\n",
       "    <tr>\n",
       "      <th>36</th>\n",
       "      <td>127</td>\n",
       "      <td>James</td>\n",
       "      <td>Landry</td>\n",
       "      <td>JLANDRY</td>\n",
       "      <td>650.124.1334</td>\n",
       "      <td>14-JAN-07</td>\n",
       "      <td>ST_CLERK</td>\n",
       "      <td>2400</td>\n",
       "      <td>-</td>\n",
       "      <td>120</td>\n",
       "      <td>50</td>\n",
       "    </tr>\n",
       "    <tr>\n",
       "      <th>37</th>\n",
       "      <td>128</td>\n",
       "      <td>Steven</td>\n",
       "      <td>Markle</td>\n",
       "      <td>SMARKLE</td>\n",
       "      <td>650.124.1434</td>\n",
       "      <td>08-MAR-08</td>\n",
       "      <td>ST_CLERK</td>\n",
       "      <td>2200</td>\n",
       "      <td>-</td>\n",
       "      <td>120</td>\n",
       "      <td>50</td>\n",
       "    </tr>\n",
       "    <tr>\n",
       "      <th>38</th>\n",
       "      <td>129</td>\n",
       "      <td>Laura</td>\n",
       "      <td>Bissot</td>\n",
       "      <td>LBISSOT</td>\n",
       "      <td>650.124.5234</td>\n",
       "      <td>20-AUG-05</td>\n",
       "      <td>ST_CLERK</td>\n",
       "      <td>3300</td>\n",
       "      <td>-</td>\n",
       "      <td>121</td>\n",
       "      <td>50</td>\n",
       "    </tr>\n",
       "    <tr>\n",
       "      <th>39</th>\n",
       "      <td>130</td>\n",
       "      <td>Mozhe</td>\n",
       "      <td>Atkinson</td>\n",
       "      <td>MATKINSO</td>\n",
       "      <td>650.124.6234</td>\n",
       "      <td>30-OCT-05</td>\n",
       "      <td>ST_CLERK</td>\n",
       "      <td>2800</td>\n",
       "      <td>-</td>\n",
       "      <td>121</td>\n",
       "      <td>50</td>\n",
       "    </tr>\n",
       "    <tr>\n",
       "      <th>40</th>\n",
       "      <td>131</td>\n",
       "      <td>James</td>\n",
       "      <td>Marlow</td>\n",
       "      <td>JAMRLOW</td>\n",
       "      <td>650.124.7234</td>\n",
       "      <td>16-FEB-05</td>\n",
       "      <td>ST_CLERK</td>\n",
       "      <td>2500</td>\n",
       "      <td>-</td>\n",
       "      <td>121</td>\n",
       "      <td>50</td>\n",
       "    </tr>\n",
       "    <tr>\n",
       "      <th>41</th>\n",
       "      <td>132</td>\n",
       "      <td>TJ</td>\n",
       "      <td>Olson</td>\n",
       "      <td>TJOLSON</td>\n",
       "      <td>650.124.8234</td>\n",
       "      <td>10-APR-07</td>\n",
       "      <td>ST_CLERK</td>\n",
       "      <td>2100</td>\n",
       "      <td>-</td>\n",
       "      <td>121</td>\n",
       "      <td>50</td>\n",
       "    </tr>\n",
       "    <tr>\n",
       "      <th>42</th>\n",
       "      <td>133</td>\n",
       "      <td>Jason</td>\n",
       "      <td>Mallin</td>\n",
       "      <td>JMALLIN</td>\n",
       "      <td>650.127.1934</td>\n",
       "      <td>14-JUN-04</td>\n",
       "      <td>ST_CLERK</td>\n",
       "      <td>3300</td>\n",
       "      <td>-</td>\n",
       "      <td>122</td>\n",
       "      <td>50</td>\n",
       "    </tr>\n",
       "    <tr>\n",
       "      <th>43</th>\n",
       "      <td>134</td>\n",
       "      <td>Michael</td>\n",
       "      <td>Rogers</td>\n",
       "      <td>MROGERS</td>\n",
       "      <td>650.127.1834</td>\n",
       "      <td>26-AUG-06</td>\n",
       "      <td>ST_CLERK</td>\n",
       "      <td>2900</td>\n",
       "      <td>-</td>\n",
       "      <td>122</td>\n",
       "      <td>50</td>\n",
       "    </tr>\n",
       "    <tr>\n",
       "      <th>44</th>\n",
       "      <td>135</td>\n",
       "      <td>Ki</td>\n",
       "      <td>Gee</td>\n",
       "      <td>KGEE</td>\n",
       "      <td>650.127.1734</td>\n",
       "      <td>12-DEC-07</td>\n",
       "      <td>ST_CLERK</td>\n",
       "      <td>2400</td>\n",
       "      <td>-</td>\n",
       "      <td>122</td>\n",
       "      <td>50</td>\n",
       "    </tr>\n",
       "    <tr>\n",
       "      <th>45</th>\n",
       "      <td>136</td>\n",
       "      <td>Hazel</td>\n",
       "      <td>Philtanker</td>\n",
       "      <td>HPHILTAN</td>\n",
       "      <td>650.127.1634</td>\n",
       "      <td>06-FEB-08</td>\n",
       "      <td>ST_CLERK</td>\n",
       "      <td>2200</td>\n",
       "      <td>-</td>\n",
       "      <td>122</td>\n",
       "      <td>50</td>\n",
       "    </tr>\n",
       "    <tr>\n",
       "      <th>46</th>\n",
       "      <td>137</td>\n",
       "      <td>Renske</td>\n",
       "      <td>Ladwig</td>\n",
       "      <td>RLADWIG</td>\n",
       "      <td>650.121.1234</td>\n",
       "      <td>14-JUL-03</td>\n",
       "      <td>ST_CLERK</td>\n",
       "      <td>3600</td>\n",
       "      <td>-</td>\n",
       "      <td>123</td>\n",
       "      <td>50</td>\n",
       "    </tr>\n",
       "    <tr>\n",
       "      <th>47</th>\n",
       "      <td>138</td>\n",
       "      <td>Stephen</td>\n",
       "      <td>Stiles</td>\n",
       "      <td>SSTILES</td>\n",
       "      <td>650.121.2034</td>\n",
       "      <td>26-OCT-05</td>\n",
       "      <td>ST_CLERK</td>\n",
       "      <td>3200</td>\n",
       "      <td>-</td>\n",
       "      <td>123</td>\n",
       "      <td>50</td>\n",
       "    </tr>\n",
       "    <tr>\n",
       "      <th>48</th>\n",
       "      <td>139</td>\n",
       "      <td>John</td>\n",
       "      <td>Seo</td>\n",
       "      <td>JSEO</td>\n",
       "      <td>650.121.2019</td>\n",
       "      <td>12-FEB-06</td>\n",
       "      <td>ST_CLERK</td>\n",
       "      <td>2700</td>\n",
       "      <td>-</td>\n",
       "      <td>123</td>\n",
       "      <td>50</td>\n",
       "    </tr>\n",
       "    <tr>\n",
       "      <th>49</th>\n",
       "      <td>140</td>\n",
       "      <td>Joshua</td>\n",
       "      <td>Patel</td>\n",
       "      <td>JPATEL</td>\n",
       "      <td>650.121.1834</td>\n",
       "      <td>06-APR-06</td>\n",
       "      <td>ST_CLERK</td>\n",
       "      <td>2500</td>\n",
       "      <td>-</td>\n",
       "      <td>123</td>\n",
       "      <td>50</td>\n",
       "    </tr>\n",
       "  </tbody>\n",
       "</table>\n",
       "</div>"
      ],
      "text/plain": [
       "    EMPLOYEE_ID   FIRST_NAME    LAST_NAME     EMAIL  PHONE_NUMBER  HIRE_DATE  \\\n",
       "0           198       Donald     OConnell  DOCONNEL  650.507.9833  21-JUN-07   \n",
       "1           199      Douglas        Grant    DGRANT  650.507.9844  13-JAN-08   \n",
       "2           200     Jennifer       Whalen   JWHALEN  515.123.4444  17-SEP-03   \n",
       "3           201      Michael    Hartstein  MHARTSTE  515.123.5555  17-FEB-04   \n",
       "4           202          Pat          Fay      PFAY  603.123.6666  17-AUG-05   \n",
       "5           203        Susan       Mavris   SMAVRIS  515.123.7777  07-JUN-02   \n",
       "6           204      Hermann         Baer     HBAER  515.123.8888  07-JUN-02   \n",
       "7           205      Shelley      Higgins  SHIGGINS  515.123.8080  07-JUN-02   \n",
       "8           206      William        Gietz    WGIETZ  515.123.8181  07-JUN-02   \n",
       "9           100       Steven         King     SKING  515.123.4567  17-JUN-03   \n",
       "10          101        Neena      Kochhar  NKOCHHAR  515.123.4568  21-SEP-05   \n",
       "11          102          Lex      De Haan   LDEHAAN  515.123.4569  13-JAN-01   \n",
       "12          103    Alexander       Hunold   AHUNOLD  590.423.4567  03-JAN-06   \n",
       "13          104        Bruce        Ernst    BERNST  590.423.4568  21-MAY-07   \n",
       "14          105        David       Austin   DAUSTIN  590.423.4569  25-JUN-05   \n",
       "15          106        Valli    Pataballa  VPATABAL  590.423.4560  05-FEB-06   \n",
       "16          107        Diana      Lorentz  DLORENTZ  590.423.5567  07-FEB-07   \n",
       "17          108        Nancy    Greenberg  NGREENBE  515.124.4569  17-AUG-02   \n",
       "18          109       Daniel       Faviet   DFAVIET  515.124.4169  16-AUG-02   \n",
       "19          110         John         Chen     JCHEN  515.124.4269  28-SEP-05   \n",
       "20          111       Ismael      Sciarra  ISCIARRA  515.124.4369  30-SEP-05   \n",
       "21          112  Jose Manuel        Urman   JMURMAN  515.124.4469  07-MAR-06   \n",
       "22          113         Luis         Popp     LPOPP  515.124.4567  07-DEC-07   \n",
       "23          114          Den     Raphaely  DRAPHEAL  515.127.4561  07-DEC-02   \n",
       "24          115    Alexander         Khoo     AKHOO  515.127.4562  18-MAY-03   \n",
       "25          116       Shelli        Baida    SBAIDA  515.127.4563  24-DEC-05   \n",
       "26          117        Sigal       Tobias   STOBIAS  515.127.4564  24-JUL-05   \n",
       "27          118          Guy       Himuro   GHIMURO  515.127.4565  15-NOV-06   \n",
       "28          119        Karen   Colmenares  KCOLMENA  515.127.4566  10-AUG-07   \n",
       "29          120      Matthew        Weiss    MWEISS  650.123.1234  18-JUL-04   \n",
       "30          121         Adam        Fripp    AFRIPP  650.123.2234  10-APR-05   \n",
       "31          122        Payam     Kaufling  PKAUFLIN  650.123.3234  01-MAY-03   \n",
       "32          123       Shanta      Vollman  SVOLLMAN  650.123.4234  10-OCT-05   \n",
       "33          124        Kevin      Mourgos  KMOURGOS  650.123.5234  16-NOV-07   \n",
       "34          125        Julia        Nayer    JNAYER  650.124.1214  16-JUL-05   \n",
       "35          126        Irene  Mikkilineni  IMIKKILI  650.124.1224  28-SEP-06   \n",
       "36          127        James       Landry   JLANDRY  650.124.1334  14-JAN-07   \n",
       "37          128       Steven       Markle   SMARKLE  650.124.1434  08-MAR-08   \n",
       "38          129        Laura       Bissot   LBISSOT  650.124.5234  20-AUG-05   \n",
       "39          130        Mozhe     Atkinson  MATKINSO  650.124.6234  30-OCT-05   \n",
       "40          131        James       Marlow   JAMRLOW  650.124.7234  16-FEB-05   \n",
       "41          132           TJ        Olson   TJOLSON  650.124.8234  10-APR-07   \n",
       "42          133        Jason       Mallin   JMALLIN  650.127.1934  14-JUN-04   \n",
       "43          134      Michael       Rogers   MROGERS  650.127.1834  26-AUG-06   \n",
       "44          135           Ki          Gee      KGEE  650.127.1734  12-DEC-07   \n",
       "45          136        Hazel   Philtanker  HPHILTAN  650.127.1634  06-FEB-08   \n",
       "46          137       Renske       Ladwig   RLADWIG  650.121.1234  14-JUL-03   \n",
       "47          138      Stephen       Stiles   SSTILES  650.121.2034  26-OCT-05   \n",
       "48          139         John          Seo      JSEO  650.121.2019  12-FEB-06   \n",
       "49          140       Joshua        Patel    JPATEL  650.121.1834  06-APR-06   \n",
       "\n",
       "        JOB_ID  SALARY COMMISSION_PCT MANAGER_ID  DEPARTMENT_ID  \n",
       "0     SH_CLERK    2600             -         124             50  \n",
       "1     SH_CLERK    2600             -         124             50  \n",
       "2      AD_ASST    4400             -         101             10  \n",
       "3       MK_MAN   13000             -         100             20  \n",
       "4       MK_REP    6000             -         201             20  \n",
       "5       HR_REP    6500             -         101             40  \n",
       "6       PR_REP   10000             -         101             70  \n",
       "7       AC_MGR   12008             -         101            110  \n",
       "8   AC_ACCOUNT    8300             -         205            110  \n",
       "9      AD_PRES   24000             -          -              90  \n",
       "10       AD_VP   17000             -         100             90  \n",
       "11       AD_VP   17000             -         100             90  \n",
       "12     IT_PROG    9000             -         102             60  \n",
       "13     IT_PROG    6000             -         103             60  \n",
       "14     IT_PROG    4800             -         103             60  \n",
       "15     IT_PROG    4800             -         103             60  \n",
       "16     IT_PROG    4200             -         103             60  \n",
       "17      FI_MGR   12008             -         101            100  \n",
       "18  FI_ACCOUNT    9000             -         108            100  \n",
       "19  FI_ACCOUNT    8200             -         108            100  \n",
       "20  FI_ACCOUNT    7700             -         108            100  \n",
       "21  FI_ACCOUNT    7800             -         108            100  \n",
       "22  FI_ACCOUNT    6900             -         108            100  \n",
       "23      PU_MAN   11000             -         100             30  \n",
       "24    PU_CLERK    3100             -         114             30  \n",
       "25    PU_CLERK    2900             -         114             30  \n",
       "26    PU_CLERK    2800             -         114             30  \n",
       "27    PU_CLERK    2600             -         114             30  \n",
       "28    PU_CLERK    2500             -         114             30  \n",
       "29      ST_MAN    8000             -         100             50  \n",
       "30      ST_MAN    8200             -         100             50  \n",
       "31      ST_MAN    7900             -         100             50  \n",
       "32      ST_MAN    6500             -         100             50  \n",
       "33      ST_MAN    5800             -         100             50  \n",
       "34    ST_CLERK    3200             -         120             50  \n",
       "35    ST_CLERK    2700             -         120             50  \n",
       "36    ST_CLERK    2400             -         120             50  \n",
       "37    ST_CLERK    2200             -         120             50  \n",
       "38    ST_CLERK    3300             -         121             50  \n",
       "39    ST_CLERK    2800             -         121             50  \n",
       "40    ST_CLERK    2500             -         121             50  \n",
       "41    ST_CLERK    2100             -         121             50  \n",
       "42    ST_CLERK    3300             -         122             50  \n",
       "43    ST_CLERK    2900             -         122             50  \n",
       "44    ST_CLERK    2400             -         122             50  \n",
       "45    ST_CLERK    2200             -         122             50  \n",
       "46    ST_CLERK    3600             -         123             50  \n",
       "47    ST_CLERK    3200             -         123             50  \n",
       "48    ST_CLERK    2700             -         123             50  \n",
       "49    ST_CLERK    2500             -         123             50  "
      ]
     },
     "execution_count": 75,
     "metadata": {},
     "output_type": "execute_result"
    }
   ],
   "source": [
    "em=pd.read_csv(\"https://gist.githubusercontent.com/kevin336/acbb2271e66c10a5b73aacf82ca82784/raw/e38afe62e088394d61ed30884dd50a6826eee0a8/employees.csv\") \n",
    "em"
   ]
  },
  {
   "cell_type": "code",
   "execution_count": 78,
   "id": "21eb9e4b-0f4e-4e01-875d-8a3ae74ec43c",
   "metadata": {},
   "outputs": [],
   "source": [
    "# em[\"NAME\"] = em[\"FIRST_NAME\"] + em[\"LAST_NAME\"]\n",
    "em[\"NAME\"] = em[\"FIRST_NAME\"] + \" \" +em[\"LAST_NAME\"]"
   ]
  },
  {
   "cell_type": "code",
   "execution_count": 79,
   "id": "83c49428-dbba-4e76-9bc4-1d02819db967",
   "metadata": {},
   "outputs": [
    {
     "data": {
      "text/plain": [
       "0       Donald OConnell\n",
       "1         Douglas Grant\n",
       "2       Jennifer Whalen\n",
       "3     Michael Hartstein\n",
       "4               Pat Fay\n",
       "5          Susan Mavris\n",
       "6          Hermann Baer\n",
       "7       Shelley Higgins\n",
       "8         William Gietz\n",
       "9           Steven King\n",
       "10        Neena Kochhar\n",
       "11          Lex De Haan\n",
       "12     Alexander Hunold\n",
       "13          Bruce Ernst\n",
       "14         David Austin\n",
       "15      Valli Pataballa\n",
       "16        Diana Lorentz\n",
       "17      Nancy Greenberg\n",
       "18        Daniel Faviet\n",
       "19            John Chen\n",
       "20       Ismael Sciarra\n",
       "21    Jose Manuel Urman\n",
       "22            Luis Popp\n",
       "23         Den Raphaely\n",
       "24       Alexander Khoo\n",
       "25         Shelli Baida\n",
       "26         Sigal Tobias\n",
       "27           Guy Himuro\n",
       "28     Karen Colmenares\n",
       "29        Matthew Weiss\n",
       "30           Adam Fripp\n",
       "31       Payam Kaufling\n",
       "32       Shanta Vollman\n",
       "33        Kevin Mourgos\n",
       "34          Julia Nayer\n",
       "35    Irene Mikkilineni\n",
       "36         James Landry\n",
       "37        Steven Markle\n",
       "38         Laura Bissot\n",
       "39       Mozhe Atkinson\n",
       "40         James Marlow\n",
       "41             TJ Olson\n",
       "42         Jason Mallin\n",
       "43       Michael Rogers\n",
       "44               Ki Gee\n",
       "45     Hazel Philtanker\n",
       "46        Renske Ladwig\n",
       "47       Stephen Stiles\n",
       "48             John Seo\n",
       "49         Joshua Patel\n",
       "Name: NAME, dtype: object"
      ]
     },
     "execution_count": 79,
     "metadata": {},
     "output_type": "execute_result"
    }
   ],
   "source": [
    "em[\"NAME\"]"
   ]
  },
  {
   "cell_type": "code",
   "execution_count": 80,
   "id": "829ac3ac-2445-452f-ba7c-57af75023426",
   "metadata": {},
   "outputs": [
    {
     "data": {
      "text/html": [
       "<div>\n",
       "<style scoped>\n",
       "    .dataframe tbody tr th:only-of-type {\n",
       "        vertical-align: middle;\n",
       "    }\n",
       "\n",
       "    .dataframe tbody tr th {\n",
       "        vertical-align: top;\n",
       "    }\n",
       "\n",
       "    .dataframe thead th {\n",
       "        text-align: right;\n",
       "    }\n",
       "</style>\n",
       "<table border=\"1\" class=\"dataframe\">\n",
       "  <thead>\n",
       "    <tr style=\"text-align: right;\">\n",
       "      <th></th>\n",
       "      <th>EMPLOYEE_ID</th>\n",
       "      <th>FIRST_NAME</th>\n",
       "      <th>LAST_NAME</th>\n",
       "      <th>EMAIL</th>\n",
       "      <th>PHONE_NUMBER</th>\n",
       "      <th>HIRE_DATE</th>\n",
       "      <th>JOB_ID</th>\n",
       "      <th>SALARY</th>\n",
       "      <th>COMMISSION_PCT</th>\n",
       "      <th>MANAGER_ID</th>\n",
       "      <th>DEPARTMENT_ID</th>\n",
       "      <th>NAME</th>\n",
       "    </tr>\n",
       "  </thead>\n",
       "  <tbody>\n",
       "    <tr>\n",
       "      <th>0</th>\n",
       "      <td>198</td>\n",
       "      <td>Donald</td>\n",
       "      <td>OConnell</td>\n",
       "      <td>DOCONNEL</td>\n",
       "      <td>650.507.9833</td>\n",
       "      <td>21-JUN-07</td>\n",
       "      <td>SH_CLERK</td>\n",
       "      <td>2600</td>\n",
       "      <td>-</td>\n",
       "      <td>124</td>\n",
       "      <td>50</td>\n",
       "      <td>Donald OConnell</td>\n",
       "    </tr>\n",
       "    <tr>\n",
       "      <th>1</th>\n",
       "      <td>199</td>\n",
       "      <td>Douglas</td>\n",
       "      <td>Grant</td>\n",
       "      <td>DGRANT</td>\n",
       "      <td>650.507.9844</td>\n",
       "      <td>13-JAN-08</td>\n",
       "      <td>SH_CLERK</td>\n",
       "      <td>2600</td>\n",
       "      <td>-</td>\n",
       "      <td>124</td>\n",
       "      <td>50</td>\n",
       "      <td>Douglas Grant</td>\n",
       "    </tr>\n",
       "    <tr>\n",
       "      <th>2</th>\n",
       "      <td>200</td>\n",
       "      <td>Jennifer</td>\n",
       "      <td>Whalen</td>\n",
       "      <td>JWHALEN</td>\n",
       "      <td>515.123.4444</td>\n",
       "      <td>17-SEP-03</td>\n",
       "      <td>AD_ASST</td>\n",
       "      <td>4400</td>\n",
       "      <td>-</td>\n",
       "      <td>101</td>\n",
       "      <td>10</td>\n",
       "      <td>Jennifer Whalen</td>\n",
       "    </tr>\n",
       "    <tr>\n",
       "      <th>3</th>\n",
       "      <td>201</td>\n",
       "      <td>Michael</td>\n",
       "      <td>Hartstein</td>\n",
       "      <td>MHARTSTE</td>\n",
       "      <td>515.123.5555</td>\n",
       "      <td>17-FEB-04</td>\n",
       "      <td>MK_MAN</td>\n",
       "      <td>13000</td>\n",
       "      <td>-</td>\n",
       "      <td>100</td>\n",
       "      <td>20</td>\n",
       "      <td>Michael Hartstein</td>\n",
       "    </tr>\n",
       "    <tr>\n",
       "      <th>4</th>\n",
       "      <td>202</td>\n",
       "      <td>Pat</td>\n",
       "      <td>Fay</td>\n",
       "      <td>PFAY</td>\n",
       "      <td>603.123.6666</td>\n",
       "      <td>17-AUG-05</td>\n",
       "      <td>MK_REP</td>\n",
       "      <td>6000</td>\n",
       "      <td>-</td>\n",
       "      <td>201</td>\n",
       "      <td>20</td>\n",
       "      <td>Pat Fay</td>\n",
       "    </tr>\n",
       "    <tr>\n",
       "      <th>5</th>\n",
       "      <td>203</td>\n",
       "      <td>Susan</td>\n",
       "      <td>Mavris</td>\n",
       "      <td>SMAVRIS</td>\n",
       "      <td>515.123.7777</td>\n",
       "      <td>07-JUN-02</td>\n",
       "      <td>HR_REP</td>\n",
       "      <td>6500</td>\n",
       "      <td>-</td>\n",
       "      <td>101</td>\n",
       "      <td>40</td>\n",
       "      <td>Susan Mavris</td>\n",
       "    </tr>\n",
       "    <tr>\n",
       "      <th>6</th>\n",
       "      <td>204</td>\n",
       "      <td>Hermann</td>\n",
       "      <td>Baer</td>\n",
       "      <td>HBAER</td>\n",
       "      <td>515.123.8888</td>\n",
       "      <td>07-JUN-02</td>\n",
       "      <td>PR_REP</td>\n",
       "      <td>10000</td>\n",
       "      <td>-</td>\n",
       "      <td>101</td>\n",
       "      <td>70</td>\n",
       "      <td>Hermann Baer</td>\n",
       "    </tr>\n",
       "    <tr>\n",
       "      <th>7</th>\n",
       "      <td>205</td>\n",
       "      <td>Shelley</td>\n",
       "      <td>Higgins</td>\n",
       "      <td>SHIGGINS</td>\n",
       "      <td>515.123.8080</td>\n",
       "      <td>07-JUN-02</td>\n",
       "      <td>AC_MGR</td>\n",
       "      <td>12008</td>\n",
       "      <td>-</td>\n",
       "      <td>101</td>\n",
       "      <td>110</td>\n",
       "      <td>Shelley Higgins</td>\n",
       "    </tr>\n",
       "    <tr>\n",
       "      <th>8</th>\n",
       "      <td>206</td>\n",
       "      <td>William</td>\n",
       "      <td>Gietz</td>\n",
       "      <td>WGIETZ</td>\n",
       "      <td>515.123.8181</td>\n",
       "      <td>07-JUN-02</td>\n",
       "      <td>AC_ACCOUNT</td>\n",
       "      <td>8300</td>\n",
       "      <td>-</td>\n",
       "      <td>205</td>\n",
       "      <td>110</td>\n",
       "      <td>William Gietz</td>\n",
       "    </tr>\n",
       "    <tr>\n",
       "      <th>9</th>\n",
       "      <td>100</td>\n",
       "      <td>Steven</td>\n",
       "      <td>King</td>\n",
       "      <td>SKING</td>\n",
       "      <td>515.123.4567</td>\n",
       "      <td>17-JUN-03</td>\n",
       "      <td>AD_PRES</td>\n",
       "      <td>24000</td>\n",
       "      <td>-</td>\n",
       "      <td>-</td>\n",
       "      <td>90</td>\n",
       "      <td>Steven King</td>\n",
       "    </tr>\n",
       "    <tr>\n",
       "      <th>10</th>\n",
       "      <td>101</td>\n",
       "      <td>Neena</td>\n",
       "      <td>Kochhar</td>\n",
       "      <td>NKOCHHAR</td>\n",
       "      <td>515.123.4568</td>\n",
       "      <td>21-SEP-05</td>\n",
       "      <td>AD_VP</td>\n",
       "      <td>17000</td>\n",
       "      <td>-</td>\n",
       "      <td>100</td>\n",
       "      <td>90</td>\n",
       "      <td>Neena Kochhar</td>\n",
       "    </tr>\n",
       "    <tr>\n",
       "      <th>11</th>\n",
       "      <td>102</td>\n",
       "      <td>Lex</td>\n",
       "      <td>De Haan</td>\n",
       "      <td>LDEHAAN</td>\n",
       "      <td>515.123.4569</td>\n",
       "      <td>13-JAN-01</td>\n",
       "      <td>AD_VP</td>\n",
       "      <td>17000</td>\n",
       "      <td>-</td>\n",
       "      <td>100</td>\n",
       "      <td>90</td>\n",
       "      <td>Lex De Haan</td>\n",
       "    </tr>\n",
       "    <tr>\n",
       "      <th>12</th>\n",
       "      <td>103</td>\n",
       "      <td>Alexander</td>\n",
       "      <td>Hunold</td>\n",
       "      <td>AHUNOLD</td>\n",
       "      <td>590.423.4567</td>\n",
       "      <td>03-JAN-06</td>\n",
       "      <td>IT_PROG</td>\n",
       "      <td>9000</td>\n",
       "      <td>-</td>\n",
       "      <td>102</td>\n",
       "      <td>60</td>\n",
       "      <td>Alexander Hunold</td>\n",
       "    </tr>\n",
       "    <tr>\n",
       "      <th>13</th>\n",
       "      <td>104</td>\n",
       "      <td>Bruce</td>\n",
       "      <td>Ernst</td>\n",
       "      <td>BERNST</td>\n",
       "      <td>590.423.4568</td>\n",
       "      <td>21-MAY-07</td>\n",
       "      <td>IT_PROG</td>\n",
       "      <td>6000</td>\n",
       "      <td>-</td>\n",
       "      <td>103</td>\n",
       "      <td>60</td>\n",
       "      <td>Bruce Ernst</td>\n",
       "    </tr>\n",
       "    <tr>\n",
       "      <th>14</th>\n",
       "      <td>105</td>\n",
       "      <td>David</td>\n",
       "      <td>Austin</td>\n",
       "      <td>DAUSTIN</td>\n",
       "      <td>590.423.4569</td>\n",
       "      <td>25-JUN-05</td>\n",
       "      <td>IT_PROG</td>\n",
       "      <td>4800</td>\n",
       "      <td>-</td>\n",
       "      <td>103</td>\n",
       "      <td>60</td>\n",
       "      <td>David Austin</td>\n",
       "    </tr>\n",
       "    <tr>\n",
       "      <th>15</th>\n",
       "      <td>106</td>\n",
       "      <td>Valli</td>\n",
       "      <td>Pataballa</td>\n",
       "      <td>VPATABAL</td>\n",
       "      <td>590.423.4560</td>\n",
       "      <td>05-FEB-06</td>\n",
       "      <td>IT_PROG</td>\n",
       "      <td>4800</td>\n",
       "      <td>-</td>\n",
       "      <td>103</td>\n",
       "      <td>60</td>\n",
       "      <td>Valli Pataballa</td>\n",
       "    </tr>\n",
       "    <tr>\n",
       "      <th>16</th>\n",
       "      <td>107</td>\n",
       "      <td>Diana</td>\n",
       "      <td>Lorentz</td>\n",
       "      <td>DLORENTZ</td>\n",
       "      <td>590.423.5567</td>\n",
       "      <td>07-FEB-07</td>\n",
       "      <td>IT_PROG</td>\n",
       "      <td>4200</td>\n",
       "      <td>-</td>\n",
       "      <td>103</td>\n",
       "      <td>60</td>\n",
       "      <td>Diana Lorentz</td>\n",
       "    </tr>\n",
       "    <tr>\n",
       "      <th>17</th>\n",
       "      <td>108</td>\n",
       "      <td>Nancy</td>\n",
       "      <td>Greenberg</td>\n",
       "      <td>NGREENBE</td>\n",
       "      <td>515.124.4569</td>\n",
       "      <td>17-AUG-02</td>\n",
       "      <td>FI_MGR</td>\n",
       "      <td>12008</td>\n",
       "      <td>-</td>\n",
       "      <td>101</td>\n",
       "      <td>100</td>\n",
       "      <td>Nancy Greenberg</td>\n",
       "    </tr>\n",
       "    <tr>\n",
       "      <th>18</th>\n",
       "      <td>109</td>\n",
       "      <td>Daniel</td>\n",
       "      <td>Faviet</td>\n",
       "      <td>DFAVIET</td>\n",
       "      <td>515.124.4169</td>\n",
       "      <td>16-AUG-02</td>\n",
       "      <td>FI_ACCOUNT</td>\n",
       "      <td>9000</td>\n",
       "      <td>-</td>\n",
       "      <td>108</td>\n",
       "      <td>100</td>\n",
       "      <td>Daniel Faviet</td>\n",
       "    </tr>\n",
       "    <tr>\n",
       "      <th>19</th>\n",
       "      <td>110</td>\n",
       "      <td>John</td>\n",
       "      <td>Chen</td>\n",
       "      <td>JCHEN</td>\n",
       "      <td>515.124.4269</td>\n",
       "      <td>28-SEP-05</td>\n",
       "      <td>FI_ACCOUNT</td>\n",
       "      <td>8200</td>\n",
       "      <td>-</td>\n",
       "      <td>108</td>\n",
       "      <td>100</td>\n",
       "      <td>John Chen</td>\n",
       "    </tr>\n",
       "    <tr>\n",
       "      <th>20</th>\n",
       "      <td>111</td>\n",
       "      <td>Ismael</td>\n",
       "      <td>Sciarra</td>\n",
       "      <td>ISCIARRA</td>\n",
       "      <td>515.124.4369</td>\n",
       "      <td>30-SEP-05</td>\n",
       "      <td>FI_ACCOUNT</td>\n",
       "      <td>7700</td>\n",
       "      <td>-</td>\n",
       "      <td>108</td>\n",
       "      <td>100</td>\n",
       "      <td>Ismael Sciarra</td>\n",
       "    </tr>\n",
       "    <tr>\n",
       "      <th>21</th>\n",
       "      <td>112</td>\n",
       "      <td>Jose Manuel</td>\n",
       "      <td>Urman</td>\n",
       "      <td>JMURMAN</td>\n",
       "      <td>515.124.4469</td>\n",
       "      <td>07-MAR-06</td>\n",
       "      <td>FI_ACCOUNT</td>\n",
       "      <td>7800</td>\n",
       "      <td>-</td>\n",
       "      <td>108</td>\n",
       "      <td>100</td>\n",
       "      <td>Jose Manuel Urman</td>\n",
       "    </tr>\n",
       "    <tr>\n",
       "      <th>22</th>\n",
       "      <td>113</td>\n",
       "      <td>Luis</td>\n",
       "      <td>Popp</td>\n",
       "      <td>LPOPP</td>\n",
       "      <td>515.124.4567</td>\n",
       "      <td>07-DEC-07</td>\n",
       "      <td>FI_ACCOUNT</td>\n",
       "      <td>6900</td>\n",
       "      <td>-</td>\n",
       "      <td>108</td>\n",
       "      <td>100</td>\n",
       "      <td>Luis Popp</td>\n",
       "    </tr>\n",
       "    <tr>\n",
       "      <th>23</th>\n",
       "      <td>114</td>\n",
       "      <td>Den</td>\n",
       "      <td>Raphaely</td>\n",
       "      <td>DRAPHEAL</td>\n",
       "      <td>515.127.4561</td>\n",
       "      <td>07-DEC-02</td>\n",
       "      <td>PU_MAN</td>\n",
       "      <td>11000</td>\n",
       "      <td>-</td>\n",
       "      <td>100</td>\n",
       "      <td>30</td>\n",
       "      <td>Den Raphaely</td>\n",
       "    </tr>\n",
       "    <tr>\n",
       "      <th>24</th>\n",
       "      <td>115</td>\n",
       "      <td>Alexander</td>\n",
       "      <td>Khoo</td>\n",
       "      <td>AKHOO</td>\n",
       "      <td>515.127.4562</td>\n",
       "      <td>18-MAY-03</td>\n",
       "      <td>PU_CLERK</td>\n",
       "      <td>3100</td>\n",
       "      <td>-</td>\n",
       "      <td>114</td>\n",
       "      <td>30</td>\n",
       "      <td>Alexander Khoo</td>\n",
       "    </tr>\n",
       "    <tr>\n",
       "      <th>25</th>\n",
       "      <td>116</td>\n",
       "      <td>Shelli</td>\n",
       "      <td>Baida</td>\n",
       "      <td>SBAIDA</td>\n",
       "      <td>515.127.4563</td>\n",
       "      <td>24-DEC-05</td>\n",
       "      <td>PU_CLERK</td>\n",
       "      <td>2900</td>\n",
       "      <td>-</td>\n",
       "      <td>114</td>\n",
       "      <td>30</td>\n",
       "      <td>Shelli Baida</td>\n",
       "    </tr>\n",
       "    <tr>\n",
       "      <th>26</th>\n",
       "      <td>117</td>\n",
       "      <td>Sigal</td>\n",
       "      <td>Tobias</td>\n",
       "      <td>STOBIAS</td>\n",
       "      <td>515.127.4564</td>\n",
       "      <td>24-JUL-05</td>\n",
       "      <td>PU_CLERK</td>\n",
       "      <td>2800</td>\n",
       "      <td>-</td>\n",
       "      <td>114</td>\n",
       "      <td>30</td>\n",
       "      <td>Sigal Tobias</td>\n",
       "    </tr>\n",
       "    <tr>\n",
       "      <th>27</th>\n",
       "      <td>118</td>\n",
       "      <td>Guy</td>\n",
       "      <td>Himuro</td>\n",
       "      <td>GHIMURO</td>\n",
       "      <td>515.127.4565</td>\n",
       "      <td>15-NOV-06</td>\n",
       "      <td>PU_CLERK</td>\n",
       "      <td>2600</td>\n",
       "      <td>-</td>\n",
       "      <td>114</td>\n",
       "      <td>30</td>\n",
       "      <td>Guy Himuro</td>\n",
       "    </tr>\n",
       "    <tr>\n",
       "      <th>28</th>\n",
       "      <td>119</td>\n",
       "      <td>Karen</td>\n",
       "      <td>Colmenares</td>\n",
       "      <td>KCOLMENA</td>\n",
       "      <td>515.127.4566</td>\n",
       "      <td>10-AUG-07</td>\n",
       "      <td>PU_CLERK</td>\n",
       "      <td>2500</td>\n",
       "      <td>-</td>\n",
       "      <td>114</td>\n",
       "      <td>30</td>\n",
       "      <td>Karen Colmenares</td>\n",
       "    </tr>\n",
       "    <tr>\n",
       "      <th>29</th>\n",
       "      <td>120</td>\n",
       "      <td>Matthew</td>\n",
       "      <td>Weiss</td>\n",
       "      <td>MWEISS</td>\n",
       "      <td>650.123.1234</td>\n",
       "      <td>18-JUL-04</td>\n",
       "      <td>ST_MAN</td>\n",
       "      <td>8000</td>\n",
       "      <td>-</td>\n",
       "      <td>100</td>\n",
       "      <td>50</td>\n",
       "      <td>Matthew Weiss</td>\n",
       "    </tr>\n",
       "    <tr>\n",
       "      <th>30</th>\n",
       "      <td>121</td>\n",
       "      <td>Adam</td>\n",
       "      <td>Fripp</td>\n",
       "      <td>AFRIPP</td>\n",
       "      <td>650.123.2234</td>\n",
       "      <td>10-APR-05</td>\n",
       "      <td>ST_MAN</td>\n",
       "      <td>8200</td>\n",
       "      <td>-</td>\n",
       "      <td>100</td>\n",
       "      <td>50</td>\n",
       "      <td>Adam Fripp</td>\n",
       "    </tr>\n",
       "    <tr>\n",
       "      <th>31</th>\n",
       "      <td>122</td>\n",
       "      <td>Payam</td>\n",
       "      <td>Kaufling</td>\n",
       "      <td>PKAUFLIN</td>\n",
       "      <td>650.123.3234</td>\n",
       "      <td>01-MAY-03</td>\n",
       "      <td>ST_MAN</td>\n",
       "      <td>7900</td>\n",
       "      <td>-</td>\n",
       "      <td>100</td>\n",
       "      <td>50</td>\n",
       "      <td>Payam Kaufling</td>\n",
       "    </tr>\n",
       "    <tr>\n",
       "      <th>32</th>\n",
       "      <td>123</td>\n",
       "      <td>Shanta</td>\n",
       "      <td>Vollman</td>\n",
       "      <td>SVOLLMAN</td>\n",
       "      <td>650.123.4234</td>\n",
       "      <td>10-OCT-05</td>\n",
       "      <td>ST_MAN</td>\n",
       "      <td>6500</td>\n",
       "      <td>-</td>\n",
       "      <td>100</td>\n",
       "      <td>50</td>\n",
       "      <td>Shanta Vollman</td>\n",
       "    </tr>\n",
       "    <tr>\n",
       "      <th>33</th>\n",
       "      <td>124</td>\n",
       "      <td>Kevin</td>\n",
       "      <td>Mourgos</td>\n",
       "      <td>KMOURGOS</td>\n",
       "      <td>650.123.5234</td>\n",
       "      <td>16-NOV-07</td>\n",
       "      <td>ST_MAN</td>\n",
       "      <td>5800</td>\n",
       "      <td>-</td>\n",
       "      <td>100</td>\n",
       "      <td>50</td>\n",
       "      <td>Kevin Mourgos</td>\n",
       "    </tr>\n",
       "    <tr>\n",
       "      <th>34</th>\n",
       "      <td>125</td>\n",
       "      <td>Julia</td>\n",
       "      <td>Nayer</td>\n",
       "      <td>JNAYER</td>\n",
       "      <td>650.124.1214</td>\n",
       "      <td>16-JUL-05</td>\n",
       "      <td>ST_CLERK</td>\n",
       "      <td>3200</td>\n",
       "      <td>-</td>\n",
       "      <td>120</td>\n",
       "      <td>50</td>\n",
       "      <td>Julia Nayer</td>\n",
       "    </tr>\n",
       "    <tr>\n",
       "      <th>35</th>\n",
       "      <td>126</td>\n",
       "      <td>Irene</td>\n",
       "      <td>Mikkilineni</td>\n",
       "      <td>IMIKKILI</td>\n",
       "      <td>650.124.1224</td>\n",
       "      <td>28-SEP-06</td>\n",
       "      <td>ST_CLERK</td>\n",
       "      <td>2700</td>\n",
       "      <td>-</td>\n",
       "      <td>120</td>\n",
       "      <td>50</td>\n",
       "      <td>Irene Mikkilineni</td>\n",
       "    </tr>\n",
       "    <tr>\n",
       "      <th>36</th>\n",
       "      <td>127</td>\n",
       "      <td>James</td>\n",
       "      <td>Landry</td>\n",
       "      <td>JLANDRY</td>\n",
       "      <td>650.124.1334</td>\n",
       "      <td>14-JAN-07</td>\n",
       "      <td>ST_CLERK</td>\n",
       "      <td>2400</td>\n",
       "      <td>-</td>\n",
       "      <td>120</td>\n",
       "      <td>50</td>\n",
       "      <td>James Landry</td>\n",
       "    </tr>\n",
       "    <tr>\n",
       "      <th>37</th>\n",
       "      <td>128</td>\n",
       "      <td>Steven</td>\n",
       "      <td>Markle</td>\n",
       "      <td>SMARKLE</td>\n",
       "      <td>650.124.1434</td>\n",
       "      <td>08-MAR-08</td>\n",
       "      <td>ST_CLERK</td>\n",
       "      <td>2200</td>\n",
       "      <td>-</td>\n",
       "      <td>120</td>\n",
       "      <td>50</td>\n",
       "      <td>Steven Markle</td>\n",
       "    </tr>\n",
       "    <tr>\n",
       "      <th>38</th>\n",
       "      <td>129</td>\n",
       "      <td>Laura</td>\n",
       "      <td>Bissot</td>\n",
       "      <td>LBISSOT</td>\n",
       "      <td>650.124.5234</td>\n",
       "      <td>20-AUG-05</td>\n",
       "      <td>ST_CLERK</td>\n",
       "      <td>3300</td>\n",
       "      <td>-</td>\n",
       "      <td>121</td>\n",
       "      <td>50</td>\n",
       "      <td>Laura Bissot</td>\n",
       "    </tr>\n",
       "    <tr>\n",
       "      <th>39</th>\n",
       "      <td>130</td>\n",
       "      <td>Mozhe</td>\n",
       "      <td>Atkinson</td>\n",
       "      <td>MATKINSO</td>\n",
       "      <td>650.124.6234</td>\n",
       "      <td>30-OCT-05</td>\n",
       "      <td>ST_CLERK</td>\n",
       "      <td>2800</td>\n",
       "      <td>-</td>\n",
       "      <td>121</td>\n",
       "      <td>50</td>\n",
       "      <td>Mozhe Atkinson</td>\n",
       "    </tr>\n",
       "    <tr>\n",
       "      <th>40</th>\n",
       "      <td>131</td>\n",
       "      <td>James</td>\n",
       "      <td>Marlow</td>\n",
       "      <td>JAMRLOW</td>\n",
       "      <td>650.124.7234</td>\n",
       "      <td>16-FEB-05</td>\n",
       "      <td>ST_CLERK</td>\n",
       "      <td>2500</td>\n",
       "      <td>-</td>\n",
       "      <td>121</td>\n",
       "      <td>50</td>\n",
       "      <td>James Marlow</td>\n",
       "    </tr>\n",
       "    <tr>\n",
       "      <th>41</th>\n",
       "      <td>132</td>\n",
       "      <td>TJ</td>\n",
       "      <td>Olson</td>\n",
       "      <td>TJOLSON</td>\n",
       "      <td>650.124.8234</td>\n",
       "      <td>10-APR-07</td>\n",
       "      <td>ST_CLERK</td>\n",
       "      <td>2100</td>\n",
       "      <td>-</td>\n",
       "      <td>121</td>\n",
       "      <td>50</td>\n",
       "      <td>TJ Olson</td>\n",
       "    </tr>\n",
       "    <tr>\n",
       "      <th>42</th>\n",
       "      <td>133</td>\n",
       "      <td>Jason</td>\n",
       "      <td>Mallin</td>\n",
       "      <td>JMALLIN</td>\n",
       "      <td>650.127.1934</td>\n",
       "      <td>14-JUN-04</td>\n",
       "      <td>ST_CLERK</td>\n",
       "      <td>3300</td>\n",
       "      <td>-</td>\n",
       "      <td>122</td>\n",
       "      <td>50</td>\n",
       "      <td>Jason Mallin</td>\n",
       "    </tr>\n",
       "    <tr>\n",
       "      <th>43</th>\n",
       "      <td>134</td>\n",
       "      <td>Michael</td>\n",
       "      <td>Rogers</td>\n",
       "      <td>MROGERS</td>\n",
       "      <td>650.127.1834</td>\n",
       "      <td>26-AUG-06</td>\n",
       "      <td>ST_CLERK</td>\n",
       "      <td>2900</td>\n",
       "      <td>-</td>\n",
       "      <td>122</td>\n",
       "      <td>50</td>\n",
       "      <td>Michael Rogers</td>\n",
       "    </tr>\n",
       "    <tr>\n",
       "      <th>44</th>\n",
       "      <td>135</td>\n",
       "      <td>Ki</td>\n",
       "      <td>Gee</td>\n",
       "      <td>KGEE</td>\n",
       "      <td>650.127.1734</td>\n",
       "      <td>12-DEC-07</td>\n",
       "      <td>ST_CLERK</td>\n",
       "      <td>2400</td>\n",
       "      <td>-</td>\n",
       "      <td>122</td>\n",
       "      <td>50</td>\n",
       "      <td>Ki Gee</td>\n",
       "    </tr>\n",
       "    <tr>\n",
       "      <th>45</th>\n",
       "      <td>136</td>\n",
       "      <td>Hazel</td>\n",
       "      <td>Philtanker</td>\n",
       "      <td>HPHILTAN</td>\n",
       "      <td>650.127.1634</td>\n",
       "      <td>06-FEB-08</td>\n",
       "      <td>ST_CLERK</td>\n",
       "      <td>2200</td>\n",
       "      <td>-</td>\n",
       "      <td>122</td>\n",
       "      <td>50</td>\n",
       "      <td>Hazel Philtanker</td>\n",
       "    </tr>\n",
       "    <tr>\n",
       "      <th>46</th>\n",
       "      <td>137</td>\n",
       "      <td>Renske</td>\n",
       "      <td>Ladwig</td>\n",
       "      <td>RLADWIG</td>\n",
       "      <td>650.121.1234</td>\n",
       "      <td>14-JUL-03</td>\n",
       "      <td>ST_CLERK</td>\n",
       "      <td>3600</td>\n",
       "      <td>-</td>\n",
       "      <td>123</td>\n",
       "      <td>50</td>\n",
       "      <td>Renske Ladwig</td>\n",
       "    </tr>\n",
       "    <tr>\n",
       "      <th>47</th>\n",
       "      <td>138</td>\n",
       "      <td>Stephen</td>\n",
       "      <td>Stiles</td>\n",
       "      <td>SSTILES</td>\n",
       "      <td>650.121.2034</td>\n",
       "      <td>26-OCT-05</td>\n",
       "      <td>ST_CLERK</td>\n",
       "      <td>3200</td>\n",
       "      <td>-</td>\n",
       "      <td>123</td>\n",
       "      <td>50</td>\n",
       "      <td>Stephen Stiles</td>\n",
       "    </tr>\n",
       "    <tr>\n",
       "      <th>48</th>\n",
       "      <td>139</td>\n",
       "      <td>John</td>\n",
       "      <td>Seo</td>\n",
       "      <td>JSEO</td>\n",
       "      <td>650.121.2019</td>\n",
       "      <td>12-FEB-06</td>\n",
       "      <td>ST_CLERK</td>\n",
       "      <td>2700</td>\n",
       "      <td>-</td>\n",
       "      <td>123</td>\n",
       "      <td>50</td>\n",
       "      <td>John Seo</td>\n",
       "    </tr>\n",
       "    <tr>\n",
       "      <th>49</th>\n",
       "      <td>140</td>\n",
       "      <td>Joshua</td>\n",
       "      <td>Patel</td>\n",
       "      <td>JPATEL</td>\n",
       "      <td>650.121.1834</td>\n",
       "      <td>06-APR-06</td>\n",
       "      <td>ST_CLERK</td>\n",
       "      <td>2500</td>\n",
       "      <td>-</td>\n",
       "      <td>123</td>\n",
       "      <td>50</td>\n",
       "      <td>Joshua Patel</td>\n",
       "    </tr>\n",
       "  </tbody>\n",
       "</table>\n",
       "</div>"
      ],
      "text/plain": [
       "    EMPLOYEE_ID   FIRST_NAME    LAST_NAME     EMAIL  PHONE_NUMBER  HIRE_DATE  \\\n",
       "0           198       Donald     OConnell  DOCONNEL  650.507.9833  21-JUN-07   \n",
       "1           199      Douglas        Grant    DGRANT  650.507.9844  13-JAN-08   \n",
       "2           200     Jennifer       Whalen   JWHALEN  515.123.4444  17-SEP-03   \n",
       "3           201      Michael    Hartstein  MHARTSTE  515.123.5555  17-FEB-04   \n",
       "4           202          Pat          Fay      PFAY  603.123.6666  17-AUG-05   \n",
       "5           203        Susan       Mavris   SMAVRIS  515.123.7777  07-JUN-02   \n",
       "6           204      Hermann         Baer     HBAER  515.123.8888  07-JUN-02   \n",
       "7           205      Shelley      Higgins  SHIGGINS  515.123.8080  07-JUN-02   \n",
       "8           206      William        Gietz    WGIETZ  515.123.8181  07-JUN-02   \n",
       "9           100       Steven         King     SKING  515.123.4567  17-JUN-03   \n",
       "10          101        Neena      Kochhar  NKOCHHAR  515.123.4568  21-SEP-05   \n",
       "11          102          Lex      De Haan   LDEHAAN  515.123.4569  13-JAN-01   \n",
       "12          103    Alexander       Hunold   AHUNOLD  590.423.4567  03-JAN-06   \n",
       "13          104        Bruce        Ernst    BERNST  590.423.4568  21-MAY-07   \n",
       "14          105        David       Austin   DAUSTIN  590.423.4569  25-JUN-05   \n",
       "15          106        Valli    Pataballa  VPATABAL  590.423.4560  05-FEB-06   \n",
       "16          107        Diana      Lorentz  DLORENTZ  590.423.5567  07-FEB-07   \n",
       "17          108        Nancy    Greenberg  NGREENBE  515.124.4569  17-AUG-02   \n",
       "18          109       Daniel       Faviet   DFAVIET  515.124.4169  16-AUG-02   \n",
       "19          110         John         Chen     JCHEN  515.124.4269  28-SEP-05   \n",
       "20          111       Ismael      Sciarra  ISCIARRA  515.124.4369  30-SEP-05   \n",
       "21          112  Jose Manuel        Urman   JMURMAN  515.124.4469  07-MAR-06   \n",
       "22          113         Luis         Popp     LPOPP  515.124.4567  07-DEC-07   \n",
       "23          114          Den     Raphaely  DRAPHEAL  515.127.4561  07-DEC-02   \n",
       "24          115    Alexander         Khoo     AKHOO  515.127.4562  18-MAY-03   \n",
       "25          116       Shelli        Baida    SBAIDA  515.127.4563  24-DEC-05   \n",
       "26          117        Sigal       Tobias   STOBIAS  515.127.4564  24-JUL-05   \n",
       "27          118          Guy       Himuro   GHIMURO  515.127.4565  15-NOV-06   \n",
       "28          119        Karen   Colmenares  KCOLMENA  515.127.4566  10-AUG-07   \n",
       "29          120      Matthew        Weiss    MWEISS  650.123.1234  18-JUL-04   \n",
       "30          121         Adam        Fripp    AFRIPP  650.123.2234  10-APR-05   \n",
       "31          122        Payam     Kaufling  PKAUFLIN  650.123.3234  01-MAY-03   \n",
       "32          123       Shanta      Vollman  SVOLLMAN  650.123.4234  10-OCT-05   \n",
       "33          124        Kevin      Mourgos  KMOURGOS  650.123.5234  16-NOV-07   \n",
       "34          125        Julia        Nayer    JNAYER  650.124.1214  16-JUL-05   \n",
       "35          126        Irene  Mikkilineni  IMIKKILI  650.124.1224  28-SEP-06   \n",
       "36          127        James       Landry   JLANDRY  650.124.1334  14-JAN-07   \n",
       "37          128       Steven       Markle   SMARKLE  650.124.1434  08-MAR-08   \n",
       "38          129        Laura       Bissot   LBISSOT  650.124.5234  20-AUG-05   \n",
       "39          130        Mozhe     Atkinson  MATKINSO  650.124.6234  30-OCT-05   \n",
       "40          131        James       Marlow   JAMRLOW  650.124.7234  16-FEB-05   \n",
       "41          132           TJ        Olson   TJOLSON  650.124.8234  10-APR-07   \n",
       "42          133        Jason       Mallin   JMALLIN  650.127.1934  14-JUN-04   \n",
       "43          134      Michael       Rogers   MROGERS  650.127.1834  26-AUG-06   \n",
       "44          135           Ki          Gee      KGEE  650.127.1734  12-DEC-07   \n",
       "45          136        Hazel   Philtanker  HPHILTAN  650.127.1634  06-FEB-08   \n",
       "46          137       Renske       Ladwig   RLADWIG  650.121.1234  14-JUL-03   \n",
       "47          138      Stephen       Stiles   SSTILES  650.121.2034  26-OCT-05   \n",
       "48          139         John          Seo      JSEO  650.121.2019  12-FEB-06   \n",
       "49          140       Joshua        Patel    JPATEL  650.121.1834  06-APR-06   \n",
       "\n",
       "        JOB_ID  SALARY COMMISSION_PCT MANAGER_ID  DEPARTMENT_ID  \\\n",
       "0     SH_CLERK    2600             -         124             50   \n",
       "1     SH_CLERK    2600             -         124             50   \n",
       "2      AD_ASST    4400             -         101             10   \n",
       "3       MK_MAN   13000             -         100             20   \n",
       "4       MK_REP    6000             -         201             20   \n",
       "5       HR_REP    6500             -         101             40   \n",
       "6       PR_REP   10000             -         101             70   \n",
       "7       AC_MGR   12008             -         101            110   \n",
       "8   AC_ACCOUNT    8300             -         205            110   \n",
       "9      AD_PRES   24000             -          -              90   \n",
       "10       AD_VP   17000             -         100             90   \n",
       "11       AD_VP   17000             -         100             90   \n",
       "12     IT_PROG    9000             -         102             60   \n",
       "13     IT_PROG    6000             -         103             60   \n",
       "14     IT_PROG    4800             -         103             60   \n",
       "15     IT_PROG    4800             -         103             60   \n",
       "16     IT_PROG    4200             -         103             60   \n",
       "17      FI_MGR   12008             -         101            100   \n",
       "18  FI_ACCOUNT    9000             -         108            100   \n",
       "19  FI_ACCOUNT    8200             -         108            100   \n",
       "20  FI_ACCOUNT    7700             -         108            100   \n",
       "21  FI_ACCOUNT    7800             -         108            100   \n",
       "22  FI_ACCOUNT    6900             -         108            100   \n",
       "23      PU_MAN   11000             -         100             30   \n",
       "24    PU_CLERK    3100             -         114             30   \n",
       "25    PU_CLERK    2900             -         114             30   \n",
       "26    PU_CLERK    2800             -         114             30   \n",
       "27    PU_CLERK    2600             -         114             30   \n",
       "28    PU_CLERK    2500             -         114             30   \n",
       "29      ST_MAN    8000             -         100             50   \n",
       "30      ST_MAN    8200             -         100             50   \n",
       "31      ST_MAN    7900             -         100             50   \n",
       "32      ST_MAN    6500             -         100             50   \n",
       "33      ST_MAN    5800             -         100             50   \n",
       "34    ST_CLERK    3200             -         120             50   \n",
       "35    ST_CLERK    2700             -         120             50   \n",
       "36    ST_CLERK    2400             -         120             50   \n",
       "37    ST_CLERK    2200             -         120             50   \n",
       "38    ST_CLERK    3300             -         121             50   \n",
       "39    ST_CLERK    2800             -         121             50   \n",
       "40    ST_CLERK    2500             -         121             50   \n",
       "41    ST_CLERK    2100             -         121             50   \n",
       "42    ST_CLERK    3300             -         122             50   \n",
       "43    ST_CLERK    2900             -         122             50   \n",
       "44    ST_CLERK    2400             -         122             50   \n",
       "45    ST_CLERK    2200             -         122             50   \n",
       "46    ST_CLERK    3600             -         123             50   \n",
       "47    ST_CLERK    3200             -         123             50   \n",
       "48    ST_CLERK    2700             -         123             50   \n",
       "49    ST_CLERK    2500             -         123             50   \n",
       "\n",
       "                 NAME  \n",
       "0     Donald OConnell  \n",
       "1       Douglas Grant  \n",
       "2     Jennifer Whalen  \n",
       "3   Michael Hartstein  \n",
       "4             Pat Fay  \n",
       "5        Susan Mavris  \n",
       "6        Hermann Baer  \n",
       "7     Shelley Higgins  \n",
       "8       William Gietz  \n",
       "9         Steven King  \n",
       "10      Neena Kochhar  \n",
       "11        Lex De Haan  \n",
       "12   Alexander Hunold  \n",
       "13        Bruce Ernst  \n",
       "14       David Austin  \n",
       "15    Valli Pataballa  \n",
       "16      Diana Lorentz  \n",
       "17    Nancy Greenberg  \n",
       "18      Daniel Faviet  \n",
       "19          John Chen  \n",
       "20     Ismael Sciarra  \n",
       "21  Jose Manuel Urman  \n",
       "22          Luis Popp  \n",
       "23       Den Raphaely  \n",
       "24     Alexander Khoo  \n",
       "25       Shelli Baida  \n",
       "26       Sigal Tobias  \n",
       "27         Guy Himuro  \n",
       "28   Karen Colmenares  \n",
       "29      Matthew Weiss  \n",
       "30         Adam Fripp  \n",
       "31     Payam Kaufling  \n",
       "32     Shanta Vollman  \n",
       "33      Kevin Mourgos  \n",
       "34        Julia Nayer  \n",
       "35  Irene Mikkilineni  \n",
       "36       James Landry  \n",
       "37      Steven Markle  \n",
       "38       Laura Bissot  \n",
       "39     Mozhe Atkinson  \n",
       "40       James Marlow  \n",
       "41           TJ Olson  \n",
       "42       Jason Mallin  \n",
       "43     Michael Rogers  \n",
       "44             Ki Gee  \n",
       "45   Hazel Philtanker  \n",
       "46      Renske Ladwig  \n",
       "47     Stephen Stiles  \n",
       "48           John Seo  \n",
       "49       Joshua Patel  "
      ]
     },
     "execution_count": 80,
     "metadata": {},
     "output_type": "execute_result"
    }
   ],
   "source": [
    "em"
   ]
  },
  {
   "cell_type": "markdown",
   "id": "3e5bb780-8d79-457c-95e2-59a8c5aaf5fb",
   "metadata": {},
   "source": [
    "### 3-3. NAME에서 시작이 A인 사원만 뽑기"
   ]
  },
  {
   "cell_type": "code",
   "execution_count": 82,
   "id": "0abb51ca-7f80-4fdd-ae05-b7fde60de081",
   "metadata": {},
   "outputs": [
    {
     "data": {
      "text/html": [
       "<div>\n",
       "<style scoped>\n",
       "    .dataframe tbody tr th:only-of-type {\n",
       "        vertical-align: middle;\n",
       "    }\n",
       "\n",
       "    .dataframe tbody tr th {\n",
       "        vertical-align: top;\n",
       "    }\n",
       "\n",
       "    .dataframe thead th {\n",
       "        text-align: right;\n",
       "    }\n",
       "</style>\n",
       "<table border=\"1\" class=\"dataframe\">\n",
       "  <thead>\n",
       "    <tr style=\"text-align: right;\">\n",
       "      <th></th>\n",
       "      <th>EMPLOYEE_ID</th>\n",
       "      <th>FIRST_NAME</th>\n",
       "      <th>LAST_NAME</th>\n",
       "      <th>EMAIL</th>\n",
       "      <th>PHONE_NUMBER</th>\n",
       "      <th>HIRE_DATE</th>\n",
       "      <th>JOB_ID</th>\n",
       "      <th>SALARY</th>\n",
       "      <th>COMMISSION_PCT</th>\n",
       "      <th>MANAGER_ID</th>\n",
       "      <th>DEPARTMENT_ID</th>\n",
       "      <th>NAME</th>\n",
       "    </tr>\n",
       "  </thead>\n",
       "  <tbody>\n",
       "    <tr>\n",
       "      <th>12</th>\n",
       "      <td>103</td>\n",
       "      <td>Alexander</td>\n",
       "      <td>Hunold</td>\n",
       "      <td>AHUNOLD</td>\n",
       "      <td>590.423.4567</td>\n",
       "      <td>03-JAN-06</td>\n",
       "      <td>IT_PROG</td>\n",
       "      <td>9000</td>\n",
       "      <td>-</td>\n",
       "      <td>102</td>\n",
       "      <td>60</td>\n",
       "      <td>Alexander Hunold</td>\n",
       "    </tr>\n",
       "    <tr>\n",
       "      <th>24</th>\n",
       "      <td>115</td>\n",
       "      <td>Alexander</td>\n",
       "      <td>Khoo</td>\n",
       "      <td>AKHOO</td>\n",
       "      <td>515.127.4562</td>\n",
       "      <td>18-MAY-03</td>\n",
       "      <td>PU_CLERK</td>\n",
       "      <td>3100</td>\n",
       "      <td>-</td>\n",
       "      <td>114</td>\n",
       "      <td>30</td>\n",
       "      <td>Alexander Khoo</td>\n",
       "    </tr>\n",
       "    <tr>\n",
       "      <th>30</th>\n",
       "      <td>121</td>\n",
       "      <td>Adam</td>\n",
       "      <td>Fripp</td>\n",
       "      <td>AFRIPP</td>\n",
       "      <td>650.123.2234</td>\n",
       "      <td>10-APR-05</td>\n",
       "      <td>ST_MAN</td>\n",
       "      <td>8200</td>\n",
       "      <td>-</td>\n",
       "      <td>100</td>\n",
       "      <td>50</td>\n",
       "      <td>Adam Fripp</td>\n",
       "    </tr>\n",
       "  </tbody>\n",
       "</table>\n",
       "</div>"
      ],
      "text/plain": [
       "    EMPLOYEE_ID FIRST_NAME LAST_NAME    EMAIL  PHONE_NUMBER  HIRE_DATE  \\\n",
       "12          103  Alexander    Hunold  AHUNOLD  590.423.4567  03-JAN-06   \n",
       "24          115  Alexander      Khoo    AKHOO  515.127.4562  18-MAY-03   \n",
       "30          121       Adam     Fripp   AFRIPP  650.123.2234  10-APR-05   \n",
       "\n",
       "      JOB_ID  SALARY COMMISSION_PCT MANAGER_ID  DEPARTMENT_ID  \\\n",
       "12   IT_PROG    9000             -         102             60   \n",
       "24  PU_CLERK    3100             -         114             30   \n",
       "30    ST_MAN    8200             -         100             50   \n",
       "\n",
       "                NAME  \n",
       "12  Alexander Hunold  \n",
       "24    Alexander Khoo  \n",
       "30        Adam Fripp  "
      ]
     },
     "execution_count": 82,
     "metadata": {},
     "output_type": "execute_result"
    }
   ],
   "source": [
    "df = em[em[\"NAME\"].str.contains(\"^A.+\")]\n",
    "df"
   ]
  },
  {
   "cell_type": "markdown",
   "id": "3ac91f91-136e-43d6-bbaa-5a748ae26a13",
   "metadata": {},
   "source": [
    "### 3-4. titanic 에서 sex -> gender 로 바꾸가"
   ]
  },
  {
   "cell_type": "code",
   "execution_count": 87,
   "id": "c20cec98-9e42-490f-a684-b686d0aea089",
   "metadata": {},
   "outputs": [],
   "source": [
    "titanic.rename(columns={'Sex':'Gender'}, inplace = True) "
   ]
  },
  {
   "cell_type": "code",
   "execution_count": 88,
   "id": "f74fc39a-91c6-4843-b5d9-e018ccd23887",
   "metadata": {},
   "outputs": [
    {
     "data": {
      "text/html": [
       "<div>\n",
       "<style scoped>\n",
       "    .dataframe tbody tr th:only-of-type {\n",
       "        vertical-align: middle;\n",
       "    }\n",
       "\n",
       "    .dataframe tbody tr th {\n",
       "        vertical-align: top;\n",
       "    }\n",
       "\n",
       "    .dataframe thead th {\n",
       "        text-align: right;\n",
       "    }\n",
       "</style>\n",
       "<table border=\"1\" class=\"dataframe\">\n",
       "  <thead>\n",
       "    <tr style=\"text-align: right;\">\n",
       "      <th></th>\n",
       "      <th>PassengerId</th>\n",
       "      <th>Survived</th>\n",
       "      <th>Pclass</th>\n",
       "      <th>Name</th>\n",
       "      <th>Gender</th>\n",
       "      <th>Age</th>\n",
       "      <th>SibSp</th>\n",
       "      <th>Parch</th>\n",
       "      <th>Ticket</th>\n",
       "      <th>Fare</th>\n",
       "      <th>Cabin</th>\n",
       "      <th>Embarked</th>\n",
       "    </tr>\n",
       "  </thead>\n",
       "  <tbody>\n",
       "    <tr>\n",
       "      <th>0</th>\n",
       "      <td>1</td>\n",
       "      <td>0</td>\n",
       "      <td>3</td>\n",
       "      <td>Braund, Mr. Owen Harris</td>\n",
       "      <td>male</td>\n",
       "      <td>22.0</td>\n",
       "      <td>1</td>\n",
       "      <td>0</td>\n",
       "      <td>A/5 21171</td>\n",
       "      <td>7.2500</td>\n",
       "      <td>NaN</td>\n",
       "      <td>S</td>\n",
       "    </tr>\n",
       "    <tr>\n",
       "      <th>1</th>\n",
       "      <td>2</td>\n",
       "      <td>1</td>\n",
       "      <td>1</td>\n",
       "      <td>Cumings, Mrs. John Bradley (Florence Briggs Th...</td>\n",
       "      <td>female</td>\n",
       "      <td>38.0</td>\n",
       "      <td>1</td>\n",
       "      <td>0</td>\n",
       "      <td>PC 17599</td>\n",
       "      <td>71.2833</td>\n",
       "      <td>C85</td>\n",
       "      <td>C</td>\n",
       "    </tr>\n",
       "    <tr>\n",
       "      <th>2</th>\n",
       "      <td>3</td>\n",
       "      <td>1</td>\n",
       "      <td>3</td>\n",
       "      <td>Heikkinen, Miss. Laina</td>\n",
       "      <td>female</td>\n",
       "      <td>26.0</td>\n",
       "      <td>0</td>\n",
       "      <td>0</td>\n",
       "      <td>STON/O2. 3101282</td>\n",
       "      <td>7.9250</td>\n",
       "      <td>NaN</td>\n",
       "      <td>S</td>\n",
       "    </tr>\n",
       "    <tr>\n",
       "      <th>3</th>\n",
       "      <td>4</td>\n",
       "      <td>1</td>\n",
       "      <td>1</td>\n",
       "      <td>Futrelle, Mrs. Jacques Heath (Lily May Peel)</td>\n",
       "      <td>female</td>\n",
       "      <td>35.0</td>\n",
       "      <td>1</td>\n",
       "      <td>0</td>\n",
       "      <td>113803</td>\n",
       "      <td>53.1000</td>\n",
       "      <td>C123</td>\n",
       "      <td>S</td>\n",
       "    </tr>\n",
       "    <tr>\n",
       "      <th>4</th>\n",
       "      <td>5</td>\n",
       "      <td>0</td>\n",
       "      <td>3</td>\n",
       "      <td>Allen, Mr. William Henry</td>\n",
       "      <td>male</td>\n",
       "      <td>35.0</td>\n",
       "      <td>0</td>\n",
       "      <td>0</td>\n",
       "      <td>373450</td>\n",
       "      <td>8.0500</td>\n",
       "      <td>NaN</td>\n",
       "      <td>S</td>\n",
       "    </tr>\n",
       "    <tr>\n",
       "      <th>...</th>\n",
       "      <td>...</td>\n",
       "      <td>...</td>\n",
       "      <td>...</td>\n",
       "      <td>...</td>\n",
       "      <td>...</td>\n",
       "      <td>...</td>\n",
       "      <td>...</td>\n",
       "      <td>...</td>\n",
       "      <td>...</td>\n",
       "      <td>...</td>\n",
       "      <td>...</td>\n",
       "      <td>...</td>\n",
       "    </tr>\n",
       "    <tr>\n",
       "      <th>886</th>\n",
       "      <td>887</td>\n",
       "      <td>0</td>\n",
       "      <td>2</td>\n",
       "      <td>Montvila, Rev. Juozas</td>\n",
       "      <td>male</td>\n",
       "      <td>27.0</td>\n",
       "      <td>0</td>\n",
       "      <td>0</td>\n",
       "      <td>211536</td>\n",
       "      <td>13.0000</td>\n",
       "      <td>NaN</td>\n",
       "      <td>S</td>\n",
       "    </tr>\n",
       "    <tr>\n",
       "      <th>887</th>\n",
       "      <td>888</td>\n",
       "      <td>1</td>\n",
       "      <td>1</td>\n",
       "      <td>Graham, Miss. Margaret Edith</td>\n",
       "      <td>female</td>\n",
       "      <td>19.0</td>\n",
       "      <td>0</td>\n",
       "      <td>0</td>\n",
       "      <td>112053</td>\n",
       "      <td>30.0000</td>\n",
       "      <td>B42</td>\n",
       "      <td>S</td>\n",
       "    </tr>\n",
       "    <tr>\n",
       "      <th>888</th>\n",
       "      <td>889</td>\n",
       "      <td>0</td>\n",
       "      <td>3</td>\n",
       "      <td>Johnston, Miss. Catherine Helen \"Carrie\"</td>\n",
       "      <td>female</td>\n",
       "      <td>NaN</td>\n",
       "      <td>1</td>\n",
       "      <td>2</td>\n",
       "      <td>W./C. 6607</td>\n",
       "      <td>23.4500</td>\n",
       "      <td>NaN</td>\n",
       "      <td>S</td>\n",
       "    </tr>\n",
       "    <tr>\n",
       "      <th>889</th>\n",
       "      <td>890</td>\n",
       "      <td>1</td>\n",
       "      <td>1</td>\n",
       "      <td>Behr, Mr. Karl Howell</td>\n",
       "      <td>male</td>\n",
       "      <td>26.0</td>\n",
       "      <td>0</td>\n",
       "      <td>0</td>\n",
       "      <td>111369</td>\n",
       "      <td>30.0000</td>\n",
       "      <td>C148</td>\n",
       "      <td>C</td>\n",
       "    </tr>\n",
       "    <tr>\n",
       "      <th>890</th>\n",
       "      <td>891</td>\n",
       "      <td>0</td>\n",
       "      <td>3</td>\n",
       "      <td>Dooley, Mr. Patrick</td>\n",
       "      <td>male</td>\n",
       "      <td>32.0</td>\n",
       "      <td>0</td>\n",
       "      <td>0</td>\n",
       "      <td>370376</td>\n",
       "      <td>7.7500</td>\n",
       "      <td>NaN</td>\n",
       "      <td>Q</td>\n",
       "    </tr>\n",
       "  </tbody>\n",
       "</table>\n",
       "<p>891 rows × 12 columns</p>\n",
       "</div>"
      ],
      "text/plain": [
       "     PassengerId  Survived  Pclass  \\\n",
       "0              1         0       3   \n",
       "1              2         1       1   \n",
       "2              3         1       3   \n",
       "3              4         1       1   \n",
       "4              5         0       3   \n",
       "..           ...       ...     ...   \n",
       "886          887         0       2   \n",
       "887          888         1       1   \n",
       "888          889         0       3   \n",
       "889          890         1       1   \n",
       "890          891         0       3   \n",
       "\n",
       "                                                  Name  Gender   Age  SibSp  \\\n",
       "0                              Braund, Mr. Owen Harris    male  22.0      1   \n",
       "1    Cumings, Mrs. John Bradley (Florence Briggs Th...  female  38.0      1   \n",
       "2                               Heikkinen, Miss. Laina  female  26.0      0   \n",
       "3         Futrelle, Mrs. Jacques Heath (Lily May Peel)  female  35.0      1   \n",
       "4                             Allen, Mr. William Henry    male  35.0      0   \n",
       "..                                                 ...     ...   ...    ...   \n",
       "886                              Montvila, Rev. Juozas    male  27.0      0   \n",
       "887                       Graham, Miss. Margaret Edith  female  19.0      0   \n",
       "888           Johnston, Miss. Catherine Helen \"Carrie\"  female   NaN      1   \n",
       "889                              Behr, Mr. Karl Howell    male  26.0      0   \n",
       "890                                Dooley, Mr. Patrick    male  32.0      0   \n",
       "\n",
       "     Parch            Ticket     Fare Cabin Embarked  \n",
       "0        0         A/5 21171   7.2500   NaN        S  \n",
       "1        0          PC 17599  71.2833   C85        C  \n",
       "2        0  STON/O2. 3101282   7.9250   NaN        S  \n",
       "3        0            113803  53.1000  C123        S  \n",
       "4        0            373450   8.0500   NaN        S  \n",
       "..     ...               ...      ...   ...      ...  \n",
       "886      0            211536  13.0000   NaN        S  \n",
       "887      0            112053  30.0000   B42        S  \n",
       "888      2        W./C. 6607  23.4500   NaN        S  \n",
       "889      0            111369  30.0000  C148        C  \n",
       "890      0            370376   7.7500   NaN        Q  \n",
       "\n",
       "[891 rows x 12 columns]"
      ]
     },
     "execution_count": 88,
     "metadata": {},
     "output_type": "execute_result"
    }
   ],
   "source": [
    "titanic"
   ]
  },
  {
   "cell_type": "code",
   "execution_count": 89,
   "id": "c1c6a9a7-eb9f-4187-a217-611d9d21f3ab",
   "metadata": {},
   "outputs": [],
   "source": [
    "### 3-5. 생존자 중 남자는 몇명인가요? "
   ]
  },
  {
   "cell_type": "code",
   "execution_count": 105,
   "id": "b2a6d39a-e4aa-4e65-86f1-c18948d2333b",
   "metadata": {},
   "outputs": [],
   "source": [
    "# 방법 1\n",
    "len(titanic[(titanic[\"Survived\"] == 1) & (titanic[\"Gender\"] == 'male')])\n",
    "\n",
    "titanic[(titanic[\"Survived\"] == 1) & (titanic[\"Gender\"] == 'male')]"
   ]
  },
  {
   "cell_type": "code",
   "execution_count": 104,
   "id": "aae9e188-ebd8-4656-a3b1-cfa1dcbc99a6",
   "metadata": {},
   "outputs": [
    {
     "data": {
      "text/plain": [
       "109"
      ]
     },
     "execution_count": 104,
     "metadata": {},
     "output_type": "execute_result"
    }
   ],
   "source": [
    "# 방법 2\n",
    "surv = titanic[titanic[\"Survived\"]==1]\n",
    "surv\n",
    "len(surv[surv[\"Gender\"]==\"male\"]) "
   ]
  },
  {
   "cell_type": "code",
   "execution_count": 99,
   "id": "d6446b58-05ab-4ba7-be4e-12f41e0a8e88",
   "metadata": {},
   "outputs": [
    {
     "data": {
      "text/plain": [
       "109"
      ]
     },
     "execution_count": 99,
     "metadata": {},
     "output_type": "execute_result"
    }
   ],
   "source": [
    "# 방법 3\n",
    "(titanic[titanic[\"Survived\"]==1][\"Gender\"]==\"male\").sum() "
   ]
  },
  {
   "cell_type": "code",
   "execution_count": 103,
   "id": "934b0b3b-fcb5-45f4-b049-b1c8b38a8ca2",
   "metadata": {},
   "outputs": [
    {
     "name": "stderr",
     "output_type": "stream",
     "text": [
      "C:\\Users\\user\\AppData\\Local\\Temp\\ipykernel_1820\\2103845028.py:1: UserWarning: Boolean Series key will be reindexed to match DataFrame index.\n",
      "  titanic[titanic.Survived == 1][titanic.Gender == 'male'].__len__()\n"
     ]
    },
    {
     "data": {
      "text/plain": [
       "109"
      ]
     },
     "execution_count": 103,
     "metadata": {},
     "output_type": "execute_result"
    }
   ],
   "source": [
    "# 방법 4                 \n",
    "titanic[titanic.Survived == 1][titanic.Gender == 'male'].__len__() "
   ]
  },
  {
   "cell_type": "markdown",
   "id": "aebd33fc-c80e-4428-b85d-f338cc603750",
   "metadata": {},
   "source": [
    "# 2교시 : 교재 149p ~"
   ]
  },
  {
   "cell_type": "code",
   "execution_count": 110,
   "id": "d9a1df84-f265-4904-a80f-11d7902a900c",
   "metadata": {},
   "outputs": [
    {
     "data": {
      "text/plain": [
       "array([1, 0, 0, 1, 0, 0, 0])"
      ]
     },
     "execution_count": 110,
     "metadata": {},
     "output_type": "execute_result"
    }
   ],
   "source": [
    "np.array([1,0,0,1,0,0,0])"
   ]
  },
  {
   "cell_type": "code",
   "execution_count": 112,
   "id": "2fb09a36-9dca-4f46-a93a-8c63381a6fd5",
   "metadata": {},
   "outputs": [
    {
     "data": {
      "text/plain": [
       "array([ True, False, False,  True, False, False, False])"
      ]
     },
     "execution_count": 112,
     "metadata": {},
     "output_type": "execute_result"
    }
   ],
   "source": [
    "a = np.array([1,0,0,1,0,0,0], dtype='bool')\n",
    "a"
   ]
  },
  {
   "cell_type": "code",
   "execution_count": 109,
   "id": "df8f0b25-35f2-400b-864b-d6c5c60a3e52",
   "metadata": {},
   "outputs": [
    {
     "data": {
      "text/plain": [
       "array([[-1.30001032, -1.07298904,  0.79019919, -0.8782655 ],\n",
       "       [ 1.50182182, -0.02392945,  0.27594888, -0.96639308],\n",
       "       [-1.58031468, -0.20367464, -1.54766708, -0.39149765],\n",
       "       [ 1.09438578, -0.3756688 , -0.93873425,  0.41438157],\n",
       "       [ 1.36151086,  1.37905918,  0.66694943,  0.17196362],\n",
       "       [ 0.55726654,  0.65463436,  0.24945962, -0.62681223],\n",
       "       [ 0.61957115,  0.33862397, -0.90010976, -0.81276284]])"
      ]
     },
     "execution_count": 109,
     "metadata": {},
     "output_type": "execute_result"
    }
   ],
   "source": [
    "a = np.array([1,0,0,1,0,0,0], dtype='bool')\n",
    "np.random.seed(1111)\n",
    "arr = np.random.randn(7,4)\n",
    "arr"
   ]
  },
  {
   "cell_type": "code",
   "execution_count": 113,
   "id": "dc085166-bed2-4092-990a-6c8c5308ec43",
   "metadata": {},
   "outputs": [
    {
     "data": {
      "text/plain": [
       "array([-1.07298904,  0.41438157])"
      ]
     },
     "execution_count": 113,
     "metadata": {},
     "output_type": "execute_result"
    }
   ],
   "source": [
    "arr[[0,3],[1,3]]"
   ]
  },
  {
   "cell_type": "code",
   "execution_count": 114,
   "id": "80b5fe4f-c563-423c-9866-abd12f3fda01",
   "metadata": {},
   "outputs": [
    {
     "data": {
      "text/plain": [
       "array([[-1.07298904, -0.8782655 ],\n",
       "       [-0.3756688 ,  0.41438157]])"
      ]
     },
     "execution_count": 114,
     "metadata": {},
     "output_type": "execute_result"
    }
   ],
   "source": [
    "arr[[0,3],1:4:2]"
   ]
  },
  {
   "cell_type": "code",
   "execution_count": 115,
   "id": "269e6c5f-29d7-4224-a04c-a30fc11b6b68",
   "metadata": {},
   "outputs": [
    {
     "data": {
      "text/plain": [
       "array([[-1.30001032, -1.07298904,  0.79019919, -0.8782655 ],\n",
       "       [ 1.09438578, -0.3756688 , -0.93873425,  0.41438157]])"
      ]
     },
     "execution_count": 115,
     "metadata": {},
     "output_type": "execute_result"
    }
   ],
   "source": [
    "arr[[0,3]]"
   ]
  },
  {
   "cell_type": "code",
   "execution_count": 116,
   "id": "763e0ff9-b5d6-4aee-b17f-fbd32be6e615",
   "metadata": {},
   "outputs": [
    {
     "data": {
      "text/plain": [
       "array([[-1.30001032, -1.07298904,  0.79019919, -0.8782655 ],\n",
       "       [ 1.09438578, -0.3756688 , -0.93873425,  0.41438157]])"
      ]
     },
     "execution_count": 116,
     "metadata": {},
     "output_type": "execute_result"
    }
   ],
   "source": [
    "arr[a]"
   ]
  },
  {
   "cell_type": "code",
   "execution_count": 118,
   "id": "7fc6f310-b7c6-48b0-bc9b-d87eacb55dc9",
   "metadata": {},
   "outputs": [
    {
     "data": {
      "text/plain": [
       "array([[ 1.50182182, -0.02392945,  0.27594888, -0.96639308],\n",
       "       [-1.58031468, -0.20367464, -1.54766708, -0.39149765],\n",
       "       [ 1.36151086,  1.37905918,  0.66694943,  0.17196362],\n",
       "       [ 0.55726654,  0.65463436,  0.24945962, -0.62681223],\n",
       "       [ 0.61957115,  0.33862397, -0.90010976, -0.81276284]])"
      ]
     },
     "execution_count": 118,
     "metadata": {},
     "output_type": "execute_result"
    }
   ],
   "source": [
    "arr[~a]"
   ]
  },
  {
   "cell_type": "code",
   "execution_count": 119,
   "id": "513f06ac-894b-4c07-a96d-124c7fe1dfa5",
   "metadata": {},
   "outputs": [],
   "source": [
    "arr[arr<0]=0"
   ]
  },
  {
   "cell_type": "code",
   "execution_count": 120,
   "id": "c76350bd-77cd-420f-8cb6-f6788fc7105b",
   "metadata": {},
   "outputs": [
    {
     "data": {
      "text/plain": [
       "array([[0.        , 0.        , 0.79019919, 0.        ],\n",
       "       [1.50182182, 0.        , 0.27594888, 0.        ],\n",
       "       [0.        , 0.        , 0.        , 0.        ],\n",
       "       [1.09438578, 0.        , 0.        , 0.41438157],\n",
       "       [1.36151086, 1.37905918, 0.66694943, 0.17196362],\n",
       "       [0.55726654, 0.65463436, 0.24945962, 0.        ],\n",
       "       [0.61957115, 0.33862397, 0.        , 0.        ]])"
      ]
     },
     "execution_count": 120,
     "metadata": {},
     "output_type": "execute_result"
    }
   ],
   "source": [
    "arr"
   ]
  },
  {
   "cell_type": "code",
   "execution_count": 121,
   "id": "29bf790e-f8ff-48a7-862f-6b1893bb82a5",
   "metadata": {},
   "outputs": [
    {
     "data": {
      "text/plain": [
       "array([[ 0.,  0.,  0.,  0.],\n",
       "       [ 2.,  2.,  2.,  2.],\n",
       "       [ 4.,  4.,  4.,  4.],\n",
       "       [ 6.,  6.,  6.,  6.],\n",
       "       [ 8.,  8.,  8.,  8.],\n",
       "       [10., 10., 10., 10.],\n",
       "       [12., 12., 12., 12.],\n",
       "       [14., 14., 14., 14.]])"
      ]
     },
     "execution_count": 121,
     "metadata": {},
     "output_type": "execute_result"
    }
   ],
   "source": [
    "arr = np.empty((8,4))\n",
    "for i in range(8):\n",
    "      arr[i] = i*2\n",
    "arr"
   ]
  },
  {
   "cell_type": "code",
   "execution_count": 123,
   "id": "8a9c4946-bd63-41ce-a9ee-184f63408a33",
   "metadata": {},
   "outputs": [
    {
     "data": {
      "text/plain": [
       "array([[0., 0., 0., 0.],\n",
       "       [6., 6., 6., 6.],\n",
       "       [2., 2., 2., 2.]])"
      ]
     },
     "execution_count": 123,
     "metadata": {},
     "output_type": "execute_result"
    }
   ],
   "source": [
    "arr[[0,3,1]]"
   ]
  },
  {
   "cell_type": "code",
   "execution_count": 124,
   "id": "93a45266-279d-4a23-ba79-08220b3c583f",
   "metadata": {},
   "outputs": [
    {
     "data": {
      "text/plain": [
       "array([0., 6., 2.])"
      ]
     },
     "execution_count": 124,
     "metadata": {},
     "output_type": "execute_result"
    }
   ],
   "source": [
    "arr[[0,3,1],[0,3,1]]\n"
   ]
  },
  {
   "cell_type": "code",
   "execution_count": 125,
   "id": "d9daf3ba-2fac-402a-9ad7-25f7f5ad1e98",
   "metadata": {},
   "outputs": [
    {
     "data": {
      "text/plain": [
       "array([[0., 0.],\n",
       "       [6., 6.],\n",
       "       [2., 2.]])"
      ]
     },
     "execution_count": 125,
     "metadata": {},
     "output_type": "execute_result"
    }
   ],
   "source": [
    "arr[[0,3,1],::2]"
   ]
  },
  {
   "cell_type": "code",
   "execution_count": 127,
   "id": "1ad3d5f2-7816-4fc3-93d3-14cae42e8a26",
   "metadata": {},
   "outputs": [
    {
     "data": {
      "text/plain": [
       "array([[0., 0., 0.],\n",
       "       [6., 6., 6.],\n",
       "       [2., 2., 2.]])"
      ]
     },
     "execution_count": 127,
     "metadata": {},
     "output_type": "execute_result"
    }
   ],
   "source": [
    "arr[[0,3,1], :3]"
   ]
  },
  {
   "cell_type": "code",
   "execution_count": 133,
   "id": "67f49a3b-3f20-4e1e-9d05-67509350989d",
   "metadata": {},
   "outputs": [
    {
     "data": {
      "text/plain": [
       "array([[0., 0., 0.],\n",
       "       [6., 6., 6.],\n",
       "       [2., 2., 2.]])"
      ]
     },
     "execution_count": 133,
     "metadata": {},
     "output_type": "execute_result"
    }
   ],
   "source": [
    "arr[[0,3,1]][:,[0,3,1]]"
   ]
  },
  {
   "cell_type": "code",
   "execution_count": 134,
   "id": "8eb47bd4-8df3-44dc-8161-a8f67654a1bc",
   "metadata": {},
   "outputs": [
    {
     "data": {
      "text/plain": [
       "array([[ 0,  1,  2,  3,  4,  5,  6,  7],\n",
       "       [ 8,  9, 10, 11, 12, 13, 14, 15],\n",
       "       [16, 17, 18, 19, 20, 21, 22, 23],\n",
       "       [24, 25, 26, 27, 28, 29, 30, 31],\n",
       "       [32, 33, 34, 35, 36, 37, 38, 39],\n",
       "       [40, 41, 42, 43, 44, 45, 46, 47],\n",
       "       [48, 49, 50, 51, 52, 53, 54, 55],\n",
       "       [56, 57, 58, 59, 60, 61, 62, 63],\n",
       "       [64, 65, 66, 67, 68, 69, 70, 71],\n",
       "       [72, 73, 74, 75, 76, 77, 78, 79]])"
      ]
     },
     "execution_count": 134,
     "metadata": {},
     "output_type": "execute_result"
    }
   ],
   "source": [
    "arr = np.arange(80).reshape(10,8)\n",
    "arr"
   ]
  },
  {
   "cell_type": "code",
   "execution_count": 136,
   "id": "07de925b-fb6b-407b-ad88-820bc01378c4",
   "metadata": {},
   "outputs": [
    {
     "data": {
      "text/plain": [
       "array([[ 0,  1,  2,  3,  4,  5,  6,  7],\n",
       "       [40, 41, 42, 43, 44, 45, 46, 47],\n",
       "       [24, 25, 26, 27, 28, 29, 30, 31],\n",
       "       [56, 57, 58, 59, 60, 61, 62, 63]])"
      ]
     },
     "execution_count": 136,
     "metadata": {},
     "output_type": "execute_result"
    }
   ],
   "source": [
    "# 1. 행 인덱스 0,5,3,7 추출하기\n",
    "arr[[0,5,3,7]]"
   ]
  },
  {
   "cell_type": "code",
   "execution_count": 138,
   "id": "57200389-2341-4264-92c6-e9f47e5f786c",
   "metadata": {},
   "outputs": [
    {
     "data": {
      "text/plain": [
       "array([ 1, 42, 29, 60])"
      ]
     },
     "execution_count": 138,
     "metadata": {},
     "output_type": "execute_result"
    }
   ],
   "source": [
    "# 2. 숫자 1, 42, 29, 60 추출\n",
    "arr[[0,5,3,7],[1,2,5,4]]"
   ]
  },
  {
   "cell_type": "code",
   "execution_count": 140,
   "id": "c0ce160c-41c2-488d-b9f8-548ca7e9c557",
   "metadata": {},
   "outputs": [
    {
     "data": {
      "text/plain": [
       "array([[ 1,  2,  5,  4],\n",
       "       [41, 42, 45, 44],\n",
       "       [25, 26, 29, 28],\n",
       "       [57, 58, 61, 60]])"
      ]
     },
     "execution_count": 140,
     "metadata": {},
     "output_type": "execute_result"
    }
   ],
   "source": [
    "# 3. 행 인덱스 0,5,3,7이고 1, 42, 29, 60이 있는 칼럼을 모두 추출\n",
    "arr[[0,5,3,7]][:,[1,2,5,4]]"
   ]
  },
  {
   "cell_type": "markdown",
   "id": "47fe7c67-b758-4a65-831d-3b6f3679d33b",
   "metadata": {},
   "source": [
    "# 3교시 : 155p~"
   ]
  },
  {
   "cell_type": "code",
   "execution_count": 144,
   "id": "081e1859-aaf1-4eec-91bc-82a9ce8289b7",
   "metadata": {},
   "outputs": [
    {
     "data": {
      "text/plain": [
       "array([[ 0,  1,  2],\n",
       "       [ 8,  9, 10]])"
      ]
     },
     "execution_count": 144,
     "metadata": {},
     "output_type": "execute_result"
    }
   ],
   "source": [
    "arr = arr[:2, :3]\n",
    "arr"
   ]
  },
  {
   "cell_type": "code",
   "execution_count": 145,
   "id": "74f37beb-f93b-40e9-885b-c9164ef88c8d",
   "metadata": {},
   "outputs": [
    {
     "data": {
      "text/plain": [
       "30"
      ]
     },
     "execution_count": 145,
     "metadata": {},
     "output_type": "execute_result"
    }
   ],
   "source": [
    "np.sum(arr)"
   ]
  },
  {
   "cell_type": "code",
   "execution_count": 146,
   "id": "6a9ef51f-bf40-4ade-90c1-037cc5f74bfb",
   "metadata": {},
   "outputs": [
    {
     "data": {
      "text/plain": [
       "array([[0.        , 1.        , 1.41421356],\n",
       "       [2.82842712, 3.        , 3.16227766]])"
      ]
     },
     "execution_count": 146,
     "metadata": {},
     "output_type": "execute_result"
    }
   ],
   "source": [
    "np.sqrt(arr)"
   ]
  },
  {
   "cell_type": "code",
   "execution_count": 147,
   "id": "840adc2a-9c35-46b5-ab13-c31e537fc7b6",
   "metadata": {},
   "outputs": [
    {
     "data": {
      "text/plain": [
       "array([[1.00000000e+00, 2.71828183e+00, 7.38905610e+00],\n",
       "       [2.98095799e+03, 8.10308393e+03, 2.20264658e+04]])"
      ]
     },
     "execution_count": 147,
     "metadata": {},
     "output_type": "execute_result"
    }
   ],
   "source": [
    "np.exp(arr)"
   ]
  },
  {
   "cell_type": "code",
   "execution_count": 148,
   "id": "b389b2de-cfe6-4c33-8252-9e83ca7dfe4e",
   "metadata": {},
   "outputs": [
    {
     "data": {
      "text/plain": [
       "array([2, 5, 3, 6])"
      ]
     },
     "execution_count": 148,
     "metadata": {},
     "output_type": "execute_result"
    }
   ],
   "source": [
    "a = np.array([1,5,2,6])\n",
    "b = np.array([2,4,3,5])\n",
    "np.maximum(a,b)"
   ]
  },
  {
   "cell_type": "code",
   "execution_count": 149,
   "id": "c0d964cc-3b5b-473c-b9c2-4a67b7cc128a",
   "metadata": {},
   "outputs": [
    {
     "data": {
      "text/plain": [
       "6"
      ]
     },
     "execution_count": 149,
     "metadata": {},
     "output_type": "execute_result"
    }
   ],
   "source": [
    "np.max(a)"
   ]
  },
  {
   "cell_type": "code",
   "execution_count": 151,
   "id": "90cbfedd-3cf0-4773-b693-aebed7c2399b",
   "metadata": {},
   "outputs": [
    {
     "data": {
      "text/plain": [
       "array([-0.3981787 , -0.73608826, -0.91604677, -0.48040354,  0.27172983,\n",
       "       -1.96711686,  1.27586633,  0.74242041])"
      ]
     },
     "execution_count": 151,
     "metadata": {},
     "output_type": "execute_result"
    }
   ],
   "source": [
    "a = np.random.randn(8)\n",
    "a"
   ]
  },
  {
   "cell_type": "code",
   "execution_count": 152,
   "id": "202d5fc8-b17f-4206-b397-09f4b7356381",
   "metadata": {},
   "outputs": [
    {
     "data": {
      "text/plain": [
       "array([ 1.12914285, -0.54250129, -0.1278111 , -1.06333718, -0.90440275,\n",
       "       -0.76932462, -0.56575892, -0.40716833])"
      ]
     },
     "execution_count": 152,
     "metadata": {},
     "output_type": "execute_result"
    }
   ],
   "source": [
    "b = np.random.randn(8)\n",
    "b"
   ]
  },
  {
   "cell_type": "code",
   "execution_count": 153,
   "id": "6624fbd7-bb39-4d4a-8e11-47a7ae6daee8",
   "metadata": {},
   "outputs": [
    {
     "data": {
      "text/plain": [
       "array([ 1.12914285, -0.54250129, -0.1278111 , -0.48040354,  0.27172983,\n",
       "       -0.76932462,  1.27586633,  0.74242041])"
      ]
     },
     "execution_count": 153,
     "metadata": {},
     "output_type": "execute_result"
    }
   ],
   "source": [
    "np.maximum(a,b)"
   ]
  },
  {
   "cell_type": "code",
   "execution_count": 154,
   "id": "de7b1bb0-a07c-4524-98df-474a4cdb89f6",
   "metadata": {},
   "outputs": [
    {
     "data": {
      "text/plain": [
       "(array([-0.3981787 , -0.73608826, -0.91604677, -0.48040354,  0.27172983,\n",
       "        -0.96711686,  0.27586633,  0.74242041]),\n",
       " array([-0., -0., -0., -0.,  0., -1.,  1.,  0.]))"
      ]
     },
     "execution_count": 154,
     "metadata": {},
     "output_type": "execute_result"
    }
   ],
   "source": [
    "np.modf(a)"
   ]
  },
  {
   "cell_type": "code",
   "execution_count": 155,
   "id": "29d646e0-cce3-4bbe-bcae-18ffea11857f",
   "metadata": {},
   "outputs": [
    {
     "data": {
      "text/plain": [
       "array([-0., -0., -0., -0.,  0., -1.,  1.,  0.])"
      ]
     },
     "execution_count": 155,
     "metadata": {},
     "output_type": "execute_result"
    }
   ],
   "source": [
    "remain, mod = np.modf(a)\n",
    "mod"
   ]
  },
  {
   "cell_type": "code",
   "execution_count": 159,
   "id": "5f51de47-cc38-426b-9e69-072f3866adf0",
   "metadata": {},
   "outputs": [
    {
     "data": {
      "text/plain": [
       "1000"
      ]
     },
     "execution_count": 159,
     "metadata": {},
     "output_type": "execute_result"
    }
   ],
   "source": [
    "points = np.arange(-5,5,0.01)\n",
    "len(points)"
   ]
  },
  {
   "cell_type": "code",
   "execution_count": 161,
   "id": "a05370c7-f740-4eef-8b84-2ddea9c84657",
   "metadata": {},
   "outputs": [
    {
     "data": {
      "text/plain": [
       "array([-5.        , -4.8989899 , -4.7979798 , -4.6969697 , -4.5959596 ,\n",
       "       -4.49494949, -4.39393939, -4.29292929, -4.19191919, -4.09090909,\n",
       "       -3.98989899, -3.88888889, -3.78787879, -3.68686869, -3.58585859,\n",
       "       -3.48484848, -3.38383838, -3.28282828, -3.18181818, -3.08080808,\n",
       "       -2.97979798, -2.87878788, -2.77777778, -2.67676768, -2.57575758,\n",
       "       -2.47474747, -2.37373737, -2.27272727, -2.17171717, -2.07070707,\n",
       "       -1.96969697, -1.86868687, -1.76767677, -1.66666667, -1.56565657,\n",
       "       -1.46464646, -1.36363636, -1.26262626, -1.16161616, -1.06060606,\n",
       "       -0.95959596, -0.85858586, -0.75757576, -0.65656566, -0.55555556,\n",
       "       -0.45454545, -0.35353535, -0.25252525, -0.15151515, -0.05050505,\n",
       "        0.05050505,  0.15151515,  0.25252525,  0.35353535,  0.45454545,\n",
       "        0.55555556,  0.65656566,  0.75757576,  0.85858586,  0.95959596,\n",
       "        1.06060606,  1.16161616,  1.26262626,  1.36363636,  1.46464646,\n",
       "        1.56565657,  1.66666667,  1.76767677,  1.86868687,  1.96969697,\n",
       "        2.07070707,  2.17171717,  2.27272727,  2.37373737,  2.47474747,\n",
       "        2.57575758,  2.67676768,  2.77777778,  2.87878788,  2.97979798,\n",
       "        3.08080808,  3.18181818,  3.28282828,  3.38383838,  3.48484848,\n",
       "        3.58585859,  3.68686869,  3.78787879,  3.88888889,  3.98989899,\n",
       "        4.09090909,  4.19191919,  4.29292929,  4.39393939,  4.49494949,\n",
       "        4.5959596 ,  4.6969697 ,  4.7979798 ,  4.8989899 ,  5.        ])"
      ]
     },
     "execution_count": 161,
     "metadata": {},
     "output_type": "execute_result"
    }
   ],
   "source": [
    "points = np.linspace(-5,5,100)\n",
    "points"
   ]
  },
  {
   "cell_type": "code",
   "execution_count": 162,
   "id": "2a85e422-0b4f-458a-b1be-dba1b4a8b301",
   "metadata": {},
   "outputs": [
    {
     "data": {
      "text/plain": [
       "array([[-5.       , -4.8989899, -4.7979798, ...,  4.7979798,  4.8989899,\n",
       "         5.       ],\n",
       "       [-5.       , -4.8989899, -4.7979798, ...,  4.7979798,  4.8989899,\n",
       "         5.       ],\n",
       "       [-5.       , -4.8989899, -4.7979798, ...,  4.7979798,  4.8989899,\n",
       "         5.       ],\n",
       "       ...,\n",
       "       [-5.       , -4.8989899, -4.7979798, ...,  4.7979798,  4.8989899,\n",
       "         5.       ],\n",
       "       [-5.       , -4.8989899, -4.7979798, ...,  4.7979798,  4.8989899,\n",
       "         5.       ],\n",
       "       [-5.       , -4.8989899, -4.7979798, ...,  4.7979798,  4.8989899,\n",
       "         5.       ]])"
      ]
     },
     "execution_count": 162,
     "metadata": {},
     "output_type": "execute_result"
    }
   ],
   "source": [
    "xs, ys = np.meshgrid(points, points)\n",
    "xs"
   ]
  },
  {
   "cell_type": "code",
   "execution_count": 163,
   "id": "cdfb5ce0-29b2-404a-8b1e-168f2acc27bb",
   "metadata": {},
   "outputs": [],
   "source": [
    "x = np.array([1,2])\n",
    "y = np.array([3,4])\n",
    "xs, ys = np.meshgrid(x, y)"
   ]
  },
  {
   "cell_type": "code",
   "execution_count": 164,
   "id": "b6cbafe8-aba5-4aae-991b-ff030c3cc5f5",
   "metadata": {},
   "outputs": [
    {
     "data": {
      "text/plain": [
       "array([[1, 2],\n",
       "       [1, 2]])"
      ]
     },
     "execution_count": 164,
     "metadata": {},
     "output_type": "execute_result"
    }
   ],
   "source": [
    "xs"
   ]
  },
  {
   "cell_type": "code",
   "execution_count": 165,
   "id": "fa5ffb2f-1883-4ea8-bdaf-c96193698529",
   "metadata": {},
   "outputs": [
    {
     "data": {
      "text/plain": [
       "array([[3, 3],\n",
       "       [4, 4]])"
      ]
     },
     "execution_count": 165,
     "metadata": {},
     "output_type": "execute_result"
    }
   ],
   "source": [
    "ys"
   ]
  },
  {
   "cell_type": "code",
   "execution_count": 166,
   "id": "f83cf2aa-c242-40b3-b7ed-d307eababbf3",
   "metadata": {},
   "outputs": [],
   "source": [
    "import matplotlib.pyplot as plt"
   ]
  },
  {
   "cell_type": "code",
   "execution_count": 174,
   "id": "e4995c54-5726-4d19-bec1-93ee126e5526",
   "metadata": {},
   "outputs": [
    {
     "data": {
      "text/plain": [
       "<matplotlib.collections.PathCollection at 0x1f369cedab0>"
      ]
     },
     "execution_count": 174,
     "metadata": {},
     "output_type": "execute_result"
    },
    {
     "data": {
      "image/png": "[encoded data removed]",
      "text/plain": [
       "<Figure size 640x480 with 1 Axes>"
      ]
     },
     "metadata": {},
     "output_type": "display_data"
    }
   ],
   "source": [
    "plt.scatter(xs,ys)"
   ]
  },
  {
   "cell_type": "code",
   "execution_count": 175,
   "id": "0b5d7734-273a-40fe-a6cd-18bde1b78fc1",
   "metadata": {},
   "outputs": [
    {
     "data": {
      "text/plain": [
       "<matplotlib.collections.PathCollection at 0x1f36cdd4400>"
      ]
     },
     "execution_count": 175,
     "metadata": {},
     "output_type": "execute_result"
    },
    {
     "data": {
      "image/png": "[encoded data removed]",
      "text/plain": [
       "<Figure size 640x480 with 1 Axes>"
      ]
     },
     "metadata": {},
     "output_type": "display_data"
    }
   ],
   "source": [
    "plt.scatter(x,y)"
   ]
  },
  {
   "cell_type": "code",
   "execution_count": 182,
   "id": "7804fc29-c3cb-4866-9b73-d23adc5289b8",
   "metadata": {},
   "outputs": [
    {
     "data": {
      "text/plain": [
       "array([[10, 13],\n",
       "       [17, 20]])"
      ]
     },
     "execution_count": 182,
     "metadata": {},
     "output_type": "execute_result"
    }
   ],
   "source": [
    "z = xs**2 + ys**2\n",
    "z"
   ]
  },
  {
   "cell_type": "code",
   "execution_count": 184,
   "id": "2cca5235-61b0-4001-b169-0d98dec0a378",
   "metadata": {},
   "outputs": [],
   "source": [
    "z = np.sqrt(xs**2 + ys**2)"
   ]
  },
  {
   "cell_type": "code",
   "execution_count": 185,
   "id": "72073497-750d-413a-9bb6-150e0ca06171",
   "metadata": {},
   "outputs": [
    {
     "data": {
      "text/plain": [
       "<matplotlib.image.AxesImage at 0x1f370958940>"
      ]
     },
     "execution_count": 185,
     "metadata": {},
     "output_type": "execute_result"
    },
    {
     "data": {
      "image/png": "[encoded data removed]",
      "text/plain": [
       "<Figure size 640x480 with 1 Axes>"
      ]
     },
     "metadata": {},
     "output_type": "display_data"
    }
   ],
   "source": [
    "plt.imshow(z, cmap = plt.cm.gray)"
   ]
  },
  {
   "cell_type": "code",
   "execution_count": 187,
   "id": "e61dcf2b-0a8d-4a8a-add8-320669cfdf4c",
   "metadata": {},
   "outputs": [
    {
     "name": "stderr",
     "output_type": "stream",
     "text": [
      "C:\\Users\\user\\AppData\\Local\\Temp\\ipykernel_1820\\59480852.py:1: DeprecationWarning: `np.bool` is a deprecated alias for the builtin `bool`. To silence this warning, use `bool` by itself. Doing this will not modify any behavior and is safe. If you specifically wanted the numpy scalar type, use `np.bool_` here.\n",
      "Deprecated in NumPy 1.20; for more details and guidance: https://numpy.org/devdocs/release/1.20.0-notes.html#deprecations\n",
      "  cond = np.array([1,0,1,0,0],dtype = np.bool)\n"
     ]
    }
   ],
   "source": [
    "\n",
    "cond = np.array([1,0,1,0,0],dtype = np.bool)"
   ]
  },
  {
   "cell_type": "code",
   "execution_count": 198,
   "id": "87dbef20-9e80-4409-8148-a8902413e230",
   "metadata": {},
   "outputs": [
    {
     "data": {
      "text/plain": [
       "array([ True, False,  True, False, False])"
      ]
     },
     "execution_count": 198,
     "metadata": {},
     "output_type": "execute_result"
    }
   ],
   "source": [
    "cond"
   ]
  },
  {
   "cell_type": "code",
   "execution_count": 203,
   "id": "c4f1f51e-eee0-4243-a5bf-64bd936e9c52",
   "metadata": {},
   "outputs": [
    {
     "data": {
      "text/plain": [
       "array([ 1,  7,  3,  9, 10])"
      ]
     },
     "execution_count": 203,
     "metadata": {},
     "output_type": "execute_result"
    }
   ],
   "source": [
    "# np.where(조건,참일때 실행, 거짓일때 실행)\n",
    "np.where(cond, x, y)"
   ]
  },
  {
   "cell_type": "code",
   "execution_count": 201,
   "id": "d1d574ac-df3f-486b-b0d2-2101ec5d63fe",
   "metadata": {},
   "outputs": [
    {
     "data": {
      "text/plain": [
       "array([1, 2, 3, 4, 5])"
      ]
     },
     "execution_count": 201,
     "metadata": {},
     "output_type": "execute_result"
    }
   ],
   "source": [
    "x = np.array([1,2,3,4,5])\n",
    "x"
   ]
  },
  {
   "cell_type": "code",
   "execution_count": 202,
   "id": "1bb52aa3-1ca5-4136-924e-a928e2b99389",
   "metadata": {},
   "outputs": [
    {
     "data": {
      "text/plain": [
       "array([ 6,  7,  8,  9, 10])"
      ]
     },
     "execution_count": 202,
     "metadata": {},
     "output_type": "execute_result"
    }
   ],
   "source": [
    "y = np.array([6,7,8,9,10])\n",
    "y"
   ]
  },
  {
   "cell_type": "code",
   "execution_count": 204,
   "id": "a1d3157f-62ea-4f5d-85a9-60f311156ddf",
   "metadata": {},
   "outputs": [
    {
     "data": {
      "text/plain": [
       "array([ 1, 20,  3, 40, 50])"
      ]
     },
     "execution_count": 204,
     "metadata": {},
     "output_type": "execute_result"
    }
   ],
   "source": [
    "np.where(cond,x,x*10)"
   ]
  },
  {
   "cell_type": "markdown",
   "id": "7c561883-41b4-4484-a265-5c124f0d9613",
   "metadata": {},
   "source": [
    "# 5교시"
   ]
  },
  {
   "cell_type": "code",
   "execution_count": 210,
   "id": "ca1bac08-8ce1-47e4-98d8-bd493f2d5037",
   "metadata": {},
   "outputs": [
    {
     "data": {
      "text/plain": [
       "(array([3, 4], dtype=int64),)"
      ]
     },
     "execution_count": 210,
     "metadata": {},
     "output_type": "execute_result"
    }
   ],
   "source": [
    "np.where(y>8) # 인덱스 번호를 리턴"
   ]
  },
  {
   "cell_type": "code",
   "execution_count": 208,
   "id": "e58376ae-caa9-495c-ab81-e5fabad346f2",
   "metadata": {},
   "outputs": [
    {
     "data": {
      "text/plain": [
       "array([ 6,  7,  8,  9, 10])"
      ]
     },
     "execution_count": 208,
     "metadata": {},
     "output_type": "execute_result"
    }
   ],
   "source": [
    "y"
   ]
  },
  {
   "cell_type": "code",
   "execution_count": 212,
   "id": "41d98627-b9fc-4cd2-81b4-3d16409f22b2",
   "metadata": {},
   "outputs": [
    {
     "data": {
      "text/plain": [
       "array([[0.21948261, 0.76436243, 0.60285625, 0.69879507],\n",
       "       [0.16387843, 0.95983512, 0.94478792, 0.18832797],\n",
       "       [0.42354165, 0.06001482, 0.29266343, 0.37617702],\n",
       "       [0.19016842, 0.26495532, 0.61076973, 0.78200893]])"
      ]
     },
     "execution_count": 212,
     "metadata": {},
     "output_type": "execute_result"
    }
   ],
   "source": [
    "arr = np.random.rand(4,4)\n",
    "arr"
   ]
  },
  {
   "cell_type": "code",
   "execution_count": 215,
   "id": "266a6137-8036-4197-b304-4f9699cf2d9f",
   "metadata": {},
   "outputs": [
    {
     "data": {
      "text/plain": [
       "array([[0.21948261, 0.76436243, 0.60285625, 0.69879507],\n",
       "       [0.16387843, 0.95983512, 0.94478792, 0.18832797],\n",
       "       [0.42354165, 0.06001482, 0.29266343, 0.37617702],\n",
       "       [0.19016842, 0.26495532, 0.61076973, 0.78200893]])"
      ]
     },
     "execution_count": 215,
     "metadata": {},
     "output_type": "execute_result"
    }
   ],
   "source": [
    "np.where(arr<0, 2, arr)"
   ]
  },
  {
   "cell_type": "code",
   "execution_count": 221,
   "id": "ecd663e1-fbc3-4d06-a057-ce07ad042f9d",
   "metadata": {},
   "outputs": [
    {
     "data": {
      "text/plain": [
       "array([0.57137409, 0.56420736, 0.28809923, 0.4619756 ])"
      ]
     },
     "execution_count": 221,
     "metadata": {},
     "output_type": "execute_result"
    }
   ],
   "source": [
    "np.mean(arr)\n",
    "\n",
    "arr.mean()\n",
    "\n",
    "arr.mean(axis=0)\n",
    "arr.mean(axis=1)"
   ]
  },
  {
   "cell_type": "code",
   "execution_count": 222,
   "id": "9eb9a78c-0b82-43c3-9386-802e84ba6a35",
   "metadata": {},
   "outputs": [
    {
     "data": {
      "text/plain": [
       "array([[0.21948261, 0.76436243, 0.60285625, 0.69879507],\n",
       "       [0.38336104, 1.72419755, 1.54764417, 0.88712304],\n",
       "       [0.80690269, 1.78421237, 1.84030761, 1.26330005],\n",
       "       [0.9970711 , 2.04916769, 2.45107734, 2.04530898]])"
      ]
     },
     "execution_count": 222,
     "metadata": {},
     "output_type": "execute_result"
    }
   ],
   "source": [
    "arr.cumsum(axis=0)"
   ]
  },
  {
   "cell_type": "code",
   "execution_count": 225,
   "id": "e9214fd8-7280-4868-97ba-7c5b88321268",
   "metadata": {},
   "outputs": [
    {
     "data": {
      "text/plain": [
       "array([0, 0, 0, 0, 0, 0, 0, 0, 0, 0, 0])"
      ]
     },
     "execution_count": 225,
     "metadata": {},
     "output_type": "execute_result"
    }
   ],
   "source": [
    "a = np.arange(11)\n",
    "a.cumsum()\n",
    "a.cumprod()"
   ]
  },
  {
   "cell_type": "code",
   "execution_count": 226,
   "id": "435476a9-addf-45bb-b2d9-8372ab66dd59",
   "metadata": {},
   "outputs": [
    {
     "data": {
      "text/plain": [
       "16"
      ]
     },
     "execution_count": 226,
     "metadata": {},
     "output_type": "execute_result"
    }
   ],
   "source": [
    "(arr>0).sum()"
   ]
  },
  {
   "cell_type": "markdown",
   "id": "8e65a92e-bc49-4f18-893c-a5d657c11664",
   "metadata": {},
   "source": [
    "## 1부터 24까지 4x6 랜덤한 정수로 배열을 만들어 봅시다"
   ]
  },
  {
   "cell_type": "code",
   "execution_count": 231,
   "id": "94299ac8-21cb-4b43-baf7-ebd8591a20f8",
   "metadata": {},
   "outputs": [
    {
     "data": {
      "text/plain": [
       "array([[17, 19, 23,  1, 16, 18],\n",
       "       [ 8, 12,  8, 10,  3, 24],\n",
       "       [17, 15,  8, 23, 15,  8],\n",
       "       [15, 22, 10, 21,  3, 16]])"
      ]
     },
     "execution_count": 231,
     "metadata": {},
     "output_type": "execute_result"
    }
   ],
   "source": [
    "\n",
    "arr = np.random.randint(1,25,(4,6))\n",
    "arr"
   ]
  },
  {
   "cell_type": "code",
   "execution_count": 234,
   "id": "77f96a5e-9b7c-4288-b5e9-44b1c90429f6",
   "metadata": {},
   "outputs": [
    {
     "data": {
      "text/plain": [
       "array([[11,  7, 24, 14, 17,  2],\n",
       "       [22,  5, 13,  1, 18, 10],\n",
       "       [ 4, 23, 19,  9, 21, 20],\n",
       "       [12,  3,  6, 16, 15,  8]])"
      ]
     },
     "execution_count": 234,
     "metadata": {},
     "output_type": "execute_result"
    }
   ],
   "source": [
    "import random\n",
    "np.array(random.sample(range(1,25), k = 24)).reshape(4,6)"
   ]
  },
  {
   "cell_type": "code",
   "execution_count": 236,
   "id": "93969d09-eb99-4865-9388-67d5177fe19e",
   "metadata": {},
   "outputs": [
    {
     "data": {
      "text/plain": [
       "array([13, 20, 18,  4,  6, 11,  0, 19, 23,  3,  2, 10, 22, 24,  9,  1, 12,\n",
       "        5, 15, 16, 21,  7,  8, 17, 14])"
      ]
     },
     "execution_count": 236,
     "metadata": {},
     "output_type": "execute_result"
    }
   ],
   "source": [
    "np.arange(1,25)\n",
    "np.random.permutation(25)"
   ]
  },
  {
   "cell_type": "code",
   "execution_count": 257,
   "id": "99bcc1d4-87c2-4305-8f74-24e3e8581473",
   "metadata": {},
   "outputs": [
    {
     "data": {
      "text/plain": [
       "array([[ 5, 22,  7,  2,  6,  4],\n",
       "       [14, 23, 24, 11, 10,  9],\n",
       "       [16, 12, 19, 18, 17, 13],\n",
       "       [21,  3,  8, 20, 15,  1]])"
      ]
     },
     "execution_count": 257,
     "metadata": {},
     "output_type": "execute_result"
    }
   ],
   "source": [
    "arr = np.arange(1,25)\n",
    "np.random.shuffle(arr)\n",
    "\n",
    "\n",
    "arr = arr.reshape(4,6)\n",
    "arr"
   ]
  },
  {
   "cell_type": "code",
   "execution_count": 242,
   "id": "e8d7a55a-bba2-48df-b3ea-34d30ce9273c",
   "metadata": {},
   "outputs": [
    {
     "data": {
      "text/plain": [
       "array([[ 1,  2,  4, 11, 12, 22],\n",
       "       [ 6, 16, 18, 19, 20, 24],\n",
       "       [ 3,  8, 15, 17, 21, 23],\n",
       "       [ 5,  7,  9, 10, 13, 14]])"
      ]
     },
     "execution_count": 242,
     "metadata": {},
     "output_type": "execute_result"
    }
   ],
   "source": [
    "arr.sort()\n",
    "arr"
   ]
  },
  {
   "cell_type": "code",
   "execution_count": 248,
   "id": "cabf9fd5-259e-4213-ad7d-5c7897ee27d5",
   "metadata": {},
   "outputs": [
    {
     "data": {
      "text/plain": [
       "array([[ 5,  6, 10, 15, 20, 24],\n",
       "       [ 1,  2,  3,  7, 12, 17],\n",
       "       [ 4, 13, 16, 21, 22, 23],\n",
       "       [ 8,  9, 11, 14, 18, 19]])"
      ]
     },
     "execution_count": 248,
     "metadata": {},
     "output_type": "execute_result"
    }
   ],
   "source": [
    "np.sort(arr)"
   ]
  },
  {
   "cell_type": "code",
   "execution_count": 255,
   "id": "13809c3b-ee80-49b6-809c-35ec604abdc5",
   "metadata": {},
   "outputs": [
    {
     "data": {
      "text/plain": [
       "array([[ 3,  5, 10, 16, 17, 23],\n",
       "       [ 6,  7,  8, 11, 12, 22],\n",
       "       [ 1,  2, 13, 14, 18, 21],\n",
       "       [ 4,  9, 15, 19, 20, 24]])"
      ]
     },
     "execution_count": 255,
     "metadata": {},
     "output_type": "execute_result"
    }
   ],
   "source": [
    "np.sort(arr, axis =1)"
   ]
  },
  {
   "cell_type": "code",
   "execution_count": 258,
   "id": "bd254628-42b1-4aca-9faa-14255ee6d83b",
   "metadata": {},
   "outputs": [
    {
     "data": {
      "text/plain": [
       "array([[ 5,  3,  7,  2,  6,  1],\n",
       "       [14, 12,  8, 11, 10,  4],\n",
       "       [16, 22, 19, 18, 15,  9],\n",
       "       [21, 23, 24, 20, 17, 13]])"
      ]
     },
     "execution_count": 258,
     "metadata": {},
     "output_type": "execute_result"
    }
   ],
   "source": [
    "np.sort(arr, axis =0)"
   ]
  },
  {
   "cell_type": "code",
   "execution_count": 259,
   "id": "4a7df26e-5c58-45a3-8e05-da116b3afc91",
   "metadata": {},
   "outputs": [],
   "source": [
    "names = np.array(['Bob', 'Joe', 'Will', 'Bob', 'Will', 'Joe', 'Joe']) "
   ]
  },
  {
   "cell_type": "code",
   "execution_count": 260,
   "id": "70e4b4e8-b8f4-4333-a794-a676364b4da3",
   "metadata": {},
   "outputs": [
    {
     "data": {
      "text/plain": [
       "array(['Bob', 'Joe', 'Will'], dtype='<U4')"
      ]
     },
     "execution_count": 260,
     "metadata": {},
     "output_type": "execute_result"
    }
   ],
   "source": [
    "np.unique(names)"
   ]
  },
  {
   "cell_type": "code",
   "execution_count": 261,
   "id": "a2b45c79-48e9-4248-b1a2-199bb0337a7b",
   "metadata": {},
   "outputs": [
    {
     "data": {
      "text/plain": [
       "{'Bob', 'Joe', 'Will'}"
      ]
     },
     "execution_count": 261,
     "metadata": {},
     "output_type": "execute_result"
    }
   ],
   "source": [
    "set(names)"
   ]
  },
  {
   "cell_type": "code",
   "execution_count": 262,
   "id": "bba9bfcc-71c6-4e8e-bfc2-c40106f583a3",
   "metadata": {},
   "outputs": [],
   "source": [
    "# np.save('저장될 파일의 이름',저장할 데이터)\n",
    "np.save(\"some_array\",arr)"
   ]
  },
  {
   "cell_type": "code",
   "execution_count": 263,
   "id": "d5cfb030-602c-4ea9-a0e3-bd2cfc64dda7",
   "metadata": {},
   "outputs": [
    {
     "data": {
      "text/plain": [
       "array([[ 5, 22,  7,  2,  6,  4],\n",
       "       [14, 23, 24, 11, 10,  9],\n",
       "       [16, 12, 19, 18, 17, 13],\n",
       "       [21,  3,  8, 20, 15,  1]])"
      ]
     },
     "execution_count": 263,
     "metadata": {},
     "output_type": "execute_result"
    }
   ],
   "source": [
    "np.load(\"some_array.npy\")"
   ]
  },
  {
   "cell_type": "code",
   "execution_count": 266,
   "id": "2b721090-741b-4400-b1d3-576e0e293b4f",
   "metadata": {},
   "outputs": [],
   "source": [
    "np.savez(\"some_array.npz\",arr)"
   ]
  },
  {
   "cell_type": "code",
   "execution_count": 267,
   "id": "0b7be078-c113-435a-8058-9bf6a53a5e96",
   "metadata": {},
   "outputs": [
    {
     "data": {
      "text/plain": [
       "<numpy.lib.npyio.NpzFile at 0x1f3706ec430>"
      ]
     },
     "execution_count": 267,
     "metadata": {},
     "output_type": "execute_result"
    }
   ],
   "source": [
    "np.load(\"some_array.npz\")"
   ]
  },
  {
   "cell_type": "code",
   "execution_count": 272,
   "id": "e39d01df-a158-4a33-92a0-4c6700e071a2",
   "metadata": {},
   "outputs": [],
   "source": [
    "np.savez(\"some_archive.npz\",a=arr,b=arr)"
   ]
  },
  {
   "cell_type": "code",
   "execution_count": 270,
   "id": "9f404d16-0bff-4228-babc-475b7ee2c926",
   "metadata": {},
   "outputs": [],
   "source": [
    "arr = np.load(\"some_array.npz\")"
   ]
  },
  {
   "cell_type": "code",
   "execution_count": 274,
   "id": "c7acd8e7-23ad-463a-ac41-01e4623a983b",
   "metadata": {},
   "outputs": [],
   "source": [
    "arch = np.load('some_archive.npz')"
   ]
  },
  {
   "cell_type": "code",
   "execution_count": 275,
   "id": "0f82b522-0827-47d8-ba58-65407911ed89",
   "metadata": {},
   "outputs": [
    {
     "data": {
      "text/plain": [
       "array(['a', 'b'], dtype='<U1')"
      ]
     },
     "execution_count": 275,
     "metadata": {},
     "output_type": "execute_result"
    }
   ],
   "source": [
    "arch['b']"
   ]
  },
  {
   "cell_type": "code",
   "execution_count": 276,
   "id": "b51c1abf-4762-40d0-8719-e1f8e27e8142",
   "metadata": {},
   "outputs": [
    {
     "data": {
      "text/plain": [
       "array(['a', 'b'], dtype='<U1')"
      ]
     },
     "execution_count": 276,
     "metadata": {},
     "output_type": "execute_result"
    }
   ],
   "source": [
    "arch['a']"
   ]
  },
  {
   "cell_type": "markdown",
   "id": "6193d357-4191-4e1c-ac39-345cf5472003",
   "metadata": {},
   "source": [
    "# 6교시 : 174p"
   ]
  },
  {
   "cell_type": "code",
   "execution_count": 280,
   "id": "12396d53-e1a2-4b13-811c-bf8ea4a25aec",
   "metadata": {},
   "outputs": [
    {
     "data": {
      "text/plain": [
       "array([0.17164278, 0.66873348, 0.43203537])"
      ]
     },
     "execution_count": 280,
     "metadata": {},
     "output_type": "execute_result"
    }
   ],
   "source": [
    "np.random.random(3) # 0~1 사이"
   ]
  },
  {
   "cell_type": "code",
   "execution_count": 282,
   "id": "50246820-c03e-4997-8573-d82f1f51d5d7",
   "metadata": {},
   "outputs": [
    {
     "data": {
      "text/plain": [
       "array([[0.88964782, 0.73378858, 0.32640471],\n",
       "       [0.66759522, 0.75314389, 0.46859511],\n",
       "       [0.87685296, 0.34650677, 0.42955473]])"
      ]
     },
     "execution_count": 282,
     "metadata": {},
     "output_type": "execute_result"
    }
   ],
   "source": [
    "np.random.random((3,3))"
   ]
  },
  {
   "cell_type": "code",
   "execution_count": 283,
   "id": "6360bbe4-f78e-4df8-b8f4-fce69ee5a192",
   "metadata": {},
   "outputs": [
    {
     "data": {
      "text/plain": [
       "array([[0.59345929, 0.45562521, 0.72986297, 0.44521576],\n",
       "       [0.37115996, 0.794826  , 0.34339887, 0.68979865],\n",
       "       [0.13252625, 0.60325228, 0.77028029, 0.73359679],\n",
       "       [0.62082897, 0.90115888, 0.10907967, 0.29069441]])"
      ]
     },
     "execution_count": 283,
     "metadata": {},
     "output_type": "execute_result"
    }
   ],
   "source": [
    "np.random.rand(4,4)"
   ]
  },
  {
   "cell_type": "code",
   "execution_count": 285,
   "id": "a896d1f8-ecf4-45e4-b936-ee9270624c96",
   "metadata": {},
   "outputs": [
    {
     "data": {
      "text/plain": [
       "array([-1.37975899,  0.43217016,  0.47587183])"
      ]
     },
     "execution_count": 285,
     "metadata": {},
     "output_type": "execute_result"
    }
   ],
   "source": [
    "np.random.randn(3) # 평균 : 0 , 표준편차 : 1 인 표준정규분포"
   ]
  },
  {
   "cell_type": "code",
   "execution_count": 286,
   "id": "a3df8d38-dea4-4ad0-8578-9b07bef9060f",
   "metadata": {},
   "outputs": [
    {
     "data": {
      "text/plain": [
       "array([[-0.16278049, -0.60567271,  2.47745167],\n",
       "       [ 0.01944675, -0.6529055 ,  0.0569092 ],\n",
       "       [-1.25223021, -0.4478141 ,  1.52467109]])"
      ]
     },
     "execution_count": 286,
     "metadata": {},
     "output_type": "execute_result"
    }
   ],
   "source": [
    "np.random.randn(3,3)"
   ]
  },
  {
   "cell_type": "code",
   "execution_count": 290,
   "id": "e9c5fb1a-4dd7-4d78-b33f-1c6aed84cf03",
   "metadata": {},
   "outputs": [
    {
     "data": {
      "text/plain": [
       "array([[165.73046132, 180.27879604, 178.7777156 , 164.32914108,\n",
       "        176.65488258, 174.97982167, 189.65113008, 174.46070487,\n",
       "        185.19688746, 170.83253514],\n",
       "       [176.74631399, 187.95709099, 184.58906034, 168.37424466,\n",
       "        164.28828243, 161.07864132, 166.63163413, 165.31990233,\n",
       "        151.49276469, 175.29549393],\n",
       "       [183.00004315, 169.82663413, 174.88871597, 178.50492573,\n",
       "        179.10283987, 179.36823279, 177.07225163, 169.33642693,\n",
       "        180.63590955, 190.2975074 ],\n",
       "       [167.12203323, 164.16344988, 180.00074294, 176.92745991,\n",
       "        165.18553632, 184.20536258, 186.4600728 , 189.92258651,\n",
       "        174.03803601, 183.59752623],\n",
       "       [169.2865564 , 180.37824239, 173.17343686, 172.27808278,\n",
       "        172.02596951, 186.9074769 , 169.51682805, 161.24711579,\n",
       "        177.81453408, 204.41218486],\n",
       "       [162.99625655, 158.82837648, 185.70618751, 169.97786571,\n",
       "        169.46558948, 179.48174121, 172.68171043, 184.92786512,\n",
       "        184.95314231, 174.13291809],\n",
       "       [172.42456027, 174.28936847, 173.36474228, 176.8516628 ,\n",
       "        185.30816603, 180.3019025 , 163.24967105, 167.39561655,\n",
       "        161.07883674, 179.15752031],\n",
       "       [160.38459222, 165.42075399, 172.70997873, 170.08659405,\n",
       "        178.33877377, 184.53989556, 192.24774041, 167.60791007,\n",
       "        165.35094446, 182.20416848],\n",
       "       [177.4430833 , 172.11357394, 165.89747115, 191.87983598,\n",
       "        168.60923224, 172.97482869, 176.68052012, 163.55776267,\n",
       "        177.54456261, 174.57439517],\n",
       "       [175.66168552, 163.71233226, 160.43570177, 186.8256523 ,\n",
       "        199.52553389, 180.46902602, 180.10865998, 151.27544758,\n",
       "        183.33584377, 169.26822071]])"
      ]
     },
     "execution_count": 290,
     "metadata": {},
     "output_type": "execute_result"
    }
   ],
   "source": [
    "#np.random.normal(mu, sigma, 갯수)\n",
    "np.random.normal(175,10, (10,10)) "
   ]
  },
  {
   "cell_type": "code",
   "execution_count": 291,
   "id": "e426e39d-2044-4ffd-a0b0-b0ea52d4bf3e",
   "metadata": {},
   "outputs": [
    {
     "data": {
      "text/plain": [
       "array([-0.82523907,  0.39163086, -1.09562056, -0.02988071, -0.5174107 ,\n",
       "       -0.16342856,  1.50057781, -1.4858045 , -0.24985691,  2.34783087,\n",
       "        0.29197575, -0.31386468, -0.33798734, -1.18646751,  0.43613511,\n",
       "       -0.74817789, -1.62134336, -0.27987104, -0.30443519, -1.37476959,\n",
       "        0.28764903,  0.76536437,  0.69129031,  1.77105345,  1.43914965,\n",
       "       -0.16382351, -0.44876576,  0.00918942, -0.7330888 ,  0.09600521,\n",
       "        0.69602074, -1.83995252,  0.90524499, -0.08759993, -0.27315395,\n",
       "       -2.40980309, -0.57253676, -1.83403713, -1.38831489, -1.14296015,\n",
       "       -0.58354276,  0.85246534, -0.67771184,  0.84895834,  2.78854529,\n",
       "       -1.50302675,  0.50936829, -0.37676042, -1.34744268, -0.23217658,\n",
       "       -0.0449357 , -0.09050194,  0.81362948, -1.51396741, -1.59408666,\n",
       "        0.06249427,  1.12058431, -0.67576171, -0.51189276,  0.79988079,\n",
       "        0.90003565,  0.64080121,  0.32083319,  1.35578967,  1.55808667,\n",
       "       -0.24529547, -1.56928196,  0.47005127,  2.21385847,  0.99841571,\n",
       "       -0.99741763, -0.41080798,  0.38349864, -0.36146148,  0.87598143,\n",
       "        0.43899333, -0.51620005, -0.22244017, -1.09069746, -0.68807789,\n",
       "       -0.33135695, -0.28440808, -0.89589159,  2.1770432 ,  0.21916162,\n",
       "       -1.76218257,  0.44377243,  0.66251889,  0.30604283,  1.45073775,\n",
       "       -0.47806048, -0.23740589, -1.61721098,  1.57967715, -1.1753572 ,\n",
       "       -0.3210144 , -0.01961183, -0.11946073, -0.86941039,  0.7617108 ])"
      ]
     },
     "execution_count": 291,
     "metadata": {},
     "output_type": "execute_result"
    }
   ],
   "source": [
    "np.random.randn(100)"
   ]
  },
  {
   "cell_type": "code",
   "execution_count": 292,
   "id": "ff221714-3c23-4a0f-8b93-eb212afab8af",
   "metadata": {},
   "outputs": [
    {
     "data": {
      "text/plain": [
       "array([174.57310047, 171.55913662, 163.1019862 , 171.0151211 ,\n",
       "       181.79658196, 168.24742833, 170.31210779, 166.70145715,\n",
       "       165.44695327, 182.66006634, 157.92172147, 176.16398218,\n",
       "       182.70779248, 168.14878659, 161.9454614 , 176.82681322,\n",
       "       166.76499512, 190.54629096, 160.58494582, 178.03579961,\n",
       "       169.64015954, 184.8286877 , 181.80440455, 162.59209226,\n",
       "       174.46524019, 171.81254791, 175.44148934, 166.4500508 ,\n",
       "       173.82513437, 168.64474014, 170.10886997, 199.96532297,\n",
       "       179.85305044, 174.01034793, 164.06816348, 174.70996627,\n",
       "       177.08674342, 188.57704371, 181.81548172, 173.83158502,\n",
       "       176.61932039, 163.05315159, 169.4510853 , 192.64815036,\n",
       "       190.33767639, 165.59097849, 160.84970073, 169.45205313,\n",
       "       174.16530139, 179.02896634, 167.11996715, 182.31783352,\n",
       "       176.70919351, 176.85759905, 174.90511831, 164.60134821,\n",
       "       166.72868245, 164.84807377, 170.99507966, 169.14261242,\n",
       "       157.50590567, 181.56468701, 174.51548184, 183.97250652,\n",
       "       179.76058031, 179.03803028, 158.26311163, 155.64286031,\n",
       "       193.18135715, 181.84826047, 184.53417209, 174.85456912,\n",
       "       160.75110059, 166.63340325, 176.88211831, 175.92724607,\n",
       "       174.06448837, 154.96703936, 156.79888144, 173.05594525,\n",
       "       156.14217469, 182.58341763, 157.58086331, 178.0297803 ,\n",
       "       172.97644543, 179.66871425, 185.23700196, 170.58369309,\n",
       "       177.99967639, 171.60261279, 160.03455935, 171.30075397,\n",
       "       160.43161345, 169.86134269, 174.15408992, 166.83889569,\n",
       "       165.22947154, 174.07874945, 167.98416934, 193.44469677])"
      ]
     },
     "execution_count": 292,
     "metadata": {},
     "output_type": "execute_result"
    }
   ],
   "source": [
    "np.random.randn(100)*10 + 175"
   ]
  },
  {
   "cell_type": "code",
   "execution_count": 293,
   "id": "21e79b3e-cb84-457c-ada7-29281cda81c5",
   "metadata": {},
   "outputs": [
    {
     "data": {
      "text/plain": [
       "array([[175.31989094, 179.12178162, 184.04922277, 172.40121693,\n",
       "        182.29575391, 180.14403246, 179.05621191, 159.86536246,\n",
       "        162.11569871, 173.10848941],\n",
       "       [165.52979836, 177.41372636, 172.48680371, 160.2578923 ,\n",
       "        187.50532402, 157.66843234, 190.43192104, 177.29384681,\n",
       "        169.99237287, 187.61088057],\n",
       "       [174.37512237, 171.27930619, 173.3348318 , 176.94663818,\n",
       "        167.81330365, 178.01517173, 161.26254267, 189.24983795,\n",
       "        196.07789342, 185.41792612],\n",
       "       [187.4856843 , 171.03405495, 178.81481523, 170.19379073,\n",
       "        181.6373089 , 167.09152964, 179.37291901, 177.05379397,\n",
       "        174.40740164, 169.52170808],\n",
       "       [183.23878185, 174.60676468, 180.75821167, 168.75595115,\n",
       "        179.26247998, 180.87940347, 159.63163931, 178.98470316,\n",
       "        160.2523725 , 168.81080864],\n",
       "       [177.38769063, 163.88689154, 177.20567573, 189.04617032,\n",
       "        165.10227126, 166.7068869 , 185.28097256, 175.09772998,\n",
       "        172.64363323, 163.26752805],\n",
       "       [188.81532351, 165.30758745, 171.19818254, 159.8249454 ,\n",
       "        173.39352803, 187.92375819, 182.56073076, 171.14105087,\n",
       "        169.99281518, 171.46137173],\n",
       "       [180.94354495, 182.65124139, 183.62386453, 159.98062014,\n",
       "        177.13824095, 160.33910885, 175.71506434, 178.59553918,\n",
       "        167.87666831, 166.54668102],\n",
       "       [161.03002726, 187.14313144, 177.09195488, 167.84506211,\n",
       "        171.49558458, 170.94600366, 173.35303616, 183.69700102,\n",
       "        174.10245502, 177.85447745],\n",
       "       [173.4746953 , 176.48100472, 175.05494663, 176.53383725,\n",
       "        160.37075787, 175.50712673, 174.491749  , 176.88286678,\n",
       "        188.96800677, 182.16611793]])"
      ]
     },
     "execution_count": 293,
     "metadata": {},
     "output_type": "execute_result"
    }
   ],
   "source": [
    "np.random.randn(10,10)*10 + 175"
   ]
  },
  {
   "cell_type": "code",
   "execution_count": 295,
   "id": "25c2852b-43bb-4414-8d05-ae9afd09a66d",
   "metadata": {},
   "outputs": [
    {
     "data": {
      "text/plain": [
       "array([[ 0.41408833,  0.83904869, -0.10054764, -0.30631664],\n",
       "       [ 0.5361143 ,  0.88436691, -0.62413052,  1.41525179],\n",
       "       [-1.30811311,  0.1342212 , -1.95679397, -1.16528637],\n",
       "       [ 0.46560188, -0.23439101,  0.18933845,  0.35444863]])"
      ]
     },
     "execution_count": 295,
     "metadata": {},
     "output_type": "execute_result"
    }
   ],
   "source": [
    "np.random.normal(size=(4,4))"
   ]
  },
  {
   "cell_type": "code",
   "execution_count": 298,
   "id": "60443769-ac52-4a7c-ab55-bc2bfd4e99b1",
   "metadata": {},
   "outputs": [
    {
     "data": {
      "text/plain": [
       "array([5, 9, 2, 8])"
      ]
     },
     "execution_count": 298,
     "metadata": {},
     "output_type": "execute_result"
    }
   ],
   "source": [
    "np.random.seed(1234)\n",
    "np.random.randint(1,10,3)\n",
    "np.random.randint(1,10,4)"
   ]
  },
  {
   "cell_type": "code",
   "execution_count": 297,
   "id": "ff63d26e-4dfe-43ca-9e50-143b421ecde3",
   "metadata": {},
   "outputs": [
    {
     "data": {
      "text/plain": [
       "array([5, 9, 2, 8])"
      ]
     },
     "execution_count": 297,
     "metadata": {},
     "output_type": "execute_result"
    }
   ],
   "source": [
    "np.random.randint(1,10,4)"
   ]
  },
  {
   "cell_type": "code",
   "execution_count": 299,
   "id": "262d6fc0-d40d-4228-8927-e5edf328720a",
   "metadata": {},
   "outputs": [
    {
     "data": {
      "text/plain": [
       "array([7, 9, 1, 6, 1])"
      ]
     },
     "execution_count": 299,
     "metadata": {},
     "output_type": "execute_result"
    }
   ],
   "source": [
    "np.random.randint(1,10,5)"
   ]
  },
  {
   "cell_type": "code",
   "execution_count": 317,
   "id": "d7f13947-ba19-41f7-b5ec-4f716da25874",
   "metadata": {},
   "outputs": [
    {
     "data": {
      "text/plain": [
       "array([4, 7, 6])"
      ]
     },
     "execution_count": 317,
     "metadata": {},
     "output_type": "execute_result"
    }
   ],
   "source": [
    "# random.seed 를 풀어낼 때 사용\n",
    "# 넘파이에서 시드는 끝까지 적용되기 때문에\n",
    "rng = np.random.RandomState(1234)\n",
    "rng.randint(1,10,3)"
   ]
  },
  {
   "cell_type": "code",
   "execution_count": 307,
   "id": "e0fe7d50-dbfc-4b06-aec4-99aac1f61694",
   "metadata": {},
   "outputs": [
    {
     "data": {
      "text/plain": [
       "array([2, 8, 5, 1])"
      ]
     },
     "execution_count": 307,
     "metadata": {},
     "output_type": "execute_result"
    }
   ],
   "source": [
    "np.random.randint(1,10,4)"
   ]
  },
  {
   "cell_type": "code",
   "execution_count": 318,
   "id": "99280c2e-54bb-4328-8ec0-ffe978607634",
   "metadata": {},
   "outputs": [
    {
     "data": {
      "text/plain": [
       "array([[0.81352893, 0.64655232, 0.04742648],\n",
       "       [0.99495757, 0.68923564, 0.92954594],\n",
       "       [0.91811655, 0.97530172, 0.39700197]])"
      ]
     },
     "execution_count": 318,
     "metadata": {},
     "output_type": "execute_result"
    }
   ],
   "source": [
    "np.random.uniform(size = (3,3))"
   ]
  },
  {
   "cell_type": "code",
   "execution_count": 319,
   "id": "5d31710d-f2fb-468d-b6d5-f378888c4c1e",
   "metadata": {},
   "outputs": [
    {
     "data": {
      "text/plain": [
       "array([[7.52525219, 7.86030272, 8.52906155, 8.19946163],\n",
       "       [7.16189391, 8.40908895, 7.32802664, 7.06469869],\n",
       "       [7.65630072, 7.94772   , 7.13616945, 7.7654214 ],\n",
       "       [7.23710829, 8.79265704, 8.52861706, 7.75080987]])"
      ]
     },
     "execution_count": 319,
     "metadata": {},
     "output_type": "execute_result"
    }
   ],
   "source": [
    "np.random.uniform(7,9,size=(4,4))"
   ]
  },
  {
   "cell_type": "markdown",
   "id": "f8332792-dc54-49b3-837b-654cdbd998fa",
   "metadata": {},
   "source": [
    "## 계단 오르내리기 예제"
   ]
  },
  {
   "cell_type": "code",
   "execution_count": 321,
   "id": "eeaceb10-0a1b-4e5c-b66f-03826c428822",
   "metadata": {},
   "outputs": [],
   "source": [
    "import random"
   ]
  },
  {
   "cell_type": "code",
   "execution_count": 323,
   "id": "7f056a3b-205a-4248-9c58-16b627412945",
   "metadata": {},
   "outputs": [],
   "source": [
    "position = 0 \n",
    "walk = [position]\n",
    "steps = 1000\n",
    "\n",
    "for i in range(steps):\n",
    "      step = 1 if random.randint(0, 1) else -1 \n",
    "      position += step \n",
    "      walk.append(position)"
   ]
  },
  {
   "cell_type": "code",
   "execution_count": 324,
   "id": "92f811d0-c00a-405d-aad2-546a2671ea65",
   "metadata": {},
   "outputs": [
    {
     "data": {
      "text/plain": [
       "[0, -1, -2, -1, 0, 1, 2, 3, 2, 1]"
      ]
     },
     "execution_count": 324,
     "metadata": {},
     "output_type": "execute_result"
    }
   ],
   "source": [
    "walk[:10]"
   ]
  },
  {
   "cell_type": "code",
   "execution_count": 325,
   "id": "09e09635-6d7d-4ab3-89d1-d687587390f5",
   "metadata": {},
   "outputs": [
    {
     "data": {
      "text/plain": [
       "[9, 10, 11, 10, 9, 10, 11, 12, 13, 12]"
      ]
     },
     "execution_count": 325,
     "metadata": {},
     "output_type": "execute_result"
    }
   ],
   "source": [
    "walk[-10:]"
   ]
  },
  {
   "cell_type": "code",
   "execution_count": 326,
   "id": "844b056d-5808-4925-888c-0c8c91f1ff22",
   "metadata": {},
   "outputs": [
    {
     "data": {
      "text/plain": [
       "[<matplotlib.lines.Line2D at 0x1f3718a0a60>]"
      ]
     },
     "execution_count": 326,
     "metadata": {},
     "output_type": "execute_result"
    },
    {
     "data": {
      "image/png": "[encoded data removed]",
      "text/plain": [
       "<Figure size 640x480 with 1 Axes>"
      ]
     },
     "metadata": {},
     "output_type": "display_data"
    }
   ],
   "source": [
    "plt.plot(walk[:100])"
   ]
  },
  {
   "cell_type": "code",
   "execution_count": 328,
   "id": "42a856dc-0f49-4fa8-8b0c-644638424183",
   "metadata": {},
   "outputs": [
    {
     "data": {
      "text/plain": [
       "array([ 1,  0, -1,  0, -1,  0,  1,  0,  1,  2,  1,  0, -1,  0, -1,  0, -1,\n",
       "       -2, -3, -4, -5, -4, -3, -2, -1,  0, -1,  0,  1,  2,  3,  2,  3,  4,\n",
       "        5,  6,  7,  6,  7,  8,  7,  8,  7,  6,  5,  4,  5,  6,  7,  8,  9,\n",
       "        8,  9,  8,  7,  6,  7,  8,  9,  8,  7,  8,  9, 10,  9,  8,  9,  8,\n",
       "        7,  8,  9, 10, 11, 12, 11, 12, 13, 12, 11, 12, 11, 10, 11, 12, 11,\n",
       "       12, 13, 12, 13, 14, 13, 12, 13, 14, 13, 14, 15, 14, 15, 16])"
      ]
     },
     "execution_count": 328,
     "metadata": {},
     "output_type": "execute_result"
    }
   ],
   "source": [
    "nsteps = 100\n",
    "draws = np.random.randint(0,2, size = nsteps)\n",
    "steps = np.where(draws > 0, 1,-1)\n",
    "walk = np.cumsum(steps)\n",
    "walk"
   ]
  },
  {
   "cell_type": "code",
   "execution_count": 329,
   "id": "8324f35b-e7d9-49cc-b0e4-97ed2fcd87d9",
   "metadata": {},
   "outputs": [
    {
     "data": {
      "text/plain": [
       "[<matplotlib.lines.Line2D at 0x1f3718294b0>]"
      ]
     },
     "execution_count": 329,
     "metadata": {},
     "output_type": "execute_result"
    },
    {
     "data": {
      "image/png": "[encoded data removed]",
      "text/plain": [
       "<Figure size 640x480 with 1 Axes>"
      ]
     },
     "metadata": {},
     "output_type": "display_data"
    }
   ],
   "source": [
    "plt.plot(walk)"
   ]
  },
  {
   "cell_type": "code",
   "execution_count": 330,
   "id": "f6658be1-b798-43fc-8792-d9957379da57",
   "metadata": {},
   "outputs": [
    {
     "data": {
      "text/plain": [
       "16"
      ]
     },
     "execution_count": 330,
     "metadata": {},
     "output_type": "execute_result"
    }
   ],
   "source": [
    "walk.max()"
   ]
  },
  {
   "cell_type": "code",
   "execution_count": 331,
   "id": "dd547332-a8c1-4f30-9c66-31e43921e2a9",
   "metadata": {},
   "outputs": [
    {
     "data": {
      "text/plain": [
       "-5"
      ]
     },
     "execution_count": 331,
     "metadata": {},
     "output_type": "execute_result"
    }
   ],
   "source": [
    "walk.min()"
   ]
  },
  {
   "cell_type": "code",
   "execution_count": 332,
   "id": "3327dda4-0cb6-4a43-9e3f-031172de0b43",
   "metadata": {},
   "outputs": [
    {
     "data": {
      "text/plain": [
       "99"
      ]
     },
     "execution_count": 332,
     "metadata": {},
     "output_type": "execute_result"
    }
   ],
   "source": [
    "# 최댓값이 나올 때가 몇 번째이냐?\n",
    "walk.argmax()"
   ]
  },
  {
   "cell_type": "code",
   "execution_count": 334,
   "id": "dbe1a8b4-4a26-42fc-b713-432c6236d942",
   "metadata": {},
   "outputs": [
    {
     "data": {
      "text/plain": [
       "20"
      ]
     },
     "execution_count": 334,
     "metadata": {},
     "output_type": "execute_result"
    }
   ],
   "source": [
    "# 최솟값이 나올 때는 언제냐\n",
    "walk.argmin()"
   ]
  },
  {
   "cell_type": "markdown",
   "id": "18a46f8d-2c08-42ba-ad23-ea9a04178f12",
   "metadata": {},
   "source": [
    "# 7교시"
   ]
  },
  {
   "cell_type": "code",
   "execution_count": 338,
   "id": "9a1aa2c3-8a80-4704-8ff4-30bfb6ceebda",
   "metadata": {},
   "outputs": [
    {
     "data": {
      "text/plain": [
       "array([[  1,   0,  -1, ...,  66,  65,  64],\n",
       "       [ -1,   0,   1, ..., -24, -23, -24],\n",
       "       [  1,   2,   3, ..., -16, -17, -16],\n",
       "       ...,\n",
       "       [ -1,   0,   1, ...,  44,  43,  44],\n",
       "       [ -1,  -2,  -3, ..., -18, -17, -16],\n",
       "       [ -1,   0,   1, ...,  62,  63,  62]])"
      ]
     },
     "execution_count": 338,
     "metadata": {},
     "output_type": "execute_result"
    }
   ],
   "source": [
    "nwalks = 5000\n",
    "nsteps = 1000\n",
    "draws = np.random.randint(0,2,size=(nwalks,nsteps))\n",
    "steps = np.where(draws > 0, 1 ,-1)\n",
    "walks = steps.cumsum(1)\n",
    "walks "
   ]
  },
  {
   "cell_type": "code",
   "execution_count": 339,
   "id": "3791013d-6f53-4d0c-9188-5109fb455263",
   "metadata": {},
   "outputs": [
    {
     "data": {
      "text/plain": [
       "123"
      ]
     },
     "execution_count": 339,
     "metadata": {},
     "output_type": "execute_result"
    }
   ],
   "source": [
    "walks.max()"
   ]
  },
  {
   "cell_type": "code",
   "execution_count": 340,
   "id": "a880d253-9d47-4d75-9f8f-a10e6cf384db",
   "metadata": {},
   "outputs": [
    {
     "data": {
      "text/plain": [
       "-127"
      ]
     },
     "execution_count": 340,
     "metadata": {},
     "output_type": "execute_result"
    }
   ],
   "source": [
    "walks.min()"
   ]
  },
  {
   "cell_type": "code",
   "execution_count": 341,
   "id": "1f83a874-b9be-46d2-be38-61819199222f",
   "metadata": {},
   "outputs": [
    {
     "data": {
      "text/plain": [
       "-127"
      ]
     },
     "execution_count": 341,
     "metadata": {},
     "output_type": "execute_result"
    }
   ],
   "source": [
    "walks.min()"
   ]
  },
  {
   "cell_type": "code",
   "execution_count": 343,
   "id": "0cf6ab8f-d922-47a9-a06e-46586048e04e",
   "metadata": {},
   "outputs": [
    {
     "data": {
      "text/plain": [
       "array([ True,  True, False, ...,  True,  True,  True])"
      ]
     },
     "execution_count": 343,
     "metadata": {},
     "output_type": "execute_result"
    }
   ],
   "source": [
    "hits30 = (np.abs(walks) >= 30).any(1)\n",
    "hits30"
   ]
  },
  {
   "cell_type": "code",
   "execution_count": 344,
   "id": "016d90dc-d63f-4997-b480-45aa5421cec1",
   "metadata": {},
   "outputs": [
    {
     "data": {
      "text/plain": [
       "3417"
      ]
     },
     "execution_count": 344,
     "metadata": {},
     "output_type": "execute_result"
    }
   ],
   "source": [
    "hits30.sum()"
   ]
  },
  {
   "cell_type": "code",
   "execution_count": 345,
   "id": "77751abe-cf95-4983-b2ad-a7081dac6594",
   "metadata": {},
   "outputs": [],
   "source": [
    "crossing_times = (np.abs(walks[hits30])>=30).argmax(1)"
   ]
  },
  {
   "cell_type": "code",
   "execution_count": 346,
   "id": "63d896d9-a154-4f1c-a99d-24a6c1cb0d56",
   "metadata": {},
   "outputs": [
    {
     "data": {
      "text/plain": [
       "500.49956101843725"
      ]
     },
     "execution_count": 346,
     "metadata": {},
     "output_type": "execute_result"
    }
   ],
   "source": [
    "crossing_times.mean()"
   ]
  },
  {
   "cell_type": "markdown",
   "id": "b0fd9ae5-091e-48c0-89b4-49064723f676",
   "metadata": {},
   "source": [
    "# 8교시"
   ]
  },
  {
   "cell_type": "code",
   "execution_count": 349,
   "id": "20a0ae66-3416-43ae-8fbc-eb3d741ba9c0",
   "metadata": {},
   "outputs": [
    {
     "data": {
      "text/plain": [
       "array([[ 0,  1,  2,  3,  4,  5,  6,  7,  8,  9],\n",
       "       [10, 11, 12, 13, 14, 15, 16, 17, 18, 19],\n",
       "       [20, 21, 22, 23, 24, 25, 26, 27, 28, 29],\n",
       "       [30, 31, 32, 33, 34, 35, 36, 37, 38, 39],\n",
       "       [40, 41, 42, 43, 44, 45, 46, 47, 48, 49],\n",
       "       [50, 51, 52, 53, 54, 55, 56, 57, 58, 59],\n",
       "       [60, 61, 62, 63, 64, 65, 66, 67, 68, 69],\n",
       "       [70, 71, 72, 73, 74, 75, 76, 77, 78, 79],\n",
       "       [80, 81, 82, 83, 84, 85, 86, 87, 88, 89],\n",
       "       [90, 91, 92, 93, 94, 95, 96, 97, 98, 99]])"
      ]
     },
     "execution_count": 349,
     "metadata": {},
     "output_type": "execute_result"
    }
   ],
   "source": [
    "arr = np.arange(100).reshape((10,10))\n",
    "arr"
   ]
  },
  {
   "cell_type": "code",
   "execution_count": 350,
   "id": "01dadf64-aae0-4f6e-ac8c-3866d79d61cd",
   "metadata": {},
   "outputs": [
    {
     "ename": "SyntaxError",
     "evalue": "invalid syntax (1852236231.py, line 1)",
     "output_type": "error",
     "traceback": [
      "\u001b[1;36m  Cell \u001b[1;32mIn[350], line 1\u001b[1;36m\u001b[0m\n\u001b[1;33m    arr 에서 4, 27 ,63, 95\u001b[0m\n\u001b[1;37m        ^\u001b[0m\n\u001b[1;31mSyntaxError\u001b[0m\u001b[1;31m:\u001b[0m invalid syntax\n"
     ]
    }
   ],
   "source": [
    "arr 에서 4, 27 ,63, 95 가 포함된 4x4 행렬 만들기"
   ]
  },
  {
   "cell_type": "code",
   "execution_count": 351,
   "id": "2607af49-3899-4e44-946a-9fe0b18c6234",
   "metadata": {},
   "outputs": [
    {
     "data": {
      "text/plain": [
       "array([ 4, 27, 63, 95])"
      ]
     },
     "execution_count": 351,
     "metadata": {},
     "output_type": "execute_result"
    }
   ],
   "source": [
    "arr[[0,2,6,9],[4,7,3,5]]"
   ]
  },
  {
   "cell_type": "code",
   "execution_count": 352,
   "id": "9b624e0c-4e4e-463b-aafc-65d0b751c929",
   "metadata": {},
   "outputs": [
    {
     "data": {
      "text/plain": [
       "array([[ 4,  7,  3,  5],\n",
       "       [24, 27, 23, 25],\n",
       "       [64, 67, 63, 65],\n",
       "       [94, 97, 93, 95]])"
      ]
     },
     "execution_count": 352,
     "metadata": {},
     "output_type": "execute_result"
    }
   ],
   "source": [
    "arr[[0,2,6,9]][:,[4,7,3,5]]"
   ]
  },
  {
   "cell_type": "code",
   "execution_count": null,
   "id": "64e38ace-c5df-44ff-9e48-891bcb52f631",
   "metadata": {},
   "outputs": [],
   "source": []
  }
 ],
 "metadata": {
  "kernelspec": {
   "display_name": "Python 3 (ipykernel)",
   "language": "python",
   "name": "python3"
  },
  "language_info": {
   "codemirror_mode": {
    "name": "ipython",
    "version": 3
   },
   "file_extension": ".py",
   "mimetype": "text/x-python",
   "name": "python",
   "nbconvert_exporter": "python",
   "pygments_lexer": "ipython3",
   "version": "3.10.9"
  }
 },
 "nbformat": 4,
 "nbformat_minor": 5
}
